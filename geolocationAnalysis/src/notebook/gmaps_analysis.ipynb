{
 "cells": [
  {
   "cell_type": "code",
   "execution_count": 1,
   "metadata": {},
   "outputs": [
    {
     "name": "stdout",
     "output_type": "stream",
     "text": [
      "Deploy Panel apps for free on Ploomber Cloud! Learn more: https://ploomber.io/s/signup\n"
     ]
    }
   ],
   "source": [
    "from dataclasses import dataclass, asdict\n",
    "import requests\n",
    "import time\n",
    "import duckdb\n",
    "import pandas as pd\n",
    "from configparser import ConfigParser\n",
    "import pgeocode\n",
    "\n",
    "%load_ext sql\n",
    "%config SqlMagic.displaylimit = 10"
   ]
  },
  {
   "cell_type": "code",
   "execution_count": 2,
   "metadata": {},
   "outputs": [
    {
     "data": {
      "text/plain": [
       "['../../.config']"
      ]
     },
     "execution_count": 2,
     "metadata": {},
     "output_type": "execute_result"
    }
   ],
   "source": [
    "config = ConfigParser()\n",
    "config.read(\"../../.config\")"
   ]
  },
  {
   "cell_type": "code",
   "execution_count": 3,
   "metadata": {},
   "outputs": [],
   "source": [
    "api_key = config['GoogleMaps']['API_KEY']\n",
    "base_url = config['GoogleMaps']['base_url']\n",
    "radius = 50000  # in meters\n",
    "place_type = 'shopping'  # Example place type\n",
    "address = 'Luxembourg City, Luxembourg'\n"
   ]
  },
  {
   "cell_type": "code",
   "execution_count": 12,
   "metadata": {},
   "outputs": [],
   "source": [
    "def format_coordinates(latitude, longitude):\n",
    "    return f\"{latitude},{longitude}\"\n",
    "\n",
    "def get_coordinates(api_key, address):\n",
    "    url = f\"https://maps.googleapis.com/maps/api/geocode/json?address={address}&key={api_key}\"\n",
    "    response = requests.get(url)\n",
    "    if response.status_code == 200:\n",
    "        data = response.json()\n",
    "        if data['status'] == 'OK':\n",
    "            location = data['results'][0]['geometry']['location']\n",
    "            return location['lat'], location['lng']\n",
    "        else:\n",
    "            print(f\"Error in response: {data['status']}\")\n",
    "            return None, None\n",
    "    else:\n",
    "        print(f\"HTTP error: {response.status_code}\")\n",
    "        return None, None\n",
    "\n",
    "\n"
   ]
  },
  {
   "cell_type": "code",
   "execution_count": null,
   "metadata": {},
   "outputs": [],
   "source": [
    "\n",
    "latitude, longitude = get_coordinates(API_KEY, address)\n",
    "\n",
    "if latitude and longitude:\n",
    "    formatted_location = format_coordinates(latitude, longitude)\n",
    "    # print(formatted_location)  # Output will be the coordinates of Luxembourg City\n",
    "else:\n",
    "    print(\"Could not retrieve coordinates.\")"
   ]
  },
  {
   "cell_type": "code",
   "execution_count": null,
   "metadata": {},
   "outputs": [],
   "source": [
    "# url = f\"https://maps.googleapis.com/maps/api/place/nearbysearch/json?location={formatted_location}&radius={radius}&key={API_KEY}\"\n",
    "url = f\"https://maps.googleapis.com/maps/api/place/nearbysearch/json?location={formatted_location}&radius={radius}&type={place_type}&key={API_KEY}\"\n",
    "\n",
    "response = requests.get(url)\n",
    "places = response.json()\n",
    "\n",
    "for place in places['results']:\n",
    "    print(f\"Name: {place['name']}\")\n",
    "    print(f\"Address: {place.get('vicinity', 'N/A')}\")\n",
    "    print(f\"Place ID: {place['place_id']}\")\n",
    "    print('---')\n"
   ]
  },
  {
   "cell_type": "code",
   "execution_count": 14,
   "metadata": {},
   "outputs": [
    {
     "name": "stdout",
     "output_type": "stream",
     "text": [
      "Name: Hôtel Parc Belle-Vue\n",
      "Address: 5 Av. Marie-Thérèse, 2132 Hollerich Luxembourg\n",
      "Phone Number: 45 61 41 1\n",
      "Website: https://www.goereshotels.com/belle-vue-en/\n"
     ]
    }
   ],
   "source": [
    "place_id = 'ChIJ3e9sj9VIlUcRUU6bnYZ2tcE'  # Example place ID\n",
    "\n",
    "details_url = f\"https://maps.googleapis.com/maps/api/place/details/json?place_id={place_id}&key={API_KEY}\"\n",
    "\n",
    "details_response = requests.get(details_url)\n",
    "place_details = details_response.json()\n",
    "\n",
    "\n",
    "print(f\"Name: {place_details['result']['name']}\")\n",
    "print(f\"Address: {place_details['result']['formatted_address']}\")\n",
    "print(f\"Phone Number: {place_details['result'].get('formatted_phone_number', 'N/A')}\")\n",
    "print(f\"Website: {place_details['result'].get('website', 'N/A')}\")\n"
   ]
  },
  {
   "cell_type": "code",
   "execution_count": 7,
   "metadata": {},
   "outputs": [],
   "source": [
    "# Connect to DuckDB\n",
    "# con = duckdb.connect('places.db')\n",
    "# df = con.execute('SELECT * FROM places').fetchdf()"
   ]
  },
  {
   "cell_type": "code",
   "execution_count": 3,
   "metadata": {},
   "outputs": [],
   "source": [
    "conn = duckdb.connect('../../data/raw/database.db')\n",
    "%sql conn --alias duckdb"
   ]
  },
  {
   "cell_type": "code",
   "execution_count": 4,
   "metadata": {},
   "outputs": [
    {
     "data": {
      "text/html": [
       "<span style=\"None\">Running query in &#x27;duckdb&#x27;</span>"
      ],
      "text/plain": [
       "Running query in 'duckdb'"
      ]
     },
     "metadata": {},
     "output_type": "display_data"
    },
    {
     "data": {
      "text/html": [
       "<table>\n",
       "    <thead>\n",
       "        <tr>\n",
       "            <th>column_name</th>\n",
       "        </tr>\n",
       "    </thead>\n",
       "    <tbody>\n",
       "        <tr>\n",
       "            <td>place_id</td>\n",
       "        </tr>\n",
       "        <tr>\n",
       "            <td>name</td>\n",
       "        </tr>\n",
       "        <tr>\n",
       "            <td>vicinity</td>\n",
       "        </tr>\n",
       "        <tr>\n",
       "            <td>latitude</td>\n",
       "        </tr>\n",
       "        <tr>\n",
       "            <td>longitude</td>\n",
       "        </tr>\n",
       "    </tbody>\n",
       "</table>"
      ],
      "text/plain": [
       "+-------------+\n",
       "| column_name |\n",
       "+-------------+\n",
       "|   place_id  |\n",
       "|     name    |\n",
       "|   vicinity  |\n",
       "|   latitude  |\n",
       "|  longitude  |\n",
       "+-------------+"
      ]
     },
     "execution_count": 4,
     "metadata": {},
     "output_type": "execute_result"
    }
   ],
   "source": [
    "%%sql\n",
    "select column_name from  information_schema.columns\n",
    "where table_name = 'places';"
   ]
  },
  {
   "cell_type": "code",
   "execution_count": 5,
   "metadata": {},
   "outputs": [
    {
     "data": {
      "text/html": [
       "<span style=\"None\">Running query in &#x27;duckdb&#x27;</span>"
      ],
      "text/plain": [
       "Running query in 'duckdb'"
      ]
     },
     "metadata": {},
     "output_type": "display_data"
    },
    {
     "data": {
      "text/html": [
       "<table>\n",
       "    <thead>\n",
       "        <tr>\n",
       "            <th>adminCode</th>\n",
       "            <th>longitude</th>\n",
       "            <th>geonameId</th>\n",
       "            <th>toponymName</th>\n",
       "            <th>countryId</th>\n",
       "            <th>fcl</th>\n",
       "            <th>population</th>\n",
       "            <th>countryCode</th>\n",
       "            <th>name</th>\n",
       "            <th>fclName</th>\n",
       "            <th>adminCodes</th>\n",
       "            <th>countryName</th>\n",
       "            <th>fcodeName</th>\n",
       "            <th>adminName</th>\n",
       "            <th>latitude</th>\n",
       "            <th>fcode</th>\n",
       "        </tr>\n",
       "    </thead>\n",
       "    <tbody>\n",
       "        <tr>\n",
       "            <td>ES</td>\n",
       "            <td>6.01278018951416</td>\n",
       "            <td>2960102</td>\n",
       "            <td>Schifflange</td>\n",
       "            <td>2960313.0</td>\n",
       "            <td>P</td>\n",
       "            <td>8155.0</td>\n",
       "            <td>LU</td>\n",
       "            <td>Schifflange</td>\n",
       "            <td>city, village,...</td>\n",
       "            <td>{'ISO3166_2': ES}</td>\n",
       "            <td>Luxembourg</td>\n",
       "            <td>seat of a third-order administrative division</td>\n",
       "            <td>Esch-sur-Alzette</td>\n",
       "            <td>49.50638961791992</td>\n",
       "            <td>PPLA3</td>\n",
       "        </tr>\n",
       "        <tr>\n",
       "            <td>VD</td>\n",
       "            <td>6.208889961242676</td>\n",
       "            <td>2960021</td>\n",
       "            <td>Vianden</td>\n",
       "            <td>2960313.0</td>\n",
       "            <td>P</td>\n",
       "            <td>1626.0</td>\n",
       "            <td>LU</td>\n",
       "            <td>Vianden</td>\n",
       "            <td>city, village,...</td>\n",
       "            <td>{'ISO3166_2': VD}</td>\n",
       "            <td>Luxembourg</td>\n",
       "            <td>seat of a second-order administrative division</td>\n",
       "            <td>Vianden</td>\n",
       "            <td>49.935001373291016</td>\n",
       "            <td>PPLA2</td>\n",
       "        </tr>\n",
       "        <tr>\n",
       "            <td>ES</td>\n",
       "            <td>6.042220115661621</td>\n",
       "            <td>2960042</td>\n",
       "            <td>Tétange</td>\n",
       "            <td>2960313.0</td>\n",
       "            <td>P</td>\n",
       "            <td>2929.0</td>\n",
       "            <td>LU</td>\n",
       "            <td>Tétange</td>\n",
       "            <td>city, village,...</td>\n",
       "            <td>{'ISO3166_2': ES}</td>\n",
       "            <td>Luxembourg</td>\n",
       "            <td>populated place</td>\n",
       "            <td>Esch-sur-Alzette</td>\n",
       "            <td>49.475830078125</td>\n",
       "            <td>PPL</td>\n",
       "        </tr>\n",
       "        <tr>\n",
       "            <td>ES</td>\n",
       "            <td>5.893060207366943</td>\n",
       "            <td>2960228</td>\n",
       "            <td>Niedercorn</td>\n",
       "            <td>2960313.0</td>\n",
       "            <td>P</td>\n",
       "            <td>3164.0</td>\n",
       "            <td>LU</td>\n",
       "            <td>Niedercorn</td>\n",
       "            <td>city, village,...</td>\n",
       "            <td>{'ISO3166_2': ES}</td>\n",
       "            <td>Luxembourg</td>\n",
       "            <td>section of populated place</td>\n",
       "            <td>Esch-sur-Alzette</td>\n",
       "            <td>49.536109924316406</td>\n",
       "            <td>PPLX</td>\n",
       "        </tr>\n",
       "        <tr>\n",
       "            <td>LU</td>\n",
       "            <td>6.130000114440918</td>\n",
       "            <td>2960250</td>\n",
       "            <td>Müllendorf</td>\n",
       "            <td>2960313.0</td>\n",
       "            <td>P</td>\n",
       "            <td>1024.0</td>\n",
       "            <td>LU</td>\n",
       "            <td>Müllendorf</td>\n",
       "            <td>city, village,...</td>\n",
       "            <td>{'ISO3166_2': LU}</td>\n",
       "            <td>Luxembourg</td>\n",
       "            <td>populated place</td>\n",
       "            <td>Luxembourg</td>\n",
       "            <td>49.68027877807617</td>\n",
       "            <td>PPL</td>\n",
       "        </tr>\n",
       "        <tr>\n",
       "            <td>ES</td>\n",
       "            <td>6.065279960632324</td>\n",
       "            <td>2960335</td>\n",
       "            <td>Leudelange</td>\n",
       "            <td>2960313.0</td>\n",
       "            <td>P</td>\n",
       "            <td>1924.0</td>\n",
       "            <td>LU</td>\n",
       "            <td>Leudelange</td>\n",
       "            <td>city, village,...</td>\n",
       "            <td>{'ISO3166_2': ES}</td>\n",
       "            <td>Luxembourg</td>\n",
       "            <td>seat of a third-order administrative division</td>\n",
       "            <td>Esch-sur-Alzette</td>\n",
       "            <td>49.568328857421875</td>\n",
       "            <td>PPLA3</td>\n",
       "        </tr>\n",
       "        <tr>\n",
       "            <td>LU</td>\n",
       "            <td>6.142020225524902</td>\n",
       "            <td>2960472</td>\n",
       "            <td>Heisdorf</td>\n",
       "            <td>2960313.0</td>\n",
       "            <td>P</td>\n",
       "            <td>1586.0</td>\n",
       "            <td>LU</td>\n",
       "            <td>Heisdorf</td>\n",
       "            <td>city, village,...</td>\n",
       "            <td>{'ISO3166_2': LU}</td>\n",
       "            <td>Luxembourg</td>\n",
       "            <td>populated place</td>\n",
       "            <td>Luxembourg</td>\n",
       "            <td>49.67206954956055</td>\n",
       "            <td>PPL</td>\n",
       "        </tr>\n",
       "        <tr>\n",
       "            <td>CA</td>\n",
       "            <td>5.9096999168396</td>\n",
       "            <td>2960485</td>\n",
       "            <td>Hautcharage</td>\n",
       "            <td>2960313.0</td>\n",
       "            <td>P</td>\n",
       "            <td>1495.0</td>\n",
       "            <td>LU</td>\n",
       "            <td>Hautcharage</td>\n",
       "            <td>city, village,...</td>\n",
       "            <td>{'ISO3166_2': CA}</td>\n",
       "            <td>Luxembourg</td>\n",
       "            <td>populated place</td>\n",
       "            <td>Capellen</td>\n",
       "            <td>49.574989318847656</td>\n",
       "            <td>PPL</td>\n",
       "        </tr>\n",
       "        <tr>\n",
       "            <td>LU</td>\n",
       "            <td>6.153890132904053</td>\n",
       "            <td>2960584</td>\n",
       "            <td>Fentange</td>\n",
       "            <td>2960313.0</td>\n",
       "            <td>P</td>\n",
       "            <td>1302.0</td>\n",
       "            <td>LU</td>\n",
       "            <td>Fentange</td>\n",
       "            <td>city, village,...</td>\n",
       "            <td>{'ISO3166_2': LU}</td>\n",
       "            <td>Luxembourg</td>\n",
       "            <td>populated place</td>\n",
       "            <td>Luxembourg</td>\n",
       "            <td>49.56277847290039</td>\n",
       "            <td>PPL</td>\n",
       "        </tr>\n",
       "        <tr>\n",
       "            <td>CL</td>\n",
       "            <td>6.031390190124512</td>\n",
       "            <td>2960684</td>\n",
       "            <td>Clervaux</td>\n",
       "            <td>2960313.0</td>\n",
       "            <td>P</td>\n",
       "            <td>1103.0</td>\n",
       "            <td>LU</td>\n",
       "            <td>Clervaux</td>\n",
       "            <td>city, village,...</td>\n",
       "            <td>{'ISO3166_2': CL}</td>\n",
       "            <td>Luxembourg</td>\n",
       "            <td>seat of a second-order administrative division</td>\n",
       "            <td>Clervaux</td>\n",
       "            <td>50.05472183227539</td>\n",
       "            <td>PPLA2</td>\n",
       "        </tr>\n",
       "    </tbody>\n",
       "</table>"
      ],
      "text/plain": [
       "+-----------+-------------------+-----------+-------------+-----------+-----+------------+-------------+-------------+-------------------+-------------------+-------------+------------------------------------------------+------------------+--------------------+-------+\n",
       "| adminCode |     longitude     | geonameId | toponymName | countryId | fcl | population | countryCode |     name    |      fclName      |     adminCodes    | countryName |                   fcodeName                    |    adminName     |      latitude      | fcode |\n",
       "+-----------+-------------------+-----------+-------------+-----------+-----+------------+-------------+-------------+-------------------+-------------------+-------------+------------------------------------------------+------------------+--------------------+-------+\n",
       "|     ES    |  6.01278018951416 |  2960102  | Schifflange | 2960313.0 |  P  |   8155.0   |      LU     | Schifflange | city, village,... | {'ISO3166_2': ES} |  Luxembourg | seat of a third-order administrative division  | Esch-sur-Alzette | 49.50638961791992  | PPLA3 |\n",
       "|     VD    | 6.208889961242676 |  2960021  |   Vianden   | 2960313.0 |  P  |   1626.0   |      LU     |   Vianden   | city, village,... | {'ISO3166_2': VD} |  Luxembourg | seat of a second-order administrative division |     Vianden      | 49.935001373291016 | PPLA2 |\n",
       "|     ES    | 6.042220115661621 |  2960042  |   Tétange   | 2960313.0 |  P  |   2929.0   |      LU     |   Tétange   | city, village,... | {'ISO3166_2': ES} |  Luxembourg |                populated place                 | Esch-sur-Alzette |  49.475830078125   |  PPL  |\n",
       "|     ES    | 5.893060207366943 |  2960228  |  Niedercorn | 2960313.0 |  P  |   3164.0   |      LU     |  Niedercorn | city, village,... | {'ISO3166_2': ES} |  Luxembourg |           section of populated place           | Esch-sur-Alzette | 49.536109924316406 |  PPLX |\n",
       "|     LU    | 6.130000114440918 |  2960250  |  Müllendorf | 2960313.0 |  P  |   1024.0   |      LU     |  Müllendorf | city, village,... | {'ISO3166_2': LU} |  Luxembourg |                populated place                 |    Luxembourg    | 49.68027877807617  |  PPL  |\n",
       "|     ES    | 6.065279960632324 |  2960335  |  Leudelange | 2960313.0 |  P  |   1924.0   |      LU     |  Leudelange | city, village,... | {'ISO3166_2': ES} |  Luxembourg | seat of a third-order administrative division  | Esch-sur-Alzette | 49.568328857421875 | PPLA3 |\n",
       "|     LU    | 6.142020225524902 |  2960472  |   Heisdorf  | 2960313.0 |  P  |   1586.0   |      LU     |   Heisdorf  | city, village,... | {'ISO3166_2': LU} |  Luxembourg |                populated place                 |    Luxembourg    | 49.67206954956055  |  PPL  |\n",
       "|     CA    |  5.9096999168396  |  2960485  | Hautcharage | 2960313.0 |  P  |   1495.0   |      LU     | Hautcharage | city, village,... | {'ISO3166_2': CA} |  Luxembourg |                populated place                 |     Capellen     | 49.574989318847656 |  PPL  |\n",
       "|     LU    | 6.153890132904053 |  2960584  |   Fentange  | 2960313.0 |  P  |   1302.0   |      LU     |   Fentange  | city, village,... | {'ISO3166_2': LU} |  Luxembourg |                populated place                 |    Luxembourg    | 49.56277847290039  |  PPL  |\n",
       "|     CL    | 6.031390190124512 |  2960684  |   Clervaux  | 2960313.0 |  P  |   1103.0   |      LU     |   Clervaux  | city, village,... | {'ISO3166_2': CL} |  Luxembourg | seat of a second-order administrative division |     Clervaux     | 50.05472183227539  | PPLA2 |\n",
       "+-----------+-------------------+-----------+-------------+-----------+-----+------------+-------------+-------------+-------------------+-------------------+-------------+------------------------------------------------+------------------+--------------------+-------+"
      ]
     },
     "execution_count": 5,
     "metadata": {},
     "output_type": "execute_result"
    }
   ],
   "source": [
    "%%sql\n",
    "select * from geonames\n",
    "limit 10"
   ]
  },
  {
   "cell_type": "code",
   "execution_count": 6,
   "metadata": {},
   "outputs": [
    {
     "data": {
      "text/html": [
       "<span style=\"None\">Running query in &#x27;duckdb&#x27;</span>"
      ],
      "text/plain": [
       "Running query in 'duckdb'"
      ]
     },
     "metadata": {},
     "output_type": "display_data"
    },
    {
     "data": {
      "text/html": [
       "<table>\n",
       "    <thead>\n",
       "        <tr>\n",
       "            <th>name</th>\n",
       "        </tr>\n",
       "    </thead>\n",
       "    <tbody>\n",
       "        <tr>\n",
       "            <td>geonames</td>\n",
       "        </tr>\n",
       "        <tr>\n",
       "            <td>place_details</td>\n",
       "        </tr>\n",
       "        <tr>\n",
       "            <td>places</td>\n",
       "        </tr>\n",
       "    </tbody>\n",
       "</table>"
      ],
      "text/plain": [
       "+---------------+\n",
       "|      name     |\n",
       "+---------------+\n",
       "|    geonames   |\n",
       "| place_details |\n",
       "|     places    |\n",
       "+---------------+"
      ]
     },
     "execution_count": 6,
     "metadata": {},
     "output_type": "execute_result"
    }
   ],
   "source": [
    "%%sql\n",
    "show tables;\n",
    "# show placedetail;"
   ]
  },
  {
   "cell_type": "code",
   "execution_count": 14,
   "metadata": {},
   "outputs": [
    {
     "data": {
      "text/html": [
       "<span style=\"None\">Running query in &#x27;duckdb&#x27;</span>"
      ],
      "text/plain": [
       "Running query in 'duckdb'"
      ]
     },
     "metadata": {},
     "output_type": "display_data"
    },
    {
     "data": {
      "text/html": [
       "<table>\n",
       "    <thead>\n",
       "        <tr>\n",
       "            <th>place_id</th>\n",
       "            <th>name</th>\n",
       "            <th>address</th>\n",
       "            <th>phoneNumber</th>\n",
       "            <th>website</th>\n",
       "        </tr>\n",
       "    </thead>\n",
       "    <tbody>\n",
       "        <tr>\n",
       "            <td>ChIJ5zyJKMRIlUcREbq-zdfRACY</td>\n",
       "            <td>Bonnevoie</td>\n",
       "            <td>2543 Bonnevoie Luxembourg</td>\n",
       "            <td>N/A</td>\n",
       "            <td>N/A</td>\n",
       "        </tr>\n",
       "        <tr>\n",
       "            <td>ChIJ_zmShNpIlUcRktD5HEzEJPk</td>\n",
       "            <td>Apart1hotel</td>\n",
       "            <td>3 Rue d'Épernay, 1490 Gare Luxembourg</td>\n",
       "            <td>48 52 52</td>\n",
       "            <td>N/A</td>\n",
       "        </tr>\n",
       "        <tr>\n",
       "            <td>ChIJocM80ZRIlUcRxxjAWnNIgJg</td>\n",
       "            <td>Hôtel-Restaurant Chez Anna et Jean</td>\n",
       "            <td>248 Rte de Thionville, 2610 Howald Hesperange, Luxembourg</td>\n",
       "            <td>48 21 69</td>\n",
       "            <td>N/A</td>\n",
       "        </tr>\n",
       "        <tr>\n",
       "            <td>ChIJn58nGChJlUcRVB4IkwnibaE</td>\n",
       "            <td>Hôtel Piemont</td>\n",
       "            <td>56 Rte d'Esch 58, 1470 Hollerich Luxembourg</td>\n",
       "            <td>25 42 01 1</td>\n",
       "            <td>N/A</td>\n",
       "        </tr>\n",
       "        <tr>\n",
       "            <td>ChIJQ6jdtSxPlUcRUJtbl6OTXoQ</td>\n",
       "            <td>Guillaume Suites</td>\n",
       "            <td>24 Rue du Cure, 1368 Ville-Haute Luxembourg</td>\n",
       "            <td>26 97 62 88</td>\n",
       "            <td>N/A</td>\n",
       "        </tr>\n",
       "        <tr>\n",
       "            <td>ChIJFwSkm-A0lUcRiTjKcG4oLTE</td>\n",
       "            <td>Eximport SA</td>\n",
       "            <td>3-20 Rue Caspar-Mathias Spoo, 4323 Esch-sur-Alzette, Luxembourg</td>\n",
       "            <td>53 14 50</td>\n",
       "            <td>N/A</td>\n",
       "        </tr>\n",
       "        <tr>\n",
       "            <td>ChIJh_lifSkllUcRd8kaRBqNr6c</td>\n",
       "            <td>Thionville</td>\n",
       "            <td>57100 Thionville, France</td>\n",
       "            <td>N/A</td>\n",
       "            <td>N/A</td>\n",
       "        </tr>\n",
       "        <tr>\n",
       "            <td>ChIJLcN7meA0lUcRtaBDivzB56g</td>\n",
       "            <td>IAP Immobilier Sàrl</td>\n",
       "            <td>2 Rue Caspar-Mathias Spoo, 4323 Esch-sur-Alzette, Luxembourg</td>\n",
       "            <td>53 19 40</td>\n",
       "            <td>N/A</td>\n",
       "        </tr>\n",
       "        <tr>\n",
       "            <td>ChIJn2-lyBo1lUcRnZ4RyRzvflM</td>\n",
       "            <td>Hosteria Gusto</td>\n",
       "            <td>145 Rue de Luxembourg, 4221 Esch-sur-Alzette, Luxembourg</td>\n",
       "            <td>26 17 87</td>\n",
       "            <td>N/A</td>\n",
       "        </tr>\n",
       "        <tr>\n",
       "            <td>ChIJpRwWwOI0lUcROtfqiAjlwFc</td>\n",
       "            <td>Standard Rooms in Center Esch-Alzette</td>\n",
       "            <td>44 Boulevard J-F Kennedy Esch-sur-Alzette Esch-sur-Alzette, 4071 Esch-sur-Alzette, Luxembourg</td>\n",
       "            <td>621 423 586</td>\n",
       "            <td>N/A</td>\n",
       "        </tr>\n",
       "    </tbody>\n",
       "</table>\n",
       "<span style=\"font-style:italic;text-align:center;\">Truncated to <a href=\"https://jupysql.ploomber.io/en/latest/api/configuration.html#displaylimit\">displaylimit</a> of 10.</span>"
      ],
      "text/plain": [
       "+-----------------------------+---------------------------------------+-----------------------------------------------------------------------------------------------+-------------+---------+\n",
       "|           place_id          |                  name                 |                                            address                                            | phoneNumber | website |\n",
       "+-----------------------------+---------------------------------------+-----------------------------------------------------------------------------------------------+-------------+---------+\n",
       "| ChIJ5zyJKMRIlUcREbq-zdfRACY |               Bonnevoie               |                                   2543 Bonnevoie Luxembourg                                   |     N/A     |   N/A   |\n",
       "| ChIJ_zmShNpIlUcRktD5HEzEJPk |              Apart1hotel              |                             3 Rue d'Épernay, 1490 Gare Luxembourg                             |   48 52 52  |   N/A   |\n",
       "| ChIJocM80ZRIlUcRxxjAWnNIgJg |   Hôtel-Restaurant Chez Anna et Jean  |                   248 Rte de Thionville, 2610 Howald Hesperange, Luxembourg                   |   48 21 69  |   N/A   |\n",
       "| ChIJn58nGChJlUcRVB4IkwnibaE |             Hôtel Piemont             |                          56 Rte d'Esch 58, 1470 Hollerich Luxembourg                          |  25 42 01 1 |   N/A   |\n",
       "| ChIJQ6jdtSxPlUcRUJtbl6OTXoQ |            Guillaume Suites           |                          24 Rue du Cure, 1368 Ville-Haute Luxembourg                          | 26 97 62 88 |   N/A   |\n",
       "| ChIJFwSkm-A0lUcRiTjKcG4oLTE |              Eximport SA              |                3-20 Rue Caspar-Mathias Spoo, 4323 Esch-sur-Alzette, Luxembourg                |   53 14 50  |   N/A   |\n",
       "| ChIJh_lifSkllUcRd8kaRBqNr6c |               Thionville              |                                    57100 Thionville, France                                   |     N/A     |   N/A   |\n",
       "| ChIJLcN7meA0lUcRtaBDivzB56g |          IAP Immobilier Sàrl          |                  2 Rue Caspar-Mathias Spoo, 4323 Esch-sur-Alzette, Luxembourg                 |   53 19 40  |   N/A   |\n",
       "| ChIJn2-lyBo1lUcRnZ4RyRzvflM |             Hosteria Gusto            |                    145 Rue de Luxembourg, 4221 Esch-sur-Alzette, Luxembourg                   |   26 17 87  |   N/A   |\n",
       "| ChIJpRwWwOI0lUcROtfqiAjlwFc | Standard Rooms in Center Esch-Alzette | 44 Boulevard J-F Kennedy Esch-sur-Alzette Esch-sur-Alzette, 4071 Esch-sur-Alzette, Luxembourg | 621 423 586 |   N/A   |\n",
       "+-----------------------------+---------------------------------------+-----------------------------------------------------------------------------------------------+-------------+---------+\n",
       "Truncated to displaylimit of 10."
      ]
     },
     "execution_count": 14,
     "metadata": {},
     "output_type": "execute_result"
    }
   ],
   "source": [
    "%%sql\n",
    "\n",
    "select * from place_details where website = 'N/A'"
   ]
  },
  {
   "cell_type": "code",
   "execution_count": 15,
   "metadata": {},
   "outputs": [
    {
     "data": {
      "text/html": [
       "<span style=\"None\">Running query in &#x27;duckdb&#x27;</span>"
      ],
      "text/plain": [
       "Running query in 'duckdb'"
      ]
     },
     "metadata": {},
     "output_type": "display_data"
    },
    {
     "data": {
      "text/html": [
       "<table>\n",
       "    <thead>\n",
       "        <tr>\n",
       "            <th>place_id</th>\n",
       "            <th>name</th>\n",
       "            <th>vicinity</th>\n",
       "            <th>latitude</th>\n",
       "            <th>longitude</th>\n",
       "        </tr>\n",
       "    </thead>\n",
       "    <tbody>\n",
       "        <tr>\n",
       "            <td>ChIJQVrlNdNIlUcRa3v0FrkGQ-g</td>\n",
       "            <td>Hotel Vauban</td>\n",
       "            <td>10 Place Guillaume II, Luxembourg</td>\n",
       "            <td>49.610939025878906</td>\n",
       "            <td>6.130640983581543</td>\n",
       "        </tr>\n",
       "        <tr>\n",
       "            <td>ChIJld6G1ClPlUcRbXoEwx9_WUs</td>\n",
       "            <td>Best Western Plus</td>\n",
       "            <td>3 Avenue Victor Hugo, Luxembourg</td>\n",
       "            <td>49.61863327026367</td>\n",
       "            <td>6.124682426452637</td>\n",
       "        </tr>\n",
       "        <tr>\n",
       "            <td>ChIJydDhxCtJlUcR5peH7n21z_s</td>\n",
       "            <td>Key Inn Appart-Hôtels</td>\n",
       "            <td>42 Rue Albert Ier, Luxembourg</td>\n",
       "            <td>49.60702133178711</td>\n",
       "            <td>6.117996692657471</td>\n",
       "        </tr>\n",
       "        <tr>\n",
       "            <td>ChIJRa7IM8xIlUcRhHTQl-qHjGw</td>\n",
       "            <td>Sofitel Luxembourg Le Grand Ducal</td>\n",
       "            <td>35 Rue du Laboratoire, Luxembourg</td>\n",
       "            <td>49.60520553588867</td>\n",
       "            <td>6.137516021728516</td>\n",
       "        </tr>\n",
       "        <tr>\n",
       "            <td>ChIJtfDL09dOlUcRXrGfmsSYdq4</td>\n",
       "            <td>Domus Hotel</td>\n",
       "            <td>37 Avenue Monterey, Luxembourg</td>\n",
       "            <td>49.61027145385742</td>\n",
       "            <td>6.125014781951904</td>\n",
       "        </tr>\n",
       "        <tr>\n",
       "            <td>ChIJ9eUmbdBIlUcROI0fItQ-iU4</td>\n",
       "            <td>Hotel Bristol</td>\n",
       "            <td>11 Rue de Strasbourg, Luxembourg</td>\n",
       "            <td>49.60121154785156</td>\n",
       "            <td>6.131739139556885</td>\n",
       "        </tr>\n",
       "        <tr>\n",
       "            <td>ChIJPbh1USpIlUcRfNU4CkNDobY</td>\n",
       "            <td>ibis budget Luxembourg Sud</td>\n",
       "            <td>Rue de Turi</td>\n",
       "            <td>49.53246307373047</td>\n",
       "            <td>6.111510753631592</td>\n",
       "        </tr>\n",
       "        <tr>\n",
       "            <td>ChIJF0RByupIlUcRGSeVG5gFzm4</td>\n",
       "            <td>Restaurant-Pizzeria-Auberge La Véranda</td>\n",
       "            <td>175 Route de Thionville</td>\n",
       "            <td>49.58829116821289</td>\n",
       "            <td>6.142622470855713</td>\n",
       "        </tr>\n",
       "        <tr>\n",
       "            <td>ChIJVyzznc1IlUcREG0F0dbRAAQ</td>\n",
       "            <td>Luxembourg</td>\n",
       "            <td>Luxembourg</td>\n",
       "            <td>49.61162185668945</td>\n",
       "            <td>6.131934642791748</td>\n",
       "        </tr>\n",
       "        <tr>\n",
       "            <td>ChIJiVm9mNZFlUcR1lpH199XBOA</td>\n",
       "            <td>Hôtel Empire</td>\n",
       "            <td>34 Place de la Gare, Luxembourg</td>\n",
       "            <td>49.59960174560547</td>\n",
       "            <td>6.1327948570251465</td>\n",
       "        </tr>\n",
       "    </tbody>\n",
       "</table>\n",
       "<span style=\"font-style:italic;text-align:center;\">Truncated to <a href=\"https://jupysql.ploomber.io/en/latest/api/configuration.html#displaylimit\">displaylimit</a> of 10.</span>"
      ],
      "text/plain": [
       "+-----------------------------+----------------------------------------+-----------------------------------+--------------------+--------------------+\n",
       "|           place_id          |                  name                  |              vicinity             |      latitude      |     longitude      |\n",
       "+-----------------------------+----------------------------------------+-----------------------------------+--------------------+--------------------+\n",
       "| ChIJQVrlNdNIlUcRa3v0FrkGQ-g |              Hotel Vauban              | 10 Place Guillaume II, Luxembourg | 49.610939025878906 | 6.130640983581543  |\n",
       "| ChIJld6G1ClPlUcRbXoEwx9_WUs |           Best Western Plus            |  3 Avenue Victor Hugo, Luxembourg | 49.61863327026367  | 6.124682426452637  |\n",
       "| ChIJydDhxCtJlUcR5peH7n21z_s |         Key Inn Appart-Hôtels          |   42 Rue Albert Ier, Luxembourg   | 49.60702133178711  | 6.117996692657471  |\n",
       "| ChIJRa7IM8xIlUcRhHTQl-qHjGw |   Sofitel Luxembourg Le Grand Ducal    | 35 Rue du Laboratoire, Luxembourg | 49.60520553588867  | 6.137516021728516  |\n",
       "| ChIJtfDL09dOlUcRXrGfmsSYdq4 |              Domus Hotel               |   37 Avenue Monterey, Luxembourg  | 49.61027145385742  | 6.125014781951904  |\n",
       "| ChIJ9eUmbdBIlUcROI0fItQ-iU4 |             Hotel Bristol              |  11 Rue de Strasbourg, Luxembourg | 49.60121154785156  | 6.131739139556885  |\n",
       "| ChIJPbh1USpIlUcRfNU4CkNDobY |       ibis budget Luxembourg Sud       |            Rue de Turi            | 49.53246307373047  | 6.111510753631592  |\n",
       "| ChIJF0RByupIlUcRGSeVG5gFzm4 | Restaurant-Pizzeria-Auberge La Véranda |      175 Route de Thionville      | 49.58829116821289  | 6.142622470855713  |\n",
       "| ChIJVyzznc1IlUcREG0F0dbRAAQ |               Luxembourg               |             Luxembourg            | 49.61162185668945  | 6.131934642791748  |\n",
       "| ChIJiVm9mNZFlUcR1lpH199XBOA |              Hôtel Empire              |  34 Place de la Gare, Luxembourg  | 49.59960174560547  | 6.1327948570251465 |\n",
       "+-----------------------------+----------------------------------------+-----------------------------------+--------------------+--------------------+\n",
       "Truncated to displaylimit of 10."
      ]
     },
     "execution_count": 15,
     "metadata": {},
     "output_type": "execute_result"
    }
   ],
   "source": [
    "%%sql\n",
    "\n",
    "select * from places"
   ]
  },
  {
   "cell_type": "code",
   "execution_count": 8,
   "metadata": {},
   "outputs": [],
   "source": [
    "# con.close()\n",
    "conn.close()"
   ]
  },
  {
   "cell_type": "code",
   "execution_count": 13,
   "metadata": {},
   "outputs": [],
   "source": [
    "formatted_location = format_coordinates(49.611671447753906, 6.130000114440918)"
   ]
  },
  {
   "cell_type": "code",
   "execution_count": 14,
   "metadata": {},
   "outputs": [],
   "source": [
    "url = f\"https://maps.googleapis.com/maps/api/place/nearbysearch/json?location={formatted_location}&radius={radius}&key={API_KEY}\"\n",
    "\n",
    "response = requests.get(url)\n",
    "places = response.json()"
   ]
  },
  {
   "cell_type": "code",
   "execution_count": null,
   "metadata": {},
   "outputs": [],
   "source": [
    "places[\"results\"]"
   ]
  },
  {
   "cell_type": "code",
   "execution_count": 17,
   "metadata": {},
   "outputs": [],
   "source": [
    "\n",
    "@dataclass\n",
    "class Place:\n",
    "    place_id: str\n",
    "    name: str\n",
    "    vicinity: str\n",
    "    latitude: float\n",
    "    longitude: float"
   ]
  },
  {
   "cell_type": "code",
   "execution_count": 18,
   "metadata": {},
   "outputs": [],
   "source": [
    "def convert_to_place(result: dict) -> Place:\n",
    "    \"\"\"\n",
    "    Convert a Google Maps API result to a Place object.\n",
    "\n",
    "    Args:\n",
    "        result (dict): The result dictionary from the Google Maps API.\n",
    "\n",
    "    Returns:\n",
    "        Place: A Place object representing the place.\n",
    "    \"\"\"\n",
    "    place_id = result[\"place_id\"]\n",
    "    name = result[\"name\"]\n",
    "    vicinity = result.get(\"vicinity\", \"N/A\")\n",
    "    latitude = result[\"geometry\"][\"location\"][\"lat\"]\n",
    "    longitude = result[\"geometry\"][\"location\"][\"lng\"]\n",
    "    return Place(place_id, name, vicinity, latitude, longitude)"
   ]
  },
  {
   "cell_type": "code",
   "execution_count": 25,
   "metadata": {},
   "outputs": [],
   "source": [
    "def get_all_places(location: str, radius: int):\n",
    "        \"\"\"\n",
    "        Fetch all places within a given radius of a location.\n",
    "\n",
    "        Args:\n",
    "            location (str): The location to search around, in the format \"latitude,longitude\".\n",
    "            radius (int): The radius in meters to search within.\n",
    "\n",
    "        Returns:\n",
    "            List[Place]: A list of Place objects representing the nearby places.\n",
    "        \"\"\"\n",
    "        all_places = []\n",
    "        url = f\"{base_url}/place/nearbysearch/json?location={location}&radius={radius}&key={api_key}\"\n",
    "\n",
    "        while url:\n",
    "            try:\n",
    "                response = requests.get(url)\n",
    "                response.raise_for_status()\n",
    "            except requests.exceptions.RequestException as e:\n",
    "                print(f\"Error in nearby search request: {e}\")\n",
    "                break\n",
    "\n",
    "            places = response.json()\n",
    "            all_places.extend(places[\"results\"])\n",
    "            next_page_token = places.get(\"next_page_token\")\n",
    "            if next_page_token:\n",
    "                time.sleep(2)  # Add a delay before making the next request\n",
    "                url = f\"{base_url}/place/nearbysearch/json?pagetoken={next_page_token}&key={api_key}\"\n",
    "            else:\n",
    "                url = None\n",
    "\n",
    "        return [convert_to_place(result) for result in all_places]"
   ]
  },
  {
   "cell_type": "code",
   "execution_count": 27,
   "metadata": {},
   "outputs": [],
   "source": [
    "places = get_all_places(formatted_location, 50000)"
   ]
  },
  {
   "cell_type": "code",
   "execution_count": null,
   "metadata": {},
   "outputs": [],
   "source": []
  }
 ],
 "metadata": {
  "kernelspec": {
   "display_name": "Python 3",
   "language": "python",
   "name": "python3"
  },
  "language_info": {
   "codemirror_mode": {
    "name": "ipython",
    "version": 3
   },
   "file_extension": ".py",
   "mimetype": "text/x-python",
   "name": "python",
   "nbconvert_exporter": "python",
   "pygments_lexer": "ipython3",
   "version": "3.12.3"
  }
 },
 "nbformat": 4,
 "nbformat_minor": 2
}
