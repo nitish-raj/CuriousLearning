{
 "cells": [
  {
   "cell_type": "code",
   "execution_count": 1,
   "metadata": {},
   "outputs": [],
   "source": [
    "from dataclasses import dataclass\n",
    "import requests\n",
    "import time\n",
    "import duckdb\n",
    "import pandas as pd\n",
    "from configparser import ConfigParser\n",
    "import pgeocode\n",
    "\n",
    "%load_ext sql"
   ]
  },
  {
   "cell_type": "code",
   "execution_count": 2,
   "metadata": {},
   "outputs": [
    {
     "data": {
      "text/plain": [
       "['../.config']"
      ]
     },
     "execution_count": 2,
     "metadata": {},
     "output_type": "execute_result"
    }
   ],
   "source": [
    "config = ConfigParser()\n",
    "config.read(\"../.config\")"
   ]
  },
  {
   "cell_type": "code",
   "execution_count": 3,
   "metadata": {},
   "outputs": [],
   "source": [
    "API_KEY = config['GCP']['API_KEY']\n",
    "radius = 1500  # in meters\n",
    "place_type = 'shopping'  # Example place type\n",
    "address = 'Luxembourg City, Luxembourg'\n"
   ]
  },
  {
   "cell_type": "code",
   "execution_count": 13,
   "metadata": {},
   "outputs": [],
   "source": [
    "def format_coordinates(latitude, longitude):\n",
    "    return f\"{latitude},{longitude}\"\n",
    "\n",
    "def get_coordinates(api_key, address):\n",
    "    url = f\"https://maps.googleapis.com/maps/api/geocode/json?address={address}&key={api_key}\"\n",
    "    response = requests.get(url)\n",
    "    if response.status_code == 200:\n",
    "        data = response.json()\n",
    "        if data['status'] == 'OK':\n",
    "            location = data['results'][0]['geometry']['location']\n",
    "            return location['lat'], location['lng']\n",
    "        else:\n",
    "            print(f\"Error in response: {data['status']}\")\n",
    "            return None, None\n",
    "    else:\n",
    "        print(f\"HTTP error: {response.status_code}\")\n",
    "        return None, None\n",
    "\n",
    "\n",
    "latitude, longitude = get_coordinates(API_KEY, address)\n",
    "\n",
    "if latitude and longitude:\n",
    "    formatted_location = format_coordinates(latitude, longitude)\n",
    "    # print(formatted_location)  # Output will be the coordinates of Luxembourg City\n",
    "else:\n",
    "    print(\"Could not retrieve coordinates.\")\n"
   ]
  },
  {
   "cell_type": "code",
   "execution_count": null,
   "metadata": {},
   "outputs": [],
   "source": [
    "# url = f\"https://maps.googleapis.com/maps/api/place/nearbysearch/json?location={formatted_location}&radius={radius}&key={API_KEY}\"\n",
    "url = f\"https://maps.googleapis.com/maps/api/place/nearbysearch/json?location={formatted_location}&radius={radius}&type={place_type}&key={API_KEY}\"\n",
    "\n",
    "response = requests.get(url)\n",
    "places = response.json()\n",
    "\n",
    "for place in places['results']:\n",
    "    print(f\"Name: {place['name']}\")\n",
    "    print(f\"Address: {place.get('vicinity', 'N/A')}\")\n",
    "    print(f\"Place ID: {place['place_id']}\")\n",
    "    print('---')\n"
   ]
  },
  {
   "cell_type": "code",
   "execution_count": null,
   "metadata": {},
   "outputs": [],
   "source": [
    "places['results'][0]"
   ]
  },
  {
   "cell_type": "code",
   "execution_count": 14,
   "metadata": {},
   "outputs": [
    {
     "name": "stdout",
     "output_type": "stream",
     "text": [
      "Name: Hôtel Parc Belle-Vue\n",
      "Address: 5 Av. Marie-Thérèse, 2132 Hollerich Luxembourg\n",
      "Phone Number: 45 61 41 1\n",
      "Website: https://www.goereshotels.com/belle-vue-en/\n"
     ]
    }
   ],
   "source": [
    "place_id = 'ChIJ3e9sj9VIlUcRUU6bnYZ2tcE'  # Example place ID\n",
    "\n",
    "details_url = f\"https://maps.googleapis.com/maps/api/place/details/json?place_id={place_id}&key={API_KEY}\"\n",
    "\n",
    "details_response = requests.get(details_url)\n",
    "place_details = details_response.json()\n",
    "\n",
    "\n",
    "print(f\"Name: {place_details['result']['name']}\")\n",
    "print(f\"Address: {place_details['result']['formatted_address']}\")\n",
    "print(f\"Phone Number: {place_details['result'].get('formatted_phone_number', 'N/A')}\")\n",
    "print(f\"Website: {place_details['result'].get('website', 'N/A')}\")\n"
   ]
  },
  {
   "cell_type": "code",
   "execution_count": 17,
   "metadata": {},
   "outputs": [
    {
     "data": {
      "text/plain": [
       "'OK'"
      ]
     },
     "execution_count": 17,
     "metadata": {},
     "output_type": "execute_result"
    }
   ],
   "source": [
    "place_details['status']"
   ]
  },
  {
   "cell_type": "code",
   "execution_count": 7,
   "metadata": {},
   "outputs": [],
   "source": [
    "# Connect to DuckDB\n",
    "# con = duckdb.connect('places.db')\n",
    "# df = con.execute('SELECT * FROM places').fetchdf()"
   ]
  },
  {
   "cell_type": "code",
   "execution_count": 12,
   "metadata": {},
   "outputs": [],
   "source": [
    "conn = duckdb.connect('../data/raw/places.db')\n",
    "%sql conn --alias duckdb"
   ]
  },
  {
   "cell_type": "code",
   "execution_count": 10,
   "metadata": {},
   "outputs": [
    {
     "data": {
      "text/html": [
       "<span style=\"None\">Running query in &#x27;duckdb&#x27;</span>"
      ],
      "text/plain": [
       "Running query in 'duckdb'"
      ]
     },
     "metadata": {},
     "output_type": "display_data"
    },
    {
     "data": {
      "text/html": [
       "<table>\n",
       "    <thead>\n",
       "        <tr>\n",
       "            <th>count(1)</th>\n",
       "        </tr>\n",
       "    </thead>\n",
       "    <tbody>\n",
       "        <tr>\n",
       "            <td>60</td>\n",
       "        </tr>\n",
       "    </tbody>\n",
       "</table>"
      ],
      "text/plain": [
       "+----------+\n",
       "| count(1) |\n",
       "+----------+\n",
       "|    60    |\n",
       "+----------+"
      ]
     },
     "execution_count": 10,
     "metadata": {},
     "output_type": "execute_result"
    }
   ],
   "source": [
    "%%sql\n",
    "select count(1) from  places;"
   ]
  },
  {
   "cell_type": "code",
   "execution_count": 13,
   "metadata": {},
   "outputs": [
    {
     "data": {
      "text/html": [
       "<span style=\"None\">Running query in &#x27;duckdb&#x27;</span>"
      ],
      "text/plain": [
       "Running query in 'duckdb'"
      ]
     },
     "metadata": {},
     "output_type": "display_data"
    },
    {
     "data": {
      "text/html": [
       "<table>\n",
       "    <thead>\n",
       "        <tr>\n",
       "            <th>column_name</th>\n",
       "            <th>column_type</th>\n",
       "            <th>null</th>\n",
       "            <th>key</th>\n",
       "            <th>default</th>\n",
       "            <th>extra</th>\n",
       "        </tr>\n",
       "    </thead>\n",
       "    <tbody>\n",
       "        <tr>\n",
       "            <td>place_id</td>\n",
       "            <td>VARCHAR</td>\n",
       "            <td>NO</td>\n",
       "            <td>PRI</td>\n",
       "            <td>None</td>\n",
       "            <td>None</td>\n",
       "        </tr>\n",
       "        <tr>\n",
       "            <td>name</td>\n",
       "            <td>VARCHAR</td>\n",
       "            <td>YES</td>\n",
       "            <td>None</td>\n",
       "            <td>None</td>\n",
       "            <td>None</td>\n",
       "        </tr>\n",
       "        <tr>\n",
       "            <td>vicinity</td>\n",
       "            <td>VARCHAR</td>\n",
       "            <td>YES</td>\n",
       "            <td>None</td>\n",
       "            <td>None</td>\n",
       "            <td>None</td>\n",
       "        </tr>\n",
       "        <tr>\n",
       "            <td>latitude</td>\n",
       "            <td>DOUBLE</td>\n",
       "            <td>YES</td>\n",
       "            <td>None</td>\n",
       "            <td>None</td>\n",
       "            <td>None</td>\n",
       "        </tr>\n",
       "        <tr>\n",
       "            <td>longitude</td>\n",
       "            <td>DOUBLE</td>\n",
       "            <td>YES</td>\n",
       "            <td>None</td>\n",
       "            <td>None</td>\n",
       "            <td>None</td>\n",
       "        </tr>\n",
       "    </tbody>\n",
       "</table>"
      ],
      "text/plain": [
       "+-------------+-------------+------+------+---------+-------+\n",
       "| column_name | column_type | null | key  | default | extra |\n",
       "+-------------+-------------+------+------+---------+-------+\n",
       "|   place_id  |   VARCHAR   |  NO  | PRI  |   None  |  None |\n",
       "|     name    |   VARCHAR   | YES  | None |   None  |  None |\n",
       "|   vicinity  |   VARCHAR   | YES  | None |   None  |  None |\n",
       "|   latitude  |    DOUBLE   | YES  | None |   None  |  None |\n",
       "|  longitude  |    DOUBLE   | YES  | None |   None  |  None |\n",
       "+-------------+-------------+------+------+---------+-------+"
      ]
     },
     "execution_count": 13,
     "metadata": {},
     "output_type": "execute_result"
    }
   ],
   "source": [
    "%%sql\n",
    "show places;\n",
    "# show placedetail;"
   ]
  },
  {
   "cell_type": "code",
   "execution_count": 1,
   "metadata": {},
   "outputs": [
    {
     "ename": "NameError",
     "evalue": "name 'conn' is not defined",
     "output_type": "error",
     "traceback": [
      "\u001b[0;31m---------------------------------------------------------------------------\u001b[0m",
      "\u001b[0;31mNameError\u001b[0m                                 Traceback (most recent call last)",
      "Cell \u001b[0;32mIn[1], line 2\u001b[0m\n\u001b[1;32m      1\u001b[0m \u001b[38;5;66;03m# con.close()\u001b[39;00m\n\u001b[0;32m----> 2\u001b[0m \u001b[38;5;28;01mif\u001b[39;00m \u001b[43mconn\u001b[49m:\n\u001b[1;32m      3\u001b[0m     conn\u001b[38;5;241m.\u001b[39mclose()\n",
      "\u001b[0;31mNameError\u001b[0m: name 'conn' is not defined"
     ]
    }
   ],
   "source": [
    "# con.close()\n",
    "if conn:\n",
    "    conn.close()"
   ]
  },
  {
   "cell_type": "code",
   "execution_count": null,
   "metadata": {},
   "outputs": [],
   "source": [
    "def get_cities_towns(api_key):\n",
    "    url = f'https://maps.googleapis.com/maps/api/geocode/json?address=Luxembourg&key={api_key}'\n",
    "    response = requests.get(url)\n",
    "    data = response.json()\n",
    "    \n",
    "    if data['status'] == 'OK':\n",
    "        results = data['results']\n",
    "        places = []\n",
    "        for result in results:\n",
    "            places.append(result['formatted_address'])\n",
    "        return places\n",
    "    else:\n",
    "        print(f\"Error: {data['status']}\")\n",
    "\n",
    "\n",
    "cities_towns = get_cities_towns(API_KEY)\n",
    "print(cities_towns)\n"
   ]
  },
  {
   "cell_type": "code",
   "execution_count": 13,
   "metadata": {},
   "outputs": [],
   "source": [
    "def get_geonames_data(country_code, username):\n",
    "    base_url = \"http://api.geonames.org/searchJSON\"\n",
    "    params = {\n",
    "        \"country\": country_code,\n",
    "        \"maxRows\": 1000,  # Adjust as needed\n",
    "        \"username\": username\n",
    "    }\n",
    "    \n",
    "    response = requests.get(base_url, params=params)\n",
    "    data = response.json()\n",
    "    \n",
    "    if \"geonames\" in data:\n",
    "        df = pd.DataFrame(data[\"geonames\"])\n",
    "        return df\n",
    "    else:\n",
    "        print(\"Error retrieving data:\", data.get(\"status\", {}).get(\"message\", \"Unknown error\"))\n",
    "        return None"
   ]
  },
  {
   "cell_type": "code",
   "execution_count": 4,
   "metadata": {},
   "outputs": [],
   "source": [
    "def get_geonames_data(country_code, username, max_rows=1000):\n",
    "    base_url = \"http://api.geonames.org/searchJSON\"\n",
    "    all_data = []\n",
    "    start_row = 0\n",
    "    \n",
    "    while True:\n",
    "        params = {\n",
    "            \"country\": country_code,\n",
    "            \"maxRows\": max_rows,\n",
    "            \"username\": username,\n",
    "            \"startRow\": start_row\n",
    "        }\n",
    "        \n",
    "        response = requests.get(base_url, params=params)\n",
    "        data = response.json()\n",
    "        \n",
    "        if \"geonames\" in data:\n",
    "            geonames = data[\"geonames\"]\n",
    "            all_data.extend(geonames)\n",
    "            \n",
    "            if len(geonames) < max_rows:\n",
    "                # We've reached the end of the data\n",
    "                break\n",
    "            \n",
    "            start_row += max_rows\n",
    "            \n",
    "            # Respect rate limits\n",
    "            time.sleep(1)\n",
    "        else:\n",
    "            print(\"Error retrieving data:\", data.get(\"status\", {}).get(\"message\", \"Unknown error\"))\n",
    "            return None\n",
    "    \n",
    "    df = pd.DataFrame(all_data)\n",
    "    return df"
   ]
  },
  {
   "cell_type": "code",
   "execution_count": 5,
   "metadata": {},
   "outputs": [],
   "source": [
    "username = \"flinty_miscue\"  # Replace with your GeoNames username\n",
    "country_code = \"LU\"  # Luxembourg\n",
    "\n",
    "df = get_geonames_data(country_code, username)"
   ]
  },
  {
   "cell_type": "code",
   "execution_count": 6,
   "metadata": {},
   "outputs": [
    {
     "data": {
      "text/plain": [
       "(1259, 16)"
      ]
     },
     "execution_count": 6,
     "metadata": {},
     "output_type": "execute_result"
    }
   ],
   "source": [
    "df.shape"
   ]
  },
  {
   "cell_type": "code",
   "execution_count": 7,
   "metadata": {},
   "outputs": [
    {
     "data": {
      "text/html": [
       "<div>\n",
       "<style scoped>\n",
       "    .dataframe tbody tr th:only-of-type {\n",
       "        vertical-align: middle;\n",
       "    }\n",
       "\n",
       "    .dataframe tbody tr th {\n",
       "        vertical-align: top;\n",
       "    }\n",
       "\n",
       "    .dataframe thead th {\n",
       "        text-align: right;\n",
       "    }\n",
       "</style>\n",
       "<table border=\"1\" class=\"dataframe\">\n",
       "  <thead>\n",
       "    <tr style=\"text-align: right;\">\n",
       "      <th></th>\n",
       "      <th>adminCode1</th>\n",
       "      <th>lng</th>\n",
       "      <th>geonameId</th>\n",
       "      <th>toponymName</th>\n",
       "      <th>countryId</th>\n",
       "      <th>fcl</th>\n",
       "      <th>population</th>\n",
       "      <th>countryCode</th>\n",
       "      <th>name</th>\n",
       "      <th>fclName</th>\n",
       "      <th>adminCodes1</th>\n",
       "      <th>countryName</th>\n",
       "      <th>fcodeName</th>\n",
       "      <th>adminName1</th>\n",
       "      <th>lat</th>\n",
       "      <th>fcode</th>\n",
       "    </tr>\n",
       "  </thead>\n",
       "  <tbody>\n",
       "    <tr>\n",
       "      <th>0</th>\n",
       "      <td>LU</td>\n",
       "      <td>6.13</td>\n",
       "      <td>2960316</td>\n",
       "      <td>Luxembourg</td>\n",
       "      <td>2960313</td>\n",
       "      <td>P</td>\n",
       "      <td>76684</td>\n",
       "      <td>LU</td>\n",
       "      <td>Luxembourg</td>\n",
       "      <td>city, village,...</td>\n",
       "      <td>{'ISO3166_2': 'LU'}</td>\n",
       "      <td>Luxembourg</td>\n",
       "      <td>capital of a political entity</td>\n",
       "      <td>Luxembourg</td>\n",
       "      <td>49.61167</td>\n",
       "      <td>PPLC</td>\n",
       "    </tr>\n",
       "    <tr>\n",
       "      <th>1</th>\n",
       "      <td>ES</td>\n",
       "      <td>5.98056</td>\n",
       "      <td>2960596</td>\n",
       "      <td>Esch-sur-Alzette</td>\n",
       "      <td>2960313</td>\n",
       "      <td>P</td>\n",
       "      <td>28228</td>\n",
       "      <td>LU</td>\n",
       "      <td>Esch-sur-Alzette</td>\n",
       "      <td>city, village,...</td>\n",
       "      <td>{'ISO3166_2': 'ES'}</td>\n",
       "      <td>Luxembourg</td>\n",
       "      <td>seat of a second-order administrative division</td>\n",
       "      <td>Esch-sur-Alzette</td>\n",
       "      <td>49.49583</td>\n",
       "      <td>PPLA2</td>\n",
       "    </tr>\n",
       "    <tr>\n",
       "      <th>2</th>\n",
       "      <td>ES</td>\n",
       "      <td>6.0875</td>\n",
       "      <td>2960634</td>\n",
       "      <td>Dudelange</td>\n",
       "      <td>2960313</td>\n",
       "      <td>P</td>\n",
       "      <td>18013</td>\n",
       "      <td>LU</td>\n",
       "      <td>Dudelange</td>\n",
       "      <td>city, village,...</td>\n",
       "      <td>{'ISO3166_2': 'ES'}</td>\n",
       "      <td>Luxembourg</td>\n",
       "      <td>seat of a third-order administrative division</td>\n",
       "      <td>Esch-sur-Alzette</td>\n",
       "      <td>49.48056</td>\n",
       "      <td>PPLA3</td>\n",
       "    </tr>\n",
       "    <tr>\n",
       "      <th>3</th>\n",
       "      <td>ES</td>\n",
       "      <td>6.01278</td>\n",
       "      <td>2960102</td>\n",
       "      <td>Schifflange</td>\n",
       "      <td>2960313</td>\n",
       "      <td>P</td>\n",
       "      <td>8155</td>\n",
       "      <td>LU</td>\n",
       "      <td>Schifflange</td>\n",
       "      <td>city, village,...</td>\n",
       "      <td>{'ISO3166_2': 'ES'}</td>\n",
       "      <td>Luxembourg</td>\n",
       "      <td>seat of a third-order administrative division</td>\n",
       "      <td>Esch-sur-Alzette</td>\n",
       "      <td>49.50639</td>\n",
       "      <td>PPLA3</td>\n",
       "    </tr>\n",
       "    <tr>\n",
       "      <th>4</th>\n",
       "      <td>ES</td>\n",
       "      <td>5.88056</td>\n",
       "      <td>2960187</td>\n",
       "      <td>Pétange</td>\n",
       "      <td>2960313</td>\n",
       "      <td>P</td>\n",
       "      <td>7187</td>\n",
       "      <td>LU</td>\n",
       "      <td>Pétange</td>\n",
       "      <td>city, village,...</td>\n",
       "      <td>{'ISO3166_2': 'ES'}</td>\n",
       "      <td>Luxembourg</td>\n",
       "      <td>seat of a third-order administrative division</td>\n",
       "      <td>Esch-sur-Alzette</td>\n",
       "      <td>49.55833</td>\n",
       "      <td>PPLA3</td>\n",
       "    </tr>\n",
       "  </tbody>\n",
       "</table>\n",
       "</div>"
      ],
      "text/plain": [
       "  adminCode1      lng  geonameId       toponymName countryId fcl  population  \\\n",
       "0         LU     6.13    2960316        Luxembourg   2960313   P       76684   \n",
       "1         ES  5.98056    2960596  Esch-sur-Alzette   2960313   P       28228   \n",
       "2         ES   6.0875    2960634         Dudelange   2960313   P       18013   \n",
       "3         ES  6.01278    2960102       Schifflange   2960313   P        8155   \n",
       "4         ES  5.88056    2960187           Pétange   2960313   P        7187   \n",
       "\n",
       "  countryCode              name            fclName          adminCodes1  \\\n",
       "0          LU        Luxembourg  city, village,...  {'ISO3166_2': 'LU'}   \n",
       "1          LU  Esch-sur-Alzette  city, village,...  {'ISO3166_2': 'ES'}   \n",
       "2          LU         Dudelange  city, village,...  {'ISO3166_2': 'ES'}   \n",
       "3          LU       Schifflange  city, village,...  {'ISO3166_2': 'ES'}   \n",
       "4          LU           Pétange  city, village,...  {'ISO3166_2': 'ES'}   \n",
       "\n",
       "  countryName                                       fcodeName  \\\n",
       "0  Luxembourg                   capital of a political entity   \n",
       "1  Luxembourg  seat of a second-order administrative division   \n",
       "2  Luxembourg   seat of a third-order administrative division   \n",
       "3  Luxembourg   seat of a third-order administrative division   \n",
       "4  Luxembourg   seat of a third-order administrative division   \n",
       "\n",
       "         adminName1       lat  fcode  \n",
       "0        Luxembourg  49.61167   PPLC  \n",
       "1  Esch-sur-Alzette  49.49583  PPLA2  \n",
       "2  Esch-sur-Alzette  49.48056  PPLA3  \n",
       "3  Esch-sur-Alzette  49.50639  PPLA3  \n",
       "4  Esch-sur-Alzette  49.55833  PPLA3  "
      ]
     },
     "execution_count": 7,
     "metadata": {},
     "output_type": "execute_result"
    }
   ],
   "source": [
    "df.head()"
   ]
  },
  {
   "cell_type": "code",
   "execution_count": 13,
   "metadata": {},
   "outputs": [
    {
     "data": {
      "text/html": [
       "<span style=\"None\">Running query in &#x27;duckdb&#x27;</span>"
      ],
      "text/plain": [
       "Running query in 'duckdb'"
      ]
     },
     "metadata": {},
     "output_type": "display_data"
    },
    {
     "data": {
      "text/html": [
       "<table>\n",
       "    <thead>\n",
       "        <tr>\n",
       "            <th>Count</th>\n",
       "        </tr>\n",
       "    </thead>\n",
       "    <tbody>\n",
       "        <tr>\n",
       "            <td>1259</td>\n",
       "        </tr>\n",
       "    </tbody>\n",
       "</table>"
      ],
      "text/plain": [
       "+-------+\n",
       "| Count |\n",
       "+-------+\n",
       "|  1259 |\n",
       "+-------+"
      ]
     },
     "execution_count": 13,
     "metadata": {},
     "output_type": "execute_result"
    }
   ],
   "source": [
    "%%sql\n",
    "create table geonames as (select * from df)"
   ]
  },
  {
   "cell_type": "code",
   "execution_count": 15,
   "metadata": {},
   "outputs": [
    {
     "data": {
      "text/html": [
       "<span style=\"None\">Running query in &#x27;duckdb&#x27;</span>"
      ],
      "text/plain": [
       "Running query in 'duckdb'"
      ]
     },
     "metadata": {},
     "output_type": "display_data"
    },
    {
     "data": {
      "text/html": [
       "<table>\n",
       "    <thead>\n",
       "        <tr>\n",
       "            <th>column_name</th>\n",
       "            <th>column_type</th>\n",
       "            <th>null</th>\n",
       "            <th>key</th>\n",
       "            <th>default</th>\n",
       "            <th>extra</th>\n",
       "        </tr>\n",
       "    </thead>\n",
       "    <tbody>\n",
       "        <tr>\n",
       "            <td>adminCode1</td>\n",
       "            <td>VARCHAR</td>\n",
       "            <td>YES</td>\n",
       "            <td>None</td>\n",
       "            <td>None</td>\n",
       "            <td>None</td>\n",
       "        </tr>\n",
       "        <tr>\n",
       "            <td>lng</td>\n",
       "            <td>VARCHAR</td>\n",
       "            <td>YES</td>\n",
       "            <td>None</td>\n",
       "            <td>None</td>\n",
       "            <td>None</td>\n",
       "        </tr>\n",
       "        <tr>\n",
       "            <td>geonameId</td>\n",
       "            <td>BIGINT</td>\n",
       "            <td>YES</td>\n",
       "            <td>None</td>\n",
       "            <td>None</td>\n",
       "            <td>None</td>\n",
       "        </tr>\n",
       "        <tr>\n",
       "            <td>toponymName</td>\n",
       "            <td>VARCHAR</td>\n",
       "            <td>YES</td>\n",
       "            <td>None</td>\n",
       "            <td>None</td>\n",
       "            <td>None</td>\n",
       "        </tr>\n",
       "        <tr>\n",
       "            <td>countryId</td>\n",
       "            <td>VARCHAR</td>\n",
       "            <td>YES</td>\n",
       "            <td>None</td>\n",
       "            <td>None</td>\n",
       "            <td>None</td>\n",
       "        </tr>\n",
       "        <tr>\n",
       "            <td>fcl</td>\n",
       "            <td>VARCHAR</td>\n",
       "            <td>YES</td>\n",
       "            <td>None</td>\n",
       "            <td>None</td>\n",
       "            <td>None</td>\n",
       "        </tr>\n",
       "        <tr>\n",
       "            <td>population</td>\n",
       "            <td>BIGINT</td>\n",
       "            <td>YES</td>\n",
       "            <td>None</td>\n",
       "            <td>None</td>\n",
       "            <td>None</td>\n",
       "        </tr>\n",
       "        <tr>\n",
       "            <td>countryCode</td>\n",
       "            <td>VARCHAR</td>\n",
       "            <td>YES</td>\n",
       "            <td>None</td>\n",
       "            <td>None</td>\n",
       "            <td>None</td>\n",
       "        </tr>\n",
       "        <tr>\n",
       "            <td>name</td>\n",
       "            <td>VARCHAR</td>\n",
       "            <td>YES</td>\n",
       "            <td>None</td>\n",
       "            <td>None</td>\n",
       "            <td>None</td>\n",
       "        </tr>\n",
       "        <tr>\n",
       "            <td>fclName</td>\n",
       "            <td>VARCHAR</td>\n",
       "            <td>YES</td>\n",
       "            <td>None</td>\n",
       "            <td>None</td>\n",
       "            <td>None</td>\n",
       "        </tr>\n",
       "    </tbody>\n",
       "</table>\n",
       "<span style=\"font-style:italic;text-align:center;\">Truncated to <a href=\"https://jupysql.ploomber.io/en/latest/api/configuration.html#displaylimit\">displaylimit</a> of 10.</span>"
      ],
      "text/plain": [
       "+-------------+-------------+------+------+---------+-------+\n",
       "| column_name | column_type | null | key  | default | extra |\n",
       "+-------------+-------------+------+------+---------+-------+\n",
       "|  adminCode1 |   VARCHAR   | YES  | None |   None  |  None |\n",
       "|     lng     |   VARCHAR   | YES  | None |   None  |  None |\n",
       "|  geonameId  |    BIGINT   | YES  | None |   None  |  None |\n",
       "| toponymName |   VARCHAR   | YES  | None |   None  |  None |\n",
       "|  countryId  |   VARCHAR   | YES  | None |   None  |  None |\n",
       "|     fcl     |   VARCHAR   | YES  | None |   None  |  None |\n",
       "|  population |    BIGINT   | YES  | None |   None  |  None |\n",
       "| countryCode |   VARCHAR   | YES  | None |   None  |  None |\n",
       "|     name    |   VARCHAR   | YES  | None |   None  |  None |\n",
       "|   fclName   |   VARCHAR   | YES  | None |   None  |  None |\n",
       "+-------------+-------------+------+------+---------+-------+\n",
       "Truncated to displaylimit of 10."
      ]
     },
     "execution_count": 15,
     "metadata": {},
     "output_type": "execute_result"
    }
   ],
   "source": [
    "%%sql\n",
    "show geonames"
   ]
  },
  {
   "cell_type": "code",
   "execution_count": null,
   "metadata": {},
   "outputs": [],
   "source": []
  }
 ],
 "metadata": {
  "kernelspec": {
   "display_name": "Python 3",
   "language": "python",
   "name": "python3"
  },
  "language_info": {
   "codemirror_mode": {
    "name": "ipython",
    "version": 3
   },
   "file_extension": ".py",
   "mimetype": "text/x-python",
   "name": "python",
   "nbconvert_exporter": "python",
   "pygments_lexer": "ipython3",
   "version": "3.12.3"
  }
 },
 "nbformat": 4,
 "nbformat_minor": 2
}
