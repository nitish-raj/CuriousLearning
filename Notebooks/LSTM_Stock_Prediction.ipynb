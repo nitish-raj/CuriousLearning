{
 "nbformat": 4,
 "nbformat_minor": 0,
 "metadata": {
  "colab": {
   "name": "LSTM Stock Prediction.ipynb",
   "provenance": [],
   "collapsed_sections": [],
   "authorship_tag": "ABX9TyMGrBP/Y2Cj9CLvpAIkJSJe",
   "include_colab_link": true
  },
  "kernelspec": {
   "name": "python3",
   "display_name": "Python 3"
  },
  "language_info": {
   "name": "python"
  }
 },
 "cells": [
  {
   "cell_type": "markdown",
   "metadata": {
    "id": "view-in-github",
    "colab_type": "text"
   },
   "source": [
    "<a href=\"https://colab.research.google.com/github/nitish-raj/Price-Predictions-ML/blob/master/LSTM_Stock_Prediction.ipynb\" target=\"_parent\"><img src=\"https://colab.research.google.com/assets/colab-badge.svg\" alt=\"Open In Colab\"/></a>"
   ]
  },
  {
   "cell_type": "code",
   "metadata": {
    "id": "O095V9i-vMeh"
   },
   "source": [
    "# Description: This program uses an artificial recurrent neural network called Long short term memory (LSTM) to\n",
    "#               predict the closing stock price of corporation (Apple Inc.) using the past 60 day stock price.\n",
    "\n",
    "\n",
    "# Import the libraries\n",
    "import math\n",
    "import pandas_datareader as web\n",
    "import numpy as np\n",
    "import pandas as pd\n",
    "from sklearn.preprocessing import MinMaxScaler\n",
    "from keras.models import Sequential\n",
    "from keras.layers import Dense, LSTM\n",
    "import matplotlib.pyplot as plt\n",
    "\n",
    "plt.style.use(\"fivethirtyeight\")"
   ],
   "execution_count": 75,
   "outputs": []
  },
  {
   "cell_type": "code",
   "metadata": {
    "colab": {
     "base_uri": "https://localhost:8080/",
     "height": 455
    },
    "id": "LkQQTSWxvleH",
    "outputId": "7817c4af-f876-44b0-db91-dc951584d20a"
   },
   "source": [
    "# Get the stock quote\n",
    "df = web.DataReader(\"AAPL\", data_source=\"yahoo\", start=\"2012-01-01\", end=\"2021-05-15\")\n",
    "\n",
    "# Show data\n",
    "df"
   ],
   "execution_count": 76,
   "outputs": [
    {
     "output_type": "execute_result",
     "data": {
      "text/html": [
       "<div>\n",
       "<style scoped>\n",
       "    .dataframe tbody tr th:only-of-type {\n",
       "        vertical-align: middle;\n",
       "    }\n",
       "\n",
       "    .dataframe tbody tr th {\n",
       "        vertical-align: top;\n",
       "    }\n",
       "\n",
       "    .dataframe thead th {\n",
       "        text-align: right;\n",
       "    }\n",
       "</style>\n",
       "<table border=\"1\" class=\"dataframe\">\n",
       "  <thead>\n",
       "    <tr style=\"text-align: right;\">\n",
       "      <th></th>\n",
       "      <th>High</th>\n",
       "      <th>Low</th>\n",
       "      <th>Open</th>\n",
       "      <th>Close</th>\n",
       "      <th>Volume</th>\n",
       "      <th>Adj Close</th>\n",
       "    </tr>\n",
       "    <tr>\n",
       "      <th>Date</th>\n",
       "      <th></th>\n",
       "      <th></th>\n",
       "      <th></th>\n",
       "      <th></th>\n",
       "      <th></th>\n",
       "      <th></th>\n",
       "    </tr>\n",
       "  </thead>\n",
       "  <tbody>\n",
       "    <tr>\n",
       "      <th>2012-01-03</th>\n",
       "      <td>14.732143</td>\n",
       "      <td>14.607143</td>\n",
       "      <td>14.621429</td>\n",
       "      <td>14.686786</td>\n",
       "      <td>302220800.0</td>\n",
       "      <td>12.629209</td>\n",
       "    </tr>\n",
       "    <tr>\n",
       "      <th>2012-01-04</th>\n",
       "      <td>14.810000</td>\n",
       "      <td>14.617143</td>\n",
       "      <td>14.642857</td>\n",
       "      <td>14.765714</td>\n",
       "      <td>260022000.0</td>\n",
       "      <td>12.697079</td>\n",
       "    </tr>\n",
       "    <tr>\n",
       "      <th>2012-01-05</th>\n",
       "      <td>14.948214</td>\n",
       "      <td>14.738214</td>\n",
       "      <td>14.819643</td>\n",
       "      <td>14.929643</td>\n",
       "      <td>271269600.0</td>\n",
       "      <td>12.838044</td>\n",
       "    </tr>\n",
       "    <tr>\n",
       "      <th>2012-01-06</th>\n",
       "      <td>15.098214</td>\n",
       "      <td>14.972143</td>\n",
       "      <td>14.991786</td>\n",
       "      <td>15.085714</td>\n",
       "      <td>318292800.0</td>\n",
       "      <td>12.972249</td>\n",
       "    </tr>\n",
       "    <tr>\n",
       "      <th>2012-01-09</th>\n",
       "      <td>15.276786</td>\n",
       "      <td>15.048214</td>\n",
       "      <td>15.196429</td>\n",
       "      <td>15.061786</td>\n",
       "      <td>394024400.0</td>\n",
       "      <td>12.951672</td>\n",
       "    </tr>\n",
       "    <tr>\n",
       "      <th>...</th>\n",
       "      <td>...</td>\n",
       "      <td>...</td>\n",
       "      <td>...</td>\n",
       "      <td>...</td>\n",
       "      <td>...</td>\n",
       "      <td>...</td>\n",
       "    </tr>\n",
       "    <tr>\n",
       "      <th>2021-05-10</th>\n",
       "      <td>129.539993</td>\n",
       "      <td>126.809998</td>\n",
       "      <td>129.410004</td>\n",
       "      <td>126.849998</td>\n",
       "      <td>88071200.0</td>\n",
       "      <td>126.849998</td>\n",
       "    </tr>\n",
       "    <tr>\n",
       "      <th>2021-05-11</th>\n",
       "      <td>126.269997</td>\n",
       "      <td>122.769997</td>\n",
       "      <td>123.500000</td>\n",
       "      <td>125.910004</td>\n",
       "      <td>126142800.0</td>\n",
       "      <td>125.910004</td>\n",
       "    </tr>\n",
       "    <tr>\n",
       "      <th>2021-05-12</th>\n",
       "      <td>124.639999</td>\n",
       "      <td>122.250000</td>\n",
       "      <td>123.400002</td>\n",
       "      <td>122.769997</td>\n",
       "      <td>112172300.0</td>\n",
       "      <td>122.769997</td>\n",
       "    </tr>\n",
       "    <tr>\n",
       "      <th>2021-05-13</th>\n",
       "      <td>126.150002</td>\n",
       "      <td>124.260002</td>\n",
       "      <td>124.580002</td>\n",
       "      <td>124.970001</td>\n",
       "      <td>105861300.0</td>\n",
       "      <td>124.970001</td>\n",
       "    </tr>\n",
       "    <tr>\n",
       "      <th>2021-05-14</th>\n",
       "      <td>127.889999</td>\n",
       "      <td>125.849998</td>\n",
       "      <td>126.250000</td>\n",
       "      <td>127.449997</td>\n",
       "      <td>81806500.0</td>\n",
       "      <td>127.449997</td>\n",
       "    </tr>\n",
       "  </tbody>\n",
       "</table>\n",
       "<p>2357 rows × 6 columns</p>\n",
       "</div>"
      ],
      "text/plain": [
       "                  High         Low  ...       Volume   Adj Close\n",
       "Date                                ...                         \n",
       "2012-01-03   14.732143   14.607143  ...  302220800.0   12.629209\n",
       "2012-01-04   14.810000   14.617143  ...  260022000.0   12.697079\n",
       "2012-01-05   14.948214   14.738214  ...  271269600.0   12.838044\n",
       "2012-01-06   15.098214   14.972143  ...  318292800.0   12.972249\n",
       "2012-01-09   15.276786   15.048214  ...  394024400.0   12.951672\n",
       "...                ...         ...  ...          ...         ...\n",
       "2021-05-10  129.539993  126.809998  ...   88071200.0  126.849998\n",
       "2021-05-11  126.269997  122.769997  ...  126142800.0  125.910004\n",
       "2021-05-12  124.639999  122.250000  ...  112172300.0  122.769997\n",
       "2021-05-13  126.150002  124.260002  ...  105861300.0  124.970001\n",
       "2021-05-14  127.889999  125.849998  ...   81806500.0  127.449997\n",
       "\n",
       "[2357 rows x 6 columns]"
      ]
     },
     "metadata": {
      "tags": []
     },
     "execution_count": 76
    }
   ]
  },
  {
   "cell_type": "code",
   "metadata": {
    "colab": {
     "base_uri": "https://localhost:8080/"
    },
    "id": "Cqfm81eYxQ-0",
    "outputId": "107211ef-be05-49a7-cdc7-0876af5eec30"
   },
   "source": [
    "# get nuber of rows and column\n",
    "df.shape"
   ],
   "execution_count": 77,
   "outputs": [
    {
     "output_type": "execute_result",
     "data": {
      "text/plain": [
       "(2357, 6)"
      ]
     },
     "metadata": {
      "tags": []
     },
     "execution_count": 77
    }
   ]
  },
  {
   "cell_type": "code",
   "metadata": {
    "colab": {
     "base_uri": "https://localhost:8080/",
     "height": 558
    },
    "id": "HyLeRJTaxco6",
    "outputId": "395f83e9-6eb0-40b6-fd90-d29ff60b29ba"
   },
   "source": [
    "# Visualize the closing price history\n",
    "plt.figure(figsize=(16, 8))\n",
    "plt.title(\"Closing Price History\")\n",
    "plt.plot(df[\"Close\"])\n",
    "plt.xlabel(\"Date\", fontsize=18)\n",
    "plt.ylabel(\"Close Price USD($)\", fontsize=18)\n",
    "plt.show()"
   ],
   "execution_count": 78,
   "outputs": [
    {
     "output_type": "display_data",
     "data": {
      "image/png": "[encoded data removed]",
      "text/plain": [
       "<Figure size 1152x576 with 1 Axes>"
      ]
     },
     "metadata": {
      "tags": []
     }
    }
   ]
  },
  {
   "cell_type": "code",
   "metadata": {
    "colab": {
     "base_uri": "https://localhost:8080/"
    },
    "id": "Jce3NUR1ykSY",
    "outputId": "0acbe148-9733-4e07-e23e-9d96aae0f320"
   },
   "source": [
    "data = df.filter([\"Close\"])\n",
    "\n",
    "# Convert the dataframe to numpy array\n",
    "dataset = data.values\n",
    "# Get the number of rows to train the model on\n",
    "training_data_len = math.ceil(len(dataset) * 0.8)\n",
    "\n",
    "training_data_len"
   ],
   "execution_count": 79,
   "outputs": [
    {
     "output_type": "execute_result",
     "data": {
      "text/plain": [
       "1886"
      ]
     },
     "metadata": {
      "tags": []
     },
     "execution_count": 79
    }
   ]
  },
  {
   "cell_type": "code",
   "metadata": {
    "colab": {
     "base_uri": "https://localhost:8080/"
    },
    "id": "rpWpWnnY2uJC",
    "outputId": "65c7dc25-53c1-464a-a459-2345327b43ca"
   },
   "source": [
    "# Scale the dataset\n",
    "scaler = MinMaxScaler(feature_range=(0, 1))\n",
    "\n",
    "scaled_data = scaler.fit_transform(dataset)\n",
    "\n",
    "scaled_data"
   ],
   "execution_count": 80,
   "outputs": [
    {
     "output_type": "execute_result",
     "data": {
      "text/plain": [
       "array([[0.00572147],\n",
       "       [0.00633231],\n",
       "       [0.00760099],\n",
       "       ...,\n",
       "       [0.84219788],\n",
       "       [0.85922413],\n",
       "       [0.87841729]])"
      ]
     },
     "metadata": {
      "tags": []
     },
     "execution_count": 80
    }
   ]
  },
  {
   "cell_type": "code",
   "metadata": {
    "colab": {
     "base_uri": "https://localhost:8080/"
    },
    "id": "xChONbWT2yaG",
    "outputId": "294fac0b-66dd-441e-d647-67f7b15a5631"
   },
   "source": [
    "# Create the training dataset\n",
    "# Create the scaled training dataset\n",
    "train_data = scaled_data[0:training_data_len, :]\n",
    "# Split the data into x_train and y_train data sets\n",
    "x_train = []\n",
    "y_train = []\n",
    "\n",
    "for i in range(60, len(train_data)):\n",
    "    x_train.append(train_data[i - 60 : i, 0])\n",
    "    y_train.append(train_data[i, 0])\n",
    "    if i <= 61:\n",
    "        print(x_train)\n",
    "        print(y_train)"
   ],
   "execution_count": 81,
   "outputs": [
    {
     "output_type": "stream",
     "text": [
      "[array([0.00572147, 0.00633231, 0.00760099, 0.00880885, 0.00862367,\n",
      "       0.00904103, 0.00885031, 0.00852969, 0.00809297, 0.00944457,\n",
      "       0.0106635 , 0.01028759, 0.00822841, 0.01019361, 0.00825882,\n",
      "       0.01551431, 0.01495322, 0.01568568, 0.01726944, 0.01822855,\n",
      "       0.01814839, 0.01785265, 0.01911303, 0.02029878, 0.02164209,\n",
      "       0.02381183, 0.02836966, 0.02843875, 0.03097611, 0.0328722 ,\n",
      "       0.02961346, 0.03086831, 0.03084343, 0.034362  , 0.03386171,\n",
      "       0.03478765, 0.03645157, 0.03737752, 0.04004478, 0.04198786,\n",
      "       0.04254895, 0.0427452 , 0.03942288, 0.03862131, 0.03874017,\n",
      "       0.04186349, 0.04274244, 0.04463025, 0.04908028, 0.05501734,\n",
      "       0.05390621, 0.05390897, 0.05820147, 0.05954478, 0.05858842,\n",
      "       0.05771501, 0.05680565, 0.05982669, 0.0618997 , 0.06276759])]\n",
      "[0.06062272301844436]\n",
      "[array([0.00572147, 0.00633231, 0.00760099, 0.00880885, 0.00862367,\n",
      "       0.00904103, 0.00885031, 0.00852969, 0.00809297, 0.00944457,\n",
      "       0.0106635 , 0.01028759, 0.00822841, 0.01019361, 0.00825882,\n",
      "       0.01551431, 0.01495322, 0.01568568, 0.01726944, 0.01822855,\n",
      "       0.01814839, 0.01785265, 0.01911303, 0.02029878, 0.02164209,\n",
      "       0.02381183, 0.02836966, 0.02843875, 0.03097611, 0.0328722 ,\n",
      "       0.02961346, 0.03086831, 0.03084343, 0.034362  , 0.03386171,\n",
      "       0.03478765, 0.03645157, 0.03737752, 0.04004478, 0.04198786,\n",
      "       0.04254895, 0.0427452 , 0.03942288, 0.03862131, 0.03874017,\n",
      "       0.04186349, 0.04274244, 0.04463025, 0.04908028, 0.05501734,\n",
      "       0.05390621, 0.05390897, 0.05820147, 0.05954478, 0.05858842,\n",
      "       0.05771501, 0.05680565, 0.05982669, 0.0618997 , 0.06276759]), array([0.00633231, 0.00760099, 0.00880885, 0.00862367, 0.00904103,\n",
      "       0.00885031, 0.00852969, 0.00809297, 0.00944457, 0.0106635 ,\n",
      "       0.01028759, 0.00822841, 0.01019361, 0.00825882, 0.01551431,\n",
      "       0.01495322, 0.01568568, 0.01726944, 0.01822855, 0.01814839,\n",
      "       0.01785265, 0.01911303, 0.02029878, 0.02164209, 0.02381183,\n",
      "       0.02836966, 0.02843875, 0.03097611, 0.0328722 , 0.02961346,\n",
      "       0.03086831, 0.03084343, 0.034362  , 0.03386171, 0.03478765,\n",
      "       0.03645157, 0.03737752, 0.04004478, 0.04198786, 0.04254895,\n",
      "       0.0427452 , 0.03942288, 0.03862131, 0.03874017, 0.04186349,\n",
      "       0.04274244, 0.04463025, 0.04908028, 0.05501734, 0.05390621,\n",
      "       0.05390897, 0.05820147, 0.05954478, 0.05858842, 0.05771501,\n",
      "       0.05680565, 0.05982669, 0.0618997 , 0.06276759, 0.06062272])]\n",
      "[0.06062272301844436, 0.05777304791904707]\n"
     ],
     "name": "stdout"
    }
   ]
  },
  {
   "cell_type": "code",
   "metadata": {
    "id": "bYFNhdfM5ZGL"
   },
   "source": [
    "# Convert x_train and y_triain to numpy arrays\n",
    "x_train, y_train = np.array(x_train), np.array(y_train)"
   ],
   "execution_count": 82,
   "outputs": []
  },
  {
   "cell_type": "code",
   "metadata": {
    "colab": {
     "base_uri": "https://localhost:8080/"
    },
    "id": "HTuipKdOnXhT",
    "outputId": "f4292ec2-bb10-4bfd-c03d-696faf96e612"
   },
   "source": [
    "# Reshape the data\n",
    "x_train = np.reshape(x_train, (x_train.shape[0], x_train.shape[1], 1))\n",
    "x_train.shape"
   ],
   "execution_count": 83,
   "outputs": [
    {
     "output_type": "execute_result",
     "data": {
      "text/plain": [
       "(1826, 60, 1)"
      ]
     },
     "metadata": {
      "tags": []
     },
     "execution_count": 83
    }
   ]
  },
  {
   "cell_type": "code",
   "metadata": {
    "id": "GUUddDH7n85b"
   },
   "source": [
    "# Build LSTM model\n",
    "model = Sequential()\n",
    "model.add(LSTM(50, return_sequences=True, input_shape=(x_train.shape[1], 1)))\n",
    "model.add(LSTM(50, return_sequences=False))\n",
    "model.add(Dense(25))\n",
    "model.add(Dense(1))"
   ],
   "execution_count": 98,
   "outputs": []
  },
  {
   "cell_type": "code",
   "metadata": {
    "id": "I4SOuJe8ofVl"
   },
   "source": [
    "# Compile the model\n",
    "model.compile(optimizer=\"adam\", loss=\"mean_squared_error\")"
   ],
   "execution_count": 99,
   "outputs": []
  },
  {
   "cell_type": "code",
   "metadata": {
    "colab": {
     "base_uri": "https://localhost:8080/"
    },
    "id": "t4LCGUQRoryU",
    "outputId": "6ea145f7-6c5e-4277-b17d-34a50170ce53"
   },
   "source": [
    "# Train the model\n",
    "model.fit(x_train, y_train, batch_size=16, epochs=30)"
   ],
   "execution_count": 100,
   "outputs": [
    {
     "output_type": "stream",
     "text": [
      "Epoch 1/30\n",
      "115/115 [==============================] - 8s 45ms/step - loss: 0.0034\n",
      "Epoch 2/30\n",
      "115/115 [==============================] - 5s 48ms/step - loss: 1.0588e-04\n",
      "Epoch 3/30\n",
      "115/115 [==============================] - 5s 47ms/step - loss: 1.1111e-04\n",
      "Epoch 4/30\n",
      "115/115 [==============================] - 5s 47ms/step - loss: 8.1070e-05\n",
      "Epoch 5/30\n",
      "115/115 [==============================] - 5s 46ms/step - loss: 7.4896e-05\n",
      "Epoch 6/30\n",
      "115/115 [==============================] - 5s 46ms/step - loss: 6.7693e-05\n",
      "Epoch 7/30\n",
      "115/115 [==============================] - 5s 46ms/step - loss: 5.4630e-05\n",
      "Epoch 8/30\n",
      "115/115 [==============================] - 5s 46ms/step - loss: 7.9597e-05\n",
      "Epoch 9/30\n",
      "115/115 [==============================] - 5s 46ms/step - loss: 7.2574e-05\n",
      "Epoch 10/30\n",
      "115/115 [==============================] - 5s 46ms/step - loss: 7.0363e-05\n",
      "Epoch 11/30\n",
      "115/115 [==============================] - 6s 48ms/step - loss: 5.2088e-05\n",
      "Epoch 12/30\n",
      "115/115 [==============================] - 5s 46ms/step - loss: 4.6150e-05\n",
      "Epoch 13/30\n",
      "115/115 [==============================] - 5s 46ms/step - loss: 5.8103e-05\n",
      "Epoch 14/30\n",
      "115/115 [==============================] - 5s 46ms/step - loss: 4.7202e-05\n",
      "Epoch 15/30\n",
      "115/115 [==============================] - 5s 46ms/step - loss: 4.6842e-05\n",
      "Epoch 16/30\n",
      "115/115 [==============================] - 5s 46ms/step - loss: 4.4409e-05\n",
      "Epoch 17/30\n",
      "115/115 [==============================] - 5s 46ms/step - loss: 3.9298e-05\n",
      "Epoch 18/30\n",
      "115/115 [==============================] - 5s 46ms/step - loss: 4.4176e-05\n",
      "Epoch 19/30\n",
      "115/115 [==============================] - 5s 46ms/step - loss: 3.8923e-05\n",
      "Epoch 20/30\n",
      "115/115 [==============================] - 5s 46ms/step - loss: 4.0338e-05\n",
      "Epoch 21/30\n",
      "115/115 [==============================] - 5s 46ms/step - loss: 4.6852e-05\n",
      "Epoch 22/30\n",
      "115/115 [==============================] - 5s 46ms/step - loss: 2.9722e-05\n",
      "Epoch 23/30\n",
      "115/115 [==============================] - 5s 47ms/step - loss: 3.8194e-05\n",
      "Epoch 24/30\n",
      "115/115 [==============================] - 5s 47ms/step - loss: 3.6855e-05\n",
      "Epoch 25/30\n",
      "115/115 [==============================] - 5s 46ms/step - loss: 3.2803e-05\n",
      "Epoch 26/30\n",
      "115/115 [==============================] - 5s 46ms/step - loss: 3.3881e-05\n",
      "Epoch 27/30\n",
      "115/115 [==============================] - 5s 46ms/step - loss: 2.9623e-05\n",
      "Epoch 28/30\n",
      "115/115 [==============================] - 5s 46ms/step - loss: 2.8133e-05\n",
      "Epoch 29/30\n",
      "115/115 [==============================] - 5s 46ms/step - loss: 2.8197e-05\n",
      "Epoch 30/30\n",
      "115/115 [==============================] - 5s 47ms/step - loss: 2.6437e-05\n"
     ],
     "name": "stdout"
    },
    {
     "output_type": "execute_result",
     "data": {
      "text/plain": [
       "<tensorflow.python.keras.callbacks.History at 0x7fc4c1fd36d0>"
      ]
     },
     "metadata": {
      "tags": []
     },
     "execution_count": 100
    }
   ]
  },
  {
   "cell_type": "code",
   "metadata": {
    "id": "aV8ebTxopKBu"
   },
   "source": [
    "# Create the testing dataset\n",
    "# Create a new array containing scaled vaues from index 1543 to 2003\n",
    "\n",
    "test_data = scaled_data[training_data_len - 60 :, :]\n",
    "\n",
    "# Create the data sets x_test and y_test\n",
    "x_test = []\n",
    "y_test = dataset[training_data_len:, :]\n",
    "\n",
    "for i in range(60, len(test_data)):\n",
    "    x_test.append(test_data[i - 60 : i, 0])\n",
    "\n",
    "# Convert the data to a numpy array\n",
    "x_test = np.array(x_test)"
   ],
   "execution_count": 101,
   "outputs": []
  },
  {
   "cell_type": "code",
   "metadata": {
    "id": "E0B0HCD5qqMz"
   },
   "source": [
    "# Reshape the data\n",
    "x_test = np.reshape(x_test, (x_test.shape[0], x_test.shape[1], 1))"
   ],
   "execution_count": 102,
   "outputs": []
  },
  {
   "cell_type": "code",
   "metadata": {
    "id": "WJnz_Ie7q6d6"
   },
   "source": [
    "# Get the model's predicted price value\n",
    "\n",
    "predictions = model.predict(x_test)\n",
    "predictions = scaler.inverse_transform(predictions)"
   ],
   "execution_count": 103,
   "outputs": []
  },
  {
   "cell_type": "code",
   "metadata": {
    "colab": {
     "base_uri": "https://localhost:8080/"
    },
    "id": "zRUqJ3qgrRqy",
    "outputId": "e47f2122-8a13-4e74-a603-5847e3f9e926"
   },
   "source": [
    "# Get the root mean squared error (RMSE)\n",
    "rmse = np.sqrt(np.mean(predictions - y_test) ** 2)\n",
    "rmse"
   ],
   "execution_count": 104,
   "outputs": [
    {
     "output_type": "execute_result",
     "data": {
      "text/plain": [
       "0.6416268318322054"
      ]
     },
     "metadata": {
      "tags": []
     },
     "execution_count": 104
    }
   ]
  },
  {
   "cell_type": "code",
   "metadata": {
    "colab": {
     "base_uri": "https://localhost:8080/",
     "height": 662
    },
    "id": "q_nsj6Bfrydy",
    "outputId": "f8d458dc-0657-4d85-b405-34090729d74c"
   },
   "source": [
    "# Plot the data\n",
    "train = data[:training_data_len]\n",
    "valid = data[training_data_len:]\n",
    "valid[\"predictions\"] = predictions\n",
    "# Visualize the data\n",
    "plt.figure(figsize=(16, 8))\n",
    "plt.title(\"Model\")\n",
    "plt.xlabel(\"Data\", fontsize=18)\n",
    "plt.ylabel(\"Close Price USD ($)\", fontsize=18)\n",
    "plt.plot(train[\"Close\"])\n",
    "plt.plot(valid[[\"Close\", \"predictions\"]])\n",
    "plt.legend([\"Train\", \"Val\", \"Predictions\"], loc=\"lower right\")\n",
    "plt.show()"
   ],
   "execution_count": 105,
   "outputs": [
    {
     "output_type": "stream",
     "text": [
      "/usr/local/lib/python3.7/dist-packages/ipykernel_launcher.py:4: SettingWithCopyWarning: \n",
      "A value is trying to be set on a copy of a slice from a DataFrame.\n",
      "Try using .loc[row_indexer,col_indexer] = value instead\n",
      "\n",
      "See the caveats in the documentation: https://pandas.pydata.org/pandas-docs/stable/user_guide/indexing.html#returning-a-view-versus-a-copy\n",
      "  after removing the cwd from sys.path.\n"
     ],
     "name": "stderr"
    },
    {
     "output_type": "display_data",
     "data": {
      "image/png": "[encoded data removed]",
      "text/plain": [
       "<Figure size 1152x576 with 1 Axes>"
      ]
     },
     "metadata": {
      "tags": []
     }
    }
   ]
  },
  {
   "cell_type": "code",
   "metadata": {
    "colab": {
     "base_uri": "https://localhost:8080/",
     "height": 405
    },
    "id": "PCW41MwDuker",
    "outputId": "f7f5584a-5e05-4579-8948-044ea622d907"
   },
   "source": [
    "valid[\"err\"] = (\n",
    "    (valid[\"Close\"].astype(float) - valid[\"predictions\"].astype(float))\n",
    "    / valid[\"Close\"].astype(float)\n",
    "    * 100\n",
    ").round(3)\n",
    "valid.describe()"
   ],
   "execution_count": 106,
   "outputs": [
    {
     "output_type": "stream",
     "text": [
      "/usr/local/lib/python3.7/dist-packages/ipykernel_launcher.py:2: SettingWithCopyWarning: \n",
      "A value is trying to be set on a copy of a slice from a DataFrame.\n",
      "Try using .loc[row_indexer,col_indexer] = value instead\n",
      "\n",
      "See the caveats in the documentation: https://pandas.pydata.org/pandas-docs/stable/user_guide/indexing.html#returning-a-view-versus-a-copy\n",
      "  \n"
     ],
     "name": "stderr"
    },
    {
     "output_type": "execute_result",
     "data": {
      "text/html": [
       "<div>\n",
       "<style scoped>\n",
       "    .dataframe tbody tr th:only-of-type {\n",
       "        vertical-align: middle;\n",
       "    }\n",
       "\n",
       "    .dataframe tbody tr th {\n",
       "        vertical-align: top;\n",
       "    }\n",
       "\n",
       "    .dataframe thead th {\n",
       "        text-align: right;\n",
       "    }\n",
       "</style>\n",
       "<table border=\"1\" class=\"dataframe\">\n",
       "  <thead>\n",
       "    <tr style=\"text-align: right;\">\n",
       "      <th></th>\n",
       "      <th>Close</th>\n",
       "      <th>predictions</th>\n",
       "      <th>err</th>\n",
       "    </tr>\n",
       "  </thead>\n",
       "  <tbody>\n",
       "    <tr>\n",
       "      <th>count</th>\n",
       "      <td>471.000000</td>\n",
       "      <td>471.000000</td>\n",
       "      <td>471.000000</td>\n",
       "    </tr>\n",
       "    <tr>\n",
       "      <th>mean</th>\n",
       "      <td>92.057818</td>\n",
       "      <td>91.416199</td>\n",
       "      <td>0.462514</td>\n",
       "    </tr>\n",
       "    <tr>\n",
       "      <th>std</th>\n",
       "      <td>29.193923</td>\n",
       "      <td>28.440235</td>\n",
       "      <td>2.499771</td>\n",
       "    </tr>\n",
       "    <tr>\n",
       "      <th>min</th>\n",
       "      <td>48.334999</td>\n",
       "      <td>49.057682</td>\n",
       "      <td>-11.179000</td>\n",
       "    </tr>\n",
       "    <tr>\n",
       "      <th>25%</th>\n",
       "      <td>66.056252</td>\n",
       "      <td>66.190090</td>\n",
       "      <td>-0.788000</td>\n",
       "    </tr>\n",
       "    <tr>\n",
       "      <th>50%</th>\n",
       "      <td>83.974998</td>\n",
       "      <td>83.420715</td>\n",
       "      <td>0.437000</td>\n",
       "    </tr>\n",
       "    <tr>\n",
       "      <th>75%</th>\n",
       "      <td>120.974998</td>\n",
       "      <td>119.459278</td>\n",
       "      <td>1.805500</td>\n",
       "    </tr>\n",
       "    <tr>\n",
       "      <th>max</th>\n",
       "      <td>143.160004</td>\n",
       "      <td>142.910172</td>\n",
       "      <td>9.823000</td>\n",
       "    </tr>\n",
       "  </tbody>\n",
       "</table>\n",
       "</div>"
      ],
      "text/plain": [
       "            Close  predictions         err\n",
       "count  471.000000   471.000000  471.000000\n",
       "mean    92.057818    91.416199    0.462514\n",
       "std     29.193923    28.440235    2.499771\n",
       "min     48.334999    49.057682  -11.179000\n",
       "25%     66.056252    66.190090   -0.788000\n",
       "50%     83.974998    83.420715    0.437000\n",
       "75%    120.974998   119.459278    1.805500\n",
       "max    143.160004   142.910172    9.823000"
      ]
     },
     "metadata": {
      "tags": []
     },
     "execution_count": 106
    }
   ]
  },
  {
   "cell_type": "code",
   "metadata": {
    "id": "Ly4nszz5wEBV"
   },
   "source": [
    ""
   ],
   "execution_count": null,
   "outputs": []
  }
 ]
}