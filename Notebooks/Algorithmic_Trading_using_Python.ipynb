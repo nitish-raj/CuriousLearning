{
 "cells": [
  {
   "cell_type": "markdown",
   "metadata": {
    "colab_type": "text",
    "id": "view-in-github"
   },
   "source": [
    "<a href=\"https://colab.research.google.com/github/nitish-raj/Price-Predictions-ML/blob/master/Algorithmic_Trading_using_Python.ipynb\" target=\"_parent\"><img src=\"https://colab.research.google.com/assets/colab-badge.svg\" alt=\"Open In Colab\"/></a>"
   ]
  },
  {
   "cell_type": "markdown",
   "metadata": {
    "id": "VnaEtKc_R3q2"
   },
   "source": [
    "# **Description**\n",
    "This program uses following two methonds to determine when to buy and sell stock:\n",
    "\n",
    "\n",
    "1. The dual simple moving average crossover (SMA 30 vs SMA 100)\n",
    "2. Moving Average Convergence/Divergence (MACD) Cross Over\n",
    "3. Three moving average\n",
    "4. Money Flow Index(MFI)\n",
    "\n"
   ]
  },
  {
   "cell_type": "code",
   "execution_count": null,
   "metadata": {
    "id": "AwBIX7ET6lkN"
   },
   "outputs": [],
   "source": [
    "# Import the liraries\n",
    "import pandas as pd\n",
    "import numpy as np\n",
    "import pandas_datareader as web\n",
    "from datetime import datetime\n",
    "import matplotlib.pyplot as plt\n",
    "\n",
    "plt.style.use(\"fivethirtyeight\")"
   ]
  },
  {
   "cell_type": "code",
   "execution_count": null,
   "metadata": {
    "colab": {
     "base_uri": "https://localhost:8080/",
     "height": 455
    },
    "id": "HQVyJmWP7mXp",
    "outputId": "5f117bb4-07ca-4563-c043-4df1b9756f64"
   },
   "outputs": [],
   "source": [
    "# Load the data\n",
    "# Get the stock quote\n",
    "stock = web.DataReader(\"AMZN\", data_source=\"yahoo\", start=\"2014-04-01\", end=\"2021-04-30\")\n",
    "# Show data\n",
    "stock"
   ]
  },
  {
   "cell_type": "code",
   "execution_count": null,
   "metadata": {
    "colab": {
     "base_uri": "https://localhost:8080/",
     "height": 405
    },
    "id": "ree2hKgxF1r4",
    "outputId": "1d4c0364-ff2a-4302-aa65-896eff05e715"
   },
   "outputs": [],
   "source": [
    "# Visualize the data\n",
    "plt.figure(figsize=(16, 6))\n",
    "plt.plot(AAPL[\"Adj Close\"], label=\"AAPL\")\n",
    "plt.title(\"Apple Adj. Close Price History\")\n",
    "plt.xlabel(\"Oct. 02. 2014 - May 40 2021\")\n",
    "plt.ylabel(\"Adj. Close price USD ($)\")\n",
    "plt.legend(loc=\"upper left\")\n",
    "plt.show()"
   ]
  },
  {
   "cell_type": "markdown",
   "metadata": {
    "id": "L2_B_cJI6XG8"
   },
   "source": [
    "## **Strategy 1 : SMA**"
   ]
  },
  {
   "cell_type": "code",
   "execution_count": null,
   "metadata": {
    "colab": {
     "base_uri": "https://localhost:8080/",
     "height": 455
    },
    "id": "8E4SutziHFzy",
    "outputId": "51466224-4f7d-41f3-fb53-c708336626d1"
   },
   "outputs": [],
   "source": [
    "# Create the simple moving average with 30 day window\n",
    "SMA30 = pd.DataFrame()\n",
    "SMA30[\"Adj Close Price\"] = AAPL[\"Adj Close\"].rolling(window=30).mean()\n",
    "SMA30"
   ]
  },
  {
   "cell_type": "code",
   "execution_count": null,
   "metadata": {
    "colab": {
     "base_uri": "https://localhost:8080/",
     "height": 455
    },
    "id": "Rgv6X3bPH4wJ",
    "outputId": "408fd666-6f67-4617-867f-ee3cf39ebfe9"
   },
   "outputs": [],
   "source": [
    "# Create a simple moving 100 day average\n",
    "SMA100 = pd.DataFrame()\n",
    "SMA100[\"Adj Close Price\"] = AAPL[\"Adj Close\"].rolling(window=100).mean()\n",
    "SMA100"
   ]
  },
  {
   "cell_type": "code",
   "execution_count": null,
   "metadata": {
    "colab": {
     "base_uri": "https://localhost:8080/",
     "height": 513
    },
    "id": "wZl_CWruIOad",
    "outputId": "6d036119-ee58-42a4-aad9-d5f918ed97a5"
   },
   "outputs": [],
   "source": [
    "# Visualize the data\n",
    "plt.figure(figsize=(20, 8))\n",
    "plt.plot(AAPL[\"Adj Close\"], label=\"AAPL\")\n",
    "plt.plot(SMA30[\"Adj Close Price\"], label=\"SMA30\")\n",
    "plt.plot(SMA100[\"Adj Close Price\"], label=\"SMA100\")\n",
    "plt.title(\"Apple Adj. Close Price History\")\n",
    "plt.xlabel(\"Oct. 02. 2006 - May 40 2021\")\n",
    "plt.ylabel(\"Adj. Close price USD ($)\")\n",
    "plt.legend(loc=\"upper left\")\n",
    "plt.show()"
   ]
  },
  {
   "cell_type": "code",
   "execution_count": null,
   "metadata": {
    "colab": {
     "base_uri": "https://localhost:8080/",
     "height": 455
    },
    "id": "npyX53yqIiLL",
    "outputId": "70fb688d-b85e-4dd9-8fc5-37358059fda1"
   },
   "outputs": [],
   "source": [
    "# Create a new data frame to store all the data\n",
    "data = pd.DataFrame()\n",
    "data[\"AAPL\"] = AAPL[\"Adj Close\"]\n",
    "data[\"SMA30\"] = SMA30[\"Adj Close Price\"]\n",
    "data[\"SMA100\"] = SMA100[\"Adj Close Price\"]\n",
    "data"
   ]
  },
  {
   "cell_type": "code",
   "execution_count": null,
   "metadata": {
    "id": "ikFNRtX2JYeI"
   },
   "outputs": [],
   "source": [
    "# Create function to signal when to buy and sell the asset/ stock\n",
    "def buy_sell(data):\n",
    "    sigPriceBuy = []\n",
    "    sigPriceSell = []\n",
    "    flag = -1\n",
    "\n",
    "    for i in range(len(data)):\n",
    "        if data[\"SMA30\"][i] > data[\"SMA100\"][i]:\n",
    "            if flag != 1:\n",
    "                sigPriceBuy.append(data[\"AAPL\"][i])\n",
    "                sigPriceSell.append(np.nan)\n",
    "                flag = 1\n",
    "            else:\n",
    "                sigPriceBuy.append(np.nan)\n",
    "                sigPriceSell.append(np.nan)\n",
    "        elif data[\"SMA30\"][i] < data[\"SMA100\"][i]:\n",
    "            if flag != 0:\n",
    "                sigPriceBuy.append(np.nan)\n",
    "                sigPriceSell.append(data[\"AAPL\"][i])\n",
    "                flag = 0\n",
    "            else:\n",
    "                sigPriceBuy.append(np.nan)\n",
    "                sigPriceSell.append(np.nan)\n",
    "        else:\n",
    "            sigPriceBuy.append(np.nan)\n",
    "            sigPriceSell.append(np.nan)\n",
    "    return (sigPriceBuy, sigPriceSell)"
   ]
  },
  {
   "cell_type": "code",
   "execution_count": null,
   "metadata": {
    "id": "FVhuqbz5N5CG"
   },
   "outputs": [],
   "source": [
    "# Store the buy and sell data into\n",
    "buy_sell = buy_sell(data)\n",
    "data[\"Signal_buy_Price\"] = buy_sell[0]\n",
    "data[\"Signal_sell_Price\"] = buy_sell[1]"
   ]
  },
  {
   "cell_type": "code",
   "execution_count": null,
   "metadata": {
    "colab": {
     "base_uri": "https://localhost:8080/",
     "height": 455
    },
    "id": "eFT1qZvhPKzd",
    "outputId": "20209c46-d46f-4e4f-8e0b-20e261128b35"
   },
   "outputs": [],
   "source": [
    "# Show the data\n",
    "data"
   ]
  },
  {
   "cell_type": "code",
   "execution_count": null,
   "metadata": {
    "colab": {
     "base_uri": "https://localhost:8080/",
     "height": 513
    },
    "id": "H5sc3DU3PjRr",
    "outputId": "273fff1d-0a7a-486a-86cf-97fcfa1a5b89"
   },
   "outputs": [],
   "source": [
    "# Visualize the data and strategy to buy and sell stock\n",
    "plt.figure(figsize=(20, 8))\n",
    "plt.plot(data[\"AAPL\"], label=\"AAPL\", alpha=0.35)\n",
    "plt.plot(data[\"SMA30\"], label=\"SMA30\", alpha=0.35)\n",
    "plt.plot(data[\"SMA100\"], label=\"SMA100\", alpha=0.35)\n",
    "plt.scatter(\n",
    "    data.index, data[\"Signal_buy_Price\"], label=\"Buy\", marker=\"^\", color=\"green\"\n",
    ")\n",
    "plt.scatter(\n",
    "    data.index, data[\"Signal_sell_Price\"], label=\"Sell\", marker=\"v\", color=\"red\"\n",
    ")\n",
    "plt.title(\"Apple Adj. Close Price History & Buy and Sell Signals\")\n",
    "plt.xlabel(\"Apr. 01. 2014 - May 40 2021\")\n",
    "plt.ylabel(\"Adj. Close price USD ($)\")\n",
    "plt.legend(loc=\"upper left\")\n",
    "plt.show()"
   ]
  },
  {
   "cell_type": "markdown",
   "metadata": {
    "id": "TVC0SyKF6NhQ"
   },
   "source": [
    "## **Strategy 2: MACD**\n"
   ]
  },
  {
   "cell_type": "code",
   "execution_count": null,
   "metadata": {
    "colab": {
     "base_uri": "https://localhost:8080/",
     "height": 455
    },
    "id": "_s4CWfVC68SN",
    "outputId": "4559860d-2432-480f-a909-f4d4599cbae4"
   },
   "outputs": [],
   "source": [
    "# Load the data\n",
    "# Get the stock quote\n",
    "AAPL = web.DataReader(\n",
    "    \"PNB.NS\", data_source=\"yahoo\", start=\"2021-02-01\", end=\"2021-05-18\"\n",
    ")\n",
    "# Show data\n",
    "AAPL"
   ]
  },
  {
   "cell_type": "code",
   "execution_count": null,
   "metadata": {
    "colab": {
     "base_uri": "https://localhost:8080/",
     "height": 361
    },
    "id": "eL0hEwQE_4J6",
    "outputId": "0eea44f4-2ae7-4b04-d381-52b73ff8eb46"
   },
   "outputs": [],
   "source": [
    "plt.figure(figsize=(12.5, 4.5))\n",
    "plt.plot(AAPL[\"Close\"], label=\"Close\")\n",
    "plt.xticks(rotation=45)\n",
    "plt.title(\"Close Price History\")\n",
    "plt.xlabel(\"Date\")\n",
    "plt.ylabel(\"Price USD ($)\")\n",
    "plt.show()"
   ]
  },
  {
   "cell_type": "code",
   "execution_count": null,
   "metadata": {
    "id": "4xZVRSObGBUg"
   },
   "outputs": [],
   "source": [
    "# Calculate the MACD and Signal line indicators\n",
    "# Calculated the short term exponential moving average (EMA)\n",
    "ShortEMA = AAPL.Close.ewm(span=12, adjust=False).mean()\n",
    "# Calculate the long term exponential moving average\n",
    "LongEMA = AAPL.Close.ewm(span=26, adjust=False).mean()\n",
    "# Calculate the MACD line\n",
    "MACD = ShortEMA - LongEMA\n",
    "# Calculate the signal line\n",
    "signal = MACD.ewm(span=9, adjust=False).mean()"
   ]
  },
  {
   "cell_type": "code",
   "execution_count": null,
   "metadata": {
    "colab": {
     "base_uri": "https://localhost:8080/",
     "height": 517
    },
    "id": "OIKogigtHMoa",
    "outputId": "63aef60b-6a04-4127-ddc6-61e8d4a277f8"
   },
   "outputs": [],
   "source": [
    "# Plot the chart\n",
    "plt.figure(figsize=(20, 8))\n",
    "plt.plot(AAPL.index, MACD, label=\"AAPL MACD\", color=\"red\")\n",
    "plt.plot(AAPL.index, signal, label=\"Signal Line\", color=\"blue\")\n",
    "plt.xticks(rotation=45)\n",
    "plt.legend(loc=\"upper left\")\n",
    "plt.show()"
   ]
  },
  {
   "cell_type": "code",
   "execution_count": null,
   "metadata": {
    "colab": {
     "base_uri": "https://localhost:8080/",
     "height": 455
    },
    "id": "TEtxUD_GITmU",
    "outputId": "af55f76c-8f67-47b2-822e-cb19178b8aec"
   },
   "outputs": [],
   "source": [
    "# Creaet new columns for the data\n",
    "AAPL[\"MACD\"] = MACD\n",
    "AAPL[\"Signal Line\"] = signal\n",
    "\n",
    "# Show data\n",
    "AAPL"
   ]
  },
  {
   "cell_type": "code",
   "execution_count": null,
   "metadata": {
    "id": "KLkfQeZIOdfg"
   },
   "outputs": [],
   "source": [
    "# Create a function to signal whn to buy and sell and asset\n",
    "def buy_sell(signal):\n",
    "    Buy = []\n",
    "    Sell = []\n",
    "    flag = -1\n",
    "\n",
    "    for i in range(len(signal)):\n",
    "        if signal[\"MACD\"][i] > signal[\"Signal Line\"][i]:\n",
    "            Sell.append(np.nan)\n",
    "            if flag != 1:\n",
    "                Buy.append(signal[\"Close\"][i])\n",
    "                flag = 1\n",
    "            else:\n",
    "                Buy.append(np.nan)\n",
    "        elif signal[\"MACD\"][i] < signal[\"Signal Line\"][i]:\n",
    "            Buy.append(np.nan)\n",
    "            if flag != 0:\n",
    "                Sell.append(signal[\"Close\"][i])\n",
    "                flag = 0\n",
    "            else:\n",
    "                Sell.append(np.nan)\n",
    "        else:\n",
    "            Sell.append(np.nan)\n",
    "            Buy.append(np.nan)\n",
    "    return Buy, Sell"
   ]
  },
  {
   "cell_type": "code",
   "execution_count": null,
   "metadata": {
    "colab": {
     "base_uri": "https://localhost:8080/",
     "height": 455
    },
    "id": "l65zsn2HPof1",
    "outputId": "ee95f7af-b37b-4c10-e960-a7ecf4684b49"
   },
   "outputs": [],
   "source": [
    "# Create buy and sell column\n",
    "a = buy_sell(AAPL)\n",
    "AAPL[\"Buy signal Price\"] = a[0]\n",
    "AAPL[\"Sell Signal Price\"] = a[1]\n",
    "AAPL"
   ]
  },
  {
   "cell_type": "code",
   "execution_count": null,
   "metadata": {
    "colab": {
     "base_uri": "https://localhost:8080/",
     "height": 455
    },
    "id": "2vGhhPSOQ9xE",
    "outputId": "28d1c26d-728e-4272-a7e0-90eec9071b08"
   },
   "outputs": [],
   "source": [
    "AAPL"
   ]
  },
  {
   "cell_type": "code",
   "execution_count": null,
   "metadata": {
    "colab": {
     "base_uri": "https://localhost:8080/",
     "height": 551
    },
    "id": "HwqMPhKQP-yc",
    "outputId": "370ee72d-8f04-4508-fc39-f418aba8fd07"
   },
   "outputs": [],
   "source": [
    "# Visualize the data and strategy to buy and sell stock\n",
    "plt.figure(figsize=(20, 8))\n",
    "plt.plot(AAPL[\"Close\"], label=\"Close Price\", alpha=0.35)\n",
    "plt.scatter(\n",
    "    AAPL.index,\n",
    "    AAPL[\"Buy signal Price\"],\n",
    "    label=\"Buy\",\n",
    "    marker=\"^\",\n",
    "    color=\"green\",\n",
    "    alpha=1,\n",
    ")\n",
    "plt.scatter(\n",
    "    AAPL.index, AAPL[\"Sell Signal Price\"], label=\"Sell\", marker=\"v\", color=\"red\"\n",
    ")\n",
    "plt.title(\"Apple Close Price History & Buy and Sell Signals\")\n",
    "plt.xticks(rotation=45)\n",
    "plt.xlabel(\"Date\")\n",
    "plt.ylabel(\"Close price USD ($)\")\n",
    "plt.legend(loc=\"upper left\")\n",
    "plt.show()"
   ]
  },
  {
   "cell_type": "markdown",
   "metadata": {
    "id": "-I139KB1KBKc"
   },
   "source": [
    "## **Strategy 3: Three Moving Average**"
   ]
  },
  {
   "cell_type": "code",
   "execution_count": null,
   "metadata": {
    "colab": {
     "base_uri": "https://localhost:8080/",
     "height": 455
    },
    "id": "3py9Ts0fQ1eq",
    "outputId": "724f937a-9348-464f-bc8a-992d6f3e3f6f"
   },
   "outputs": [],
   "source": [
    "# Load the data\n",
    "# Get the stock quote\n",
    "df = web.DataReader(\"TSLA\", data_source=\"yahoo\", start=\"2020-01-01\", end=\"2021-05-30\")\n",
    "# Show data\n",
    "df"
   ]
  },
  {
   "cell_type": "code",
   "execution_count": null,
   "metadata": {
    "colab": {
     "base_uri": "https://localhost:8080/",
     "height": 321
    },
    "id": "H158niA8PFYO",
    "outputId": "41712780-2157-401b-cc3c-9375fe65e539"
   },
   "outputs": [],
   "source": [
    "# Visualize the data\n",
    "plt.figure(figsize=(20, 4))\n",
    "plt.title(\"Close Price\")\n",
    "plt.plot(df[\"Close\"], label=\"TSLA CLose Price\")\n",
    "plt.xlabel(\"Date\", fontsize=14)\n",
    "plt.ylabel(\"Close Price ($)\", fontsize=14)\n",
    "plt.legend(loc=\"upper left\")\n",
    "plt.show()"
   ]
  },
  {
   "cell_type": "code",
   "execution_count": null,
   "metadata": {
    "id": "0riqIF9YREDN"
   },
   "outputs": [],
   "source": [
    "# Calculate the three moving averages\n",
    "\n",
    "# Calculate the shoft/fast exponenetial moving average\n",
    "df[\"ShortEMA\"] = df.Close.ewm(span=5, adjust=False).mean()\n",
    "\n",
    "# Calculate the Middle/Medium exponential moving averages\n",
    "df[\"MiddleEMA\"] = df.Close.ewm(span=21, adjust=False).mean()\n",
    "\n",
    "# Calculate the long/slow exponential moving average\n",
    "df[\"LongEMA\"] = df.Close.ewm(span=63, adjust=False).mean()"
   ]
  },
  {
   "cell_type": "code",
   "execution_count": null,
   "metadata": {
    "colab": {
     "base_uri": "https://localhost:8080/",
     "height": 581
    },
    "id": "IzFaduOhP8FI",
    "outputId": "41f4b944-eea2-4140-ccbd-b8f95914bb1a"
   },
   "outputs": [],
   "source": [
    "# Visualiuze the closing price and the exponential moving averages\n",
    "# Visualize the data\n",
    "plt.figure(figsize=(25, 10))\n",
    "plt.title(\"TSLA : Close Price vs Short EMA vs MiddleEMA vs LongEMA\")\n",
    "plt.plot(df[\"Close\"], label=\"TSLA CLose Price\", color=\"blue\")\n",
    "plt.plot(df[\"ShortEMA\"], label=\"ShortEMA\", color=\"red\")\n",
    "plt.plot(df[\"MiddleEMA\"], label=\"MiddleEMA\", color=\"orange\")\n",
    "plt.plot(df[\"LongEMA\"], label=\"LongEMA\", color=\"green\")\n",
    "plt.xlabel(\"Date\", fontsize=14)\n",
    "plt.xticks(rotation=45)\n",
    "plt.ylabel(\"Close Price ($)\", fontsize=14)\n",
    "plt.legend(loc=\"upper left\", fontsize=16)\n",
    "plt.show()"
   ]
  },
  {
   "cell_type": "code",
   "execution_count": null,
   "metadata": {
    "id": "RGfsBSynSPtF"
   },
   "outputs": [],
   "source": [
    "# Create the function to buy and sell the stock\n",
    "\n",
    "\n",
    "def buy_sell_function(data):\n",
    "    buy_list = []\n",
    "    sell_list = []\n",
    "    flag_long = False\n",
    "    flag_short = False\n",
    "\n",
    "    for i in range(0, len(data)):\n",
    "        if (\n",
    "            (data[\"MiddleEMA\"][i] < data[\"LongEMA\"][i])\n",
    "            and (data[\"ShortEMA\"][i] < data[\"MiddleEMA\"][i])\n",
    "            and flag_long == False\n",
    "            and flag_short == False\n",
    "        ):\n",
    "            buy_list.append(data[\"Close\"][i])\n",
    "            sell_list.append(np.nan)\n",
    "            flag_short = True\n",
    "        elif flag_short == True and data[\"ShortEMA\"][i] > data[\"MiddleEMA\"][i]:\n",
    "            sell_list.append(data[\"Close\"][i])\n",
    "            buy_list.append(np.nan)\n",
    "            flag_short = False\n",
    "        elif (\n",
    "            data[\"MiddleEMA\"][i] > data[\"LongEMA\"][i]\n",
    "            and data[\"ShortEMA\"][i] > data[\"MiddleEMA\"][i]\n",
    "            and flag_long == False\n",
    "            and flag_short == False\n",
    "        ):\n",
    "            buy_list.append(data[\"Close\"][i])\n",
    "            sell_list.append(np.nan)\n",
    "            flag_long = True\n",
    "        elif flag_long == True and data[\"ShortEMA\"][i] < data[\"MiddleEMA\"][i]:\n",
    "            sell_list.append(data[\"Close\"][i])\n",
    "            buy_list.append(np.nan)\n",
    "            flag_long = False\n",
    "        else:\n",
    "            buy_list.append(np.nan)\n",
    "            sell_list.append(np.nan)\n",
    "    return (buy_list, sell_list)"
   ]
  },
  {
   "cell_type": "code",
   "execution_count": null,
   "metadata": {
    "id": "rEb5W6XTVWro"
   },
   "outputs": [],
   "source": [
    "df[\"Buy\"] = buy_sell_function(df)[0]\n",
    "df[\"Sell\"] = buy_sell_function(df)[1]"
   ]
  },
  {
   "cell_type": "code",
   "execution_count": null,
   "metadata": {
    "colab": {
     "base_uri": "https://localhost:8080/",
     "height": 455
    },
    "id": "y5LPcXcaXfeB",
    "outputId": "168cb50b-2c68-403b-9380-dad42ffb8051"
   },
   "outputs": [],
   "source": [
    "df"
   ]
  },
  {
   "cell_type": "code",
   "execution_count": null,
   "metadata": {
    "colab": {
     "base_uri": "https://localhost:8080/",
     "height": 727
    },
    "id": "3pg-HZqkVpGx",
    "outputId": "caff7f48-1cbd-48db-e3b6-76f1a95f6856"
   },
   "outputs": [],
   "source": [
    "# Visualiuze the closing price and the exponential moving averages\n",
    "# Visualize the data\n",
    "plt.figure(figsize=(25, 10))\n",
    "plt.title(\"TSLA : Buy and Sell Chart\")\n",
    "plt.plot(df[\"Close\"], label=\"TSLA CLose Price\", color=\"blue\", alpha=0.35)\n",
    "# plt.plot(df['ShortEMA'],label = 'Short/Fast EMA',color = 'red',alpha = 0.35)\n",
    "# plt.plot(df['MiddleEMA'],label = 'Middle/Medium EMA', color = 'orange',alpha = 0.35)\n",
    "# plt.plot(df['LongEMA'],label = 'Long/Slow EMA',color = 'green',alpha = 0.35)\n",
    "plt.scatter(df.index, df[\"Buy\"], color=\"green\", marker=\"^\", alpha=1, s=100)\n",
    "plt.scatter(df.index, df[\"Sell\"], color=\"red\", marker=\"v\", alpha=1, s=100)\n",
    "plt.xlabel(\"Date\", fontsize=14)\n",
    "plt.xticks(rotation=45)\n",
    "plt.ylabel(\"Close Price ($)\", fontsize=14)\n",
    "plt.legend(loc=\"upper left\", fontsize=16)\n",
    "plt.show()"
   ]
  },
  {
   "cell_type": "markdown",
   "metadata": {
    "id": "nqPAoGGrqH1D"
   },
   "source": [
    "## **Strategy 4: MFI**"
   ]
  },
  {
   "cell_type": "code",
   "execution_count": null,
   "metadata": {
    "colab": {
     "base_uri": "https://localhost:8080/",
     "height": 455
    },
    "id": "g3jUv0diW3sn",
    "outputId": "8e5d3b82-3912-4c83-bcae-886d42798db3"
   },
   "outputs": [],
   "source": [
    "# Load the data\n",
    "# Get the stock quote\n",
    "df = web.DataReader(\"AAPL\", data_source=\"yahoo\", start=\"2020-01-01\", end=\"2021-05-30\")\n",
    "# Show data\n",
    "df"
   ]
  },
  {
   "cell_type": "code",
   "execution_count": null,
   "metadata": {
    "id": "wVuDQsSBqxVp"
   },
   "outputs": [],
   "source": []
  }
 ],
 "metadata": {
  "colab": {
   "authorship_tag": "ABX9TyPerPP9jbgqlx4UP2uOMjjY",
   "collapsed_sections": [],
   "include_colab_link": true,
   "name": "Algorithmic Trading using Python.ipynb",
   "provenance": []
  },
  "kernelspec": {
   "display_name": "Python 3",
   "name": "python3"
  },
  "language_info": {
   "codemirror_mode": {
    "name": "ipython",
    "version": 3
   },
   "file_extension": ".py",
   "mimetype": "text/x-python",
   "name": "python",
   "nbconvert_exporter": "python",
   "pygments_lexer": "ipython3",
   "version": "3.10.12"
  }
 },
 "nbformat": 4,
 "nbformat_minor": 0
}
