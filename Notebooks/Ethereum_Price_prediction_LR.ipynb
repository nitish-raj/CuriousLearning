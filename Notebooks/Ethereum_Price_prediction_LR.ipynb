{
 "nbformat": 4,
 "nbformat_minor": 0,
 "metadata": {
  "colab": {
   "name": "Ethereum_Price_prediction_LR.ipynb",
   "provenance": [],
   "authorship_tag": "ABX9TyNTAPstduZonnRCAw3YwoDd",
   "include_colab_link": true
  },
  "kernelspec": {
   "name": "python3",
   "display_name": "Python 3"
  },
  "language_info": {
   "name": "python"
  }
 },
 "cells": [
  {
   "cell_type": "markdown",
   "metadata": {
    "id": "view-in-github",
    "colab_type": "text"
   },
   "source": [
    "<a href=\"https://colab.research.google.com/github/nitish-raj/Price-Predictions-ML/blob/master/Ethereum_Price_prediction_LR.ipynb\" target=\"_parent\"><img src=\"https://colab.research.google.com/assets/colab-badge.svg\" alt=\"Open In Colab\"/></a>"
   ]
  },
  {
   "cell_type": "code",
   "metadata": {
    "id": "P-vHK6uD3UY_"
   },
   "source": [
    "# Description : Predict the price of ETH"
   ],
   "execution_count": 1,
   "outputs": []
  },
  {
   "cell_type": "code",
   "metadata": {
    "id": "5oop6Z954BPH"
   },
   "source": [
    "# Import the dependencies\n",
    "import pandas as pd\n",
    "import numpy as np\n",
    "from sklearn.linear_model import LinearRegression\n",
    "from sklearn.model_selection import train_test_split\n",
    "import pandas_datareader as web"
   ],
   "execution_count": 2,
   "outputs": []
  },
  {
   "cell_type": "code",
   "metadata": {
    "colab": {
     "base_uri": "https://localhost:8080/",
     "height": 455
    },
    "id": "wQmnXz_sNbI6",
    "outputId": "cca7e8ce-174c-4a01-c6df-d777069fe97a"
   },
   "source": [
    "# Get the stock quote\n",
    "df = web.DataReader(\n",
    "    \"ETH-USD\", data_source=\"yahoo\", start=\"2012-01-01\", end=\"2021-05-15\"\n",
    ")\n",
    "\n",
    "# Show data\n",
    "df"
   ],
   "execution_count": 4,
   "outputs": [
    {
     "output_type": "execute_result",
     "data": {
      "text/html": [
       "<div>\n",
       "<style scoped>\n",
       "    .dataframe tbody tr th:only-of-type {\n",
       "        vertical-align: middle;\n",
       "    }\n",
       "\n",
       "    .dataframe tbody tr th {\n",
       "        vertical-align: top;\n",
       "    }\n",
       "\n",
       "    .dataframe thead th {\n",
       "        text-align: right;\n",
       "    }\n",
       "</style>\n",
       "<table border=\"1\" class=\"dataframe\">\n",
       "  <thead>\n",
       "    <tr style=\"text-align: right;\">\n",
       "      <th></th>\n",
       "      <th>High</th>\n",
       "      <th>Low</th>\n",
       "      <th>Open</th>\n",
       "      <th>Close</th>\n",
       "      <th>Volume</th>\n",
       "      <th>Adj Close</th>\n",
       "    </tr>\n",
       "    <tr>\n",
       "      <th>Date</th>\n",
       "      <th></th>\n",
       "      <th></th>\n",
       "      <th></th>\n",
       "      <th></th>\n",
       "      <th></th>\n",
       "      <th></th>\n",
       "    </tr>\n",
       "  </thead>\n",
       "  <tbody>\n",
       "    <tr>\n",
       "      <th>2015-08-06</th>\n",
       "      <td>3.536610</td>\n",
       "      <td>2.521120</td>\n",
       "      <td>2.831620</td>\n",
       "      <td>2.772120</td>\n",
       "      <td>1.643290e+05</td>\n",
       "      <td>2.772120</td>\n",
       "    </tr>\n",
       "    <tr>\n",
       "      <th>2015-08-07</th>\n",
       "      <td>2.798810</td>\n",
       "      <td>0.714725</td>\n",
       "      <td>2.793760</td>\n",
       "      <td>0.753325</td>\n",
       "      <td>6.741880e+05</td>\n",
       "      <td>0.753325</td>\n",
       "    </tr>\n",
       "    <tr>\n",
       "      <th>2015-08-08</th>\n",
       "      <td>0.879810</td>\n",
       "      <td>0.629191</td>\n",
       "      <td>0.706136</td>\n",
       "      <td>0.701897</td>\n",
       "      <td>5.321700e+05</td>\n",
       "      <td>0.701897</td>\n",
       "    </tr>\n",
       "    <tr>\n",
       "      <th>2015-08-09</th>\n",
       "      <td>0.729854</td>\n",
       "      <td>0.636546</td>\n",
       "      <td>0.713989</td>\n",
       "      <td>0.708448</td>\n",
       "      <td>4.052830e+05</td>\n",
       "      <td>0.708448</td>\n",
       "    </tr>\n",
       "    <tr>\n",
       "      <th>2015-08-10</th>\n",
       "      <td>1.131410</td>\n",
       "      <td>0.663235</td>\n",
       "      <td>0.708087</td>\n",
       "      <td>1.067860</td>\n",
       "      <td>1.463100e+06</td>\n",
       "      <td>1.067860</td>\n",
       "    </tr>\n",
       "    <tr>\n",
       "      <th>...</th>\n",
       "      <td>...</td>\n",
       "      <td>...</td>\n",
       "      <td>...</td>\n",
       "      <td>...</td>\n",
       "      <td>...</td>\n",
       "      <td>...</td>\n",
       "    </tr>\n",
       "    <tr>\n",
       "      <th>2021-05-10</th>\n",
       "      <td>4178.208984</td>\n",
       "      <td>3783.889404</td>\n",
       "      <td>3948.271973</td>\n",
       "      <td>4168.701172</td>\n",
       "      <td>5.267974e+10</td>\n",
       "      <td>4168.701172</td>\n",
       "    </tr>\n",
       "    <tr>\n",
       "      <th>2021-05-11</th>\n",
       "      <td>4362.350586</td>\n",
       "      <td>3785.848633</td>\n",
       "      <td>4174.635742</td>\n",
       "      <td>3785.848633</td>\n",
       "      <td>6.902338e+10</td>\n",
       "      <td>3785.848633</td>\n",
       "    </tr>\n",
       "    <tr>\n",
       "      <th>2021-05-12</th>\n",
       "      <td>4032.563477</td>\n",
       "      <td>3549.407227</td>\n",
       "      <td>3828.918457</td>\n",
       "      <td>3715.148438</td>\n",
       "      <td>7.839821e+10</td>\n",
       "      <td>3715.148438</td>\n",
       "    </tr>\n",
       "    <tr>\n",
       "      <th>2021-05-13</th>\n",
       "      <td>4171.017090</td>\n",
       "      <td>3703.399902</td>\n",
       "      <td>3720.122314</td>\n",
       "      <td>4079.057373</td>\n",
       "      <td>4.817427e+10</td>\n",
       "      <td>4079.057373</td>\n",
       "    </tr>\n",
       "    <tr>\n",
       "      <th>2021-05-15</th>\n",
       "      <td>4129.185547</td>\n",
       "      <td>3710.246338</td>\n",
       "      <td>4099.667969</td>\n",
       "      <td>3745.686523</td>\n",
       "      <td>4.266676e+10</td>\n",
       "      <td>3745.686523</td>\n",
       "    </tr>\n",
       "  </tbody>\n",
       "</table>\n",
       "<p>2105 rows × 6 columns</p>\n",
       "</div>"
      ],
      "text/plain": [
       "                   High          Low  ...        Volume    Adj Close\n",
       "Date                                  ...                           \n",
       "2015-08-06     3.536610     2.521120  ...  1.643290e+05     2.772120\n",
       "2015-08-07     2.798810     0.714725  ...  6.741880e+05     0.753325\n",
       "2015-08-08     0.879810     0.629191  ...  5.321700e+05     0.701897\n",
       "2015-08-09     0.729854     0.636546  ...  4.052830e+05     0.708448\n",
       "2015-08-10     1.131410     0.663235  ...  1.463100e+06     1.067860\n",
       "...                 ...          ...  ...           ...          ...\n",
       "2021-05-10  4178.208984  3783.889404  ...  5.267974e+10  4168.701172\n",
       "2021-05-11  4362.350586  3785.848633  ...  6.902338e+10  3785.848633\n",
       "2021-05-12  4032.563477  3549.407227  ...  7.839821e+10  3715.148438\n",
       "2021-05-13  4171.017090  3703.399902  ...  4.817427e+10  4079.057373\n",
       "2021-05-15  4129.185547  3710.246338  ...  4.266676e+10  3745.686523\n",
       "\n",
       "[2105 rows x 6 columns]"
      ]
     },
     "metadata": {
      "tags": []
     },
     "execution_count": 4
    }
   ]
  },
  {
   "cell_type": "code",
   "metadata": {
    "colab": {
     "base_uri": "https://localhost:8080/",
     "height": 455
    },
    "id": "_E-t5zAFNfrO",
    "outputId": "00fd560b-a308-465f-eae5-cff2eed0ec63"
   },
   "source": [
    "# Create a varible for predicting 'n; days out into future\n",
    "projection = 14\n",
    "# Create a new column called Prediction\n",
    "df[\"Prediction\"] = df[[\"Close\"]].shift(-projection)\n",
    "# Show the dataset\n",
    "df"
   ],
   "execution_count": 5,
   "outputs": [
    {
     "output_type": "execute_result",
     "data": {
      "text/html": [
       "<div>\n",
       "<style scoped>\n",
       "    .dataframe tbody tr th:only-of-type {\n",
       "        vertical-align: middle;\n",
       "    }\n",
       "\n",
       "    .dataframe tbody tr th {\n",
       "        vertical-align: top;\n",
       "    }\n",
       "\n",
       "    .dataframe thead th {\n",
       "        text-align: right;\n",
       "    }\n",
       "</style>\n",
       "<table border=\"1\" class=\"dataframe\">\n",
       "  <thead>\n",
       "    <tr style=\"text-align: right;\">\n",
       "      <th></th>\n",
       "      <th>High</th>\n",
       "      <th>Low</th>\n",
       "      <th>Open</th>\n",
       "      <th>Close</th>\n",
       "      <th>Volume</th>\n",
       "      <th>Adj Close</th>\n",
       "      <th>Prediction</th>\n",
       "    </tr>\n",
       "    <tr>\n",
       "      <th>Date</th>\n",
       "      <th></th>\n",
       "      <th></th>\n",
       "      <th></th>\n",
       "      <th></th>\n",
       "      <th></th>\n",
       "      <th></th>\n",
       "      <th></th>\n",
       "    </tr>\n",
       "  </thead>\n",
       "  <tbody>\n",
       "    <tr>\n",
       "      <th>2015-08-06</th>\n",
       "      <td>3.536610</td>\n",
       "      <td>2.521120</td>\n",
       "      <td>2.831620</td>\n",
       "      <td>2.772120</td>\n",
       "      <td>1.643290e+05</td>\n",
       "      <td>2.772120</td>\n",
       "      <td>1.39529</td>\n",
       "    </tr>\n",
       "    <tr>\n",
       "      <th>2015-08-07</th>\n",
       "      <td>2.798810</td>\n",
       "      <td>0.714725</td>\n",
       "      <td>2.793760</td>\n",
       "      <td>0.753325</td>\n",
       "      <td>6.741880e+05</td>\n",
       "      <td>0.753325</td>\n",
       "      <td>1.37923</td>\n",
       "    </tr>\n",
       "    <tr>\n",
       "      <th>2015-08-08</th>\n",
       "      <td>0.879810</td>\n",
       "      <td>0.629191</td>\n",
       "      <td>0.706136</td>\n",
       "      <td>0.701897</td>\n",
       "      <td>5.321700e+05</td>\n",
       "      <td>0.701897</td>\n",
       "      <td>1.35259</td>\n",
       "    </tr>\n",
       "    <tr>\n",
       "      <th>2015-08-09</th>\n",
       "      <td>0.729854</td>\n",
       "      <td>0.636546</td>\n",
       "      <td>0.713989</td>\n",
       "      <td>0.708448</td>\n",
       "      <td>4.052830e+05</td>\n",
       "      <td>0.708448</td>\n",
       "      <td>1.23127</td>\n",
       "    </tr>\n",
       "    <tr>\n",
       "      <th>2015-08-10</th>\n",
       "      <td>1.131410</td>\n",
       "      <td>0.663235</td>\n",
       "      <td>0.708087</td>\n",
       "      <td>1.067860</td>\n",
       "      <td>1.463100e+06</td>\n",
       "      <td>1.067860</td>\n",
       "      <td>1.14019</td>\n",
       "    </tr>\n",
       "    <tr>\n",
       "      <th>...</th>\n",
       "      <td>...</td>\n",
       "      <td>...</td>\n",
       "      <td>...</td>\n",
       "      <td>...</td>\n",
       "      <td>...</td>\n",
       "      <td>...</td>\n",
       "      <td>...</td>\n",
       "    </tr>\n",
       "    <tr>\n",
       "      <th>2021-05-10</th>\n",
       "      <td>4178.208984</td>\n",
       "      <td>3783.889404</td>\n",
       "      <td>3948.271973</td>\n",
       "      <td>4168.701172</td>\n",
       "      <td>5.267974e+10</td>\n",
       "      <td>4168.701172</td>\n",
       "      <td>NaN</td>\n",
       "    </tr>\n",
       "    <tr>\n",
       "      <th>2021-05-11</th>\n",
       "      <td>4362.350586</td>\n",
       "      <td>3785.848633</td>\n",
       "      <td>4174.635742</td>\n",
       "      <td>3785.848633</td>\n",
       "      <td>6.902338e+10</td>\n",
       "      <td>3785.848633</td>\n",
       "      <td>NaN</td>\n",
       "    </tr>\n",
       "    <tr>\n",
       "      <th>2021-05-12</th>\n",
       "      <td>4032.563477</td>\n",
       "      <td>3549.407227</td>\n",
       "      <td>3828.918457</td>\n",
       "      <td>3715.148438</td>\n",
       "      <td>7.839821e+10</td>\n",
       "      <td>3715.148438</td>\n",
       "      <td>NaN</td>\n",
       "    </tr>\n",
       "    <tr>\n",
       "      <th>2021-05-13</th>\n",
       "      <td>4171.017090</td>\n",
       "      <td>3703.399902</td>\n",
       "      <td>3720.122314</td>\n",
       "      <td>4079.057373</td>\n",
       "      <td>4.817427e+10</td>\n",
       "      <td>4079.057373</td>\n",
       "      <td>NaN</td>\n",
       "    </tr>\n",
       "    <tr>\n",
       "      <th>2021-05-15</th>\n",
       "      <td>4129.185547</td>\n",
       "      <td>3710.246338</td>\n",
       "      <td>4099.667969</td>\n",
       "      <td>3745.686523</td>\n",
       "      <td>4.266676e+10</td>\n",
       "      <td>3745.686523</td>\n",
       "      <td>NaN</td>\n",
       "    </tr>\n",
       "  </tbody>\n",
       "</table>\n",
       "<p>2105 rows × 7 columns</p>\n",
       "</div>"
      ],
      "text/plain": [
       "                   High          Low  ...    Adj Close  Prediction\n",
       "Date                                  ...                         \n",
       "2015-08-06     3.536610     2.521120  ...     2.772120     1.39529\n",
       "2015-08-07     2.798810     0.714725  ...     0.753325     1.37923\n",
       "2015-08-08     0.879810     0.629191  ...     0.701897     1.35259\n",
       "2015-08-09     0.729854     0.636546  ...     0.708448     1.23127\n",
       "2015-08-10     1.131410     0.663235  ...     1.067860     1.14019\n",
       "...                 ...          ...  ...          ...         ...\n",
       "2021-05-10  4178.208984  3783.889404  ...  4168.701172         NaN\n",
       "2021-05-11  4362.350586  3785.848633  ...  3785.848633         NaN\n",
       "2021-05-12  4032.563477  3549.407227  ...  3715.148438         NaN\n",
       "2021-05-13  4171.017090  3703.399902  ...  4079.057373         NaN\n",
       "2021-05-15  4129.185547  3710.246338  ...  3745.686523         NaN\n",
       "\n",
       "[2105 rows x 7 columns]"
      ]
     },
     "metadata": {
      "tags": []
     },
     "execution_count": 5
    }
   ]
  },
  {
   "cell_type": "code",
   "metadata": {
    "colab": {
     "base_uri": "https://localhost:8080/"
    },
    "id": "9HxK7sVGOd8V",
    "outputId": "cabe3e00-cbc3-478f-c208-7d66e66e66a7"
   },
   "source": [
    "# Createthe independent data set (X)\n",
    "X = np.array(df[[\"Close\"]])\n",
    "# Remove the last 14 rows\n",
    "X = X[:-projection]\n",
    "print(X)"
   ],
   "execution_count": 6,
   "outputs": [
    {
     "output_type": "stream",
     "text": [
      "[[2.77212000e+00]\n",
      " [7.53324986e-01]\n",
      " [7.01897025e-01]\n",
      " ...\n",
      " [2.75687695e+03]\n",
      " [2.77320703e+03]\n",
      " [2.94589282e+03]]\n"
     ],
     "name": "stdout"
    }
   ]
  },
  {
   "cell_type": "code",
   "metadata": {
    "colab": {
     "base_uri": "https://localhost:8080/"
    },
    "id": "Jm6on8ToPJaX",
    "outputId": "62d6252a-17d7-4a49-efa9-281724317978"
   },
   "source": [
    "# Create the dependent data set 9y)\n",
    "y = df[\"Prediction\"].values\n",
    "y = y[:-projection]\n",
    "print(y)"
   ],
   "execution_count": 8,
   "outputs": [
    {
     "output_type": "stream",
     "text": [
      "[1.39529002e+00 1.37923002e+00 1.35258996e+00 ... 3.71514844e+03\n",
      " 4.07905737e+03 3.74568652e+03]\n"
     ],
     "name": "stdout"
    }
   ]
  },
  {
   "cell_type": "code",
   "metadata": {
    "id": "YH0hVYbyPYOf"
   },
   "source": [
    "# Split the data into 85% traiing and 15% testing data\n",
    "X_train, x_test, y_train, y_test = train_test_split(X, y, test_size=0.15)"
   ],
   "execution_count": 9,
   "outputs": []
  },
  {
   "cell_type": "code",
   "metadata": {
    "colab": {
     "base_uri": "https://localhost:8080/"
    },
    "id": "aMJJXNkJPqK7",
    "outputId": "64e9a983-afd5-40dd-e14f-84ae8ccfda8d"
   },
   "source": [
    "# Create and train the model\n",
    "linReg = LinearRegression()\n",
    "# Train the model\n",
    "linReg.fit(X_train, y_train)"
   ],
   "execution_count": 14,
   "outputs": [
    {
     "output_type": "execute_result",
     "data": {
      "text/plain": [
       "LinearRegression(copy_X=True, fit_intercept=True, n_jobs=None, normalize=False)"
      ]
     },
     "metadata": {
      "tags": []
     },
     "execution_count": 14
    }
   ]
  },
  {
   "cell_type": "code",
   "metadata": {
    "colab": {
     "base_uri": "https://localhost:8080/"
    },
    "id": "wKlgQfDVP45p",
    "outputId": "428b3f34-6823-4072-a341-c33e9c4c41a8"
   },
   "source": [
    "linReg_confidence = linReg.score(x_test, y_test)\n",
    "print(\"Linear regression confidence:\", linReg_confidence)"
   ],
   "execution_count": 16,
   "outputs": [
    {
     "output_type": "stream",
     "text": [
      "Linear regression confidence: 0.9100504418766384\n"
     ],
     "name": "stdout"
    }
   ]
  },
  {
   "cell_type": "code",
   "metadata": {
    "colab": {
     "base_uri": "https://localhost:8080/"
    },
    "id": "5X1O83BsQY4T",
    "outputId": "01ddac7f-a232-4a84-cc1f-be43b23ade75"
   },
   "source": [
    "# Create a variable called x_projection and set it equal o the last 14 days of data from the original dataset\n",
    "x_projection = np.array(df[[\"Close\"]])[-projection:]\n",
    "x_projection"
   ],
   "execution_count": 19,
   "outputs": [
    {
     "output_type": "execute_result",
     "data": {
      "text/plain": [
       "array([[2952.05615234],\n",
       "       [3431.08618164],\n",
       "       [3253.62939453],\n",
       "       [3522.78320312],\n",
       "       [3490.88037109],\n",
       "       [3484.72900391],\n",
       "       [3902.64770508],\n",
       "       [3928.84472656],\n",
       "       [3952.29394531],\n",
       "       [4168.70117188],\n",
       "       [3785.84863281],\n",
       "       [3715.1484375 ],\n",
       "       [4079.05737305],\n",
       "       [3745.68652344]])"
      ]
     },
     "metadata": {
      "tags": []
     },
     "execution_count": 19
    }
   ]
  },
  {
   "cell_type": "code",
   "metadata": {
    "colab": {
     "base_uri": "https://localhost:8080/"
    },
    "id": "qs50ERFMRxJ2",
    "outputId": "cd497560-fc16-41c0-971b-3558d7cc8ff5"
   },
   "source": [
    "# Print the linear regression model prediction for next 14 days\n",
    "linReg_prediction = linReg.predict(x_projection)\n",
    "print(linReg_prediction)"
   ],
   "execution_count": 20,
   "outputs": [
    {
     "output_type": "stream",
     "text": [
      "[3403.16514648 3959.31060476 3753.28638883 4065.76923766 4028.73060948\n",
      " 4021.58898012 4506.78525879 4537.19954105 4564.42367254 4815.6686652\n",
      " 4371.18358541 4289.10189926 4711.59378778 4324.55608117]\n"
     ],
     "name": "stdout"
    }
   ]
  },
  {
   "cell_type": "code",
   "metadata": {
    "id": "YrTyhbPpSOcz"
   },
   "source": [
    ""
   ],
   "execution_count": null,
   "outputs": []
  }
 ]
}