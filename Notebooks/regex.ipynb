{
 "cells": [
  {
   "cell_type": "markdown",
   "metadata": {
    "colab_type": "text",
    "id": "view-in-github"
   },
   "source": [
    "<a href=\"https://colab.research.google.com/github/nitish-raj/Personal-Stuff/blob/master/regex.ipynb\" target=\"_parent\"><img src=\"https://colab.research.google.com/assets/colab-badge.svg\" alt=\"Open In Colab\"/></a>"
   ]
  },
  {
   "cell_type": "code",
   "execution_count": 1,
   "metadata": {
    "id": "txh038DiFErj"
   },
   "outputs": [],
   "source": [
    "import re"
   ]
  },
  {
   "cell_type": "markdown",
   "metadata": {
    "id": "IX4vV2Z3FSqG"
   },
   "source": [
    "# Metacharachters\n",
    "^ : Used to search a pattern at start of a string\n",
    "\n",
    "\n",
    "\n",
    "\n",
    "$ : Used to search a pattern at end of a string"
   ]
  },
  {
   "cell_type": "code",
   "execution_count": null,
   "metadata": {
    "id": "gPgGd2HZFGOB"
   },
   "outputs": [],
   "source": [
    "st = \"dogs are adorable\""
   ]
  },
  {
   "cell_type": "code",
   "execution_count": null,
   "metadata": {
    "id": "KHLRTLFeFrW9"
   },
   "outputs": [],
   "source": [
    "p = \"^dogs\""
   ]
  },
  {
   "cell_type": "code",
   "execution_count": null,
   "metadata": {
    "colab": {
     "base_uri": "https://localhost:8080/"
    },
    "id": "NQWY_cLKFuYp",
    "outputId": "4a64b545-20ff-4c64-d21e-d78c745ecc86"
   },
   "outputs": [
    {
     "data": {
      "text/plain": [
       "<re.Match object; span=(0, 4), match='dogs'>"
      ]
     },
     "execution_count": 4,
     "metadata": {},
     "output_type": "execute_result"
    }
   ],
   "source": [
    "re.search(p, st)"
   ]
  },
  {
   "cell_type": "code",
   "execution_count": null,
   "metadata": {
    "id": "EEgdodgtF7ho"
   },
   "outputs": [],
   "source": [
    "p2 = \"dogs$\""
   ]
  },
  {
   "cell_type": "code",
   "execution_count": null,
   "metadata": {
    "id": "kLJugwu4F5AC"
   },
   "outputs": [],
   "source": [
    "re.search(p2, st)"
   ]
  },
  {
   "cell_type": "markdown",
   "metadata": {
    "id": "qNKPIyYvGLHU"
   },
   "source": [
    "# Quantifiers\n",
    "? : Zero or one occurance of the preceeding element\n",
    "\n",
    "\n",
    "*(star) : zero or more occurance of the preceeding element\n",
    "\n",
    "\n",
    "+(plus) : one or more occurance of the preceeding element"
   ]
  },
  {
   "cell_type": "code",
   "execution_count": null,
   "metadata": {
    "id": "5AAF1FjjGDUG"
   },
   "outputs": [],
   "source": [
    "st2 = \"color\"\n",
    "st3 = \"colour\""
   ]
  },
  {
   "cell_type": "code",
   "execution_count": null,
   "metadata": {
    "colab": {
     "base_uri": "https://localhost:8080/"
    },
    "id": "C2mdsxVFGsqx",
    "outputId": "a77f0118-d8e2-400a-9d74-4ace0eceec9f"
   },
   "outputs": [
    {
     "data": {
      "text/plain": [
       "<re.Match object; span=(0, 5), match='color'>"
      ]
     },
     "execution_count": 10,
     "metadata": {},
     "output_type": "execute_result"
    }
   ],
   "source": [
    "re.search(\"colou?r\", st2)"
   ]
  },
  {
   "cell_type": "code",
   "execution_count": null,
   "metadata": {
    "colab": {
     "base_uri": "https://localhost:8080/"
    },
    "id": "6kcb8qspGwsv",
    "outputId": "7e57ecce-4a58-49d2-bc2b-995feb52a660"
   },
   "outputs": [
    {
     "data": {
      "text/plain": [
       "<re.Match object; span=(0, 6), match='colour'>"
      ]
     },
     "execution_count": 12,
     "metadata": {},
     "output_type": "execute_result"
    }
   ],
   "source": [
    "# Charachter before ? is optional\n",
    "re.search(\"colou?r\", st3)"
   ]
  },
  {
   "cell_type": "code",
   "execution_count": null,
   "metadata": {
    "id": "lik_gL8THbnF"
   },
   "outputs": [],
   "source": [
    "st4 = \"ac\"\n",
    "st5 = \"abc\"\n",
    "st6 = \"abbc\""
   ]
  },
  {
   "cell_type": "code",
   "execution_count": null,
   "metadata": {
    "colab": {
     "base_uri": "https://localhost:8080/"
    },
    "id": "iBEdR851HuCA",
    "outputId": "46466054-9223-4870-b246-7f89c60e093f"
   },
   "outputs": [
    {
     "data": {
      "text/plain": [
       "<re.Match object; span=(0, 2), match='ac'>"
      ]
     },
     "execution_count": 18,
     "metadata": {},
     "output_type": "execute_result"
    }
   ],
   "source": [
    "re.search(\"ab*c\", st4)"
   ]
  },
  {
   "cell_type": "code",
   "execution_count": null,
   "metadata": {
    "colab": {
     "base_uri": "https://localhost:8080/"
    },
    "id": "NeTTAV-kHzoG",
    "outputId": "29dda1cb-e26c-4ee8-8090-d2d5d1bd5140"
   },
   "outputs": [
    {
     "data": {
      "text/plain": [
       "<re.Match object; span=(0, 3), match='abc'>"
      ]
     },
     "execution_count": 16,
     "metadata": {},
     "output_type": "execute_result"
    }
   ],
   "source": [
    "re.search(\"ab+c\", st5)"
   ]
  },
  {
   "cell_type": "code",
   "execution_count": null,
   "metadata": {
    "colab": {
     "base_uri": "https://localhost:8080/"
    },
    "id": "sxC2IjNQH4nb",
    "outputId": "a64e8876-4155-472b-9d22-84fc4b98f7aa"
   },
   "outputs": [
    {
     "data": {
      "text/plain": [
       "<re.Match object; span=(0, 4), match='abbc'>"
      ]
     },
     "execution_count": 17,
     "metadata": {},
     "output_type": "execute_result"
    }
   ],
   "source": [
    "re.search(\"ab+c\", st6)"
   ]
  },
  {
   "cell_type": "markdown",
   "metadata": {
    "id": "_f4hlKhjIXlL"
   },
   "source": [
    "# Metacharachters\n",
    "\n",
    "-(hyphen) : A range eg, 0-9, A-Z\n",
    "\n",
    ".(dot) : Any single charachter except new line\n"
   ]
  },
  {
   "cell_type": "markdown",
   "metadata": {
    "id": "4FJK2J1LJCcu"
   },
   "source": [
    "# Sets\n",
    "\n",
    "A set of charachter in brackets []\n",
    "\n",
    "Ex:\n",
    "\n",
    "[a-n] : All small case charachters from a to n\n",
    "\n",
    "[^a-n] : All small case charachter except a to n\n",
    "\n",
    "[a-Z]: All charachter lower & upper case\n",
    "\n",
    "[0-9]: all digits from 0 to 9\n",
    "\n",
    "[0-5][0-9] : Two digit number"
   ]
  },
  {
   "cell_type": "code",
   "execution_count": null,
   "metadata": {
    "id": "5B3RNnn4H7Fp"
   },
   "outputs": [],
   "source": [
    "str = \"dogs are adorable\""
   ]
  },
  {
   "cell_type": "code",
   "execution_count": null,
   "metadata": {
    "colab": {
     "base_uri": "https://localhost:8080/"
    },
    "id": "ivKMDsQaNSmJ",
    "outputId": "4dfa92e1-ac43-41f1-e69b-da02c674fcab"
   },
   "outputs": [
    {
     "data": {
      "text/plain": [
       "<re.Match object; span=(0, 1), match='d'>"
      ]
     },
     "execution_count": 20,
     "metadata": {},
     "output_type": "execute_result"
    }
   ],
   "source": [
    "re.search(\"[a-d]\", str)"
   ]
  },
  {
   "cell_type": "code",
   "execution_count": null,
   "metadata": {
    "colab": {
     "base_uri": "https://localhost:8080/"
    },
    "id": "9Tw5rpRYNXAt",
    "outputId": "71ff8058-b87b-423b-c01e-cce457829560"
   },
   "outputs": [
    {
     "data": {
      "text/plain": [
       "['d', 'a', 'a', 'd', 'a', 'b']"
      ]
     },
     "execution_count": 22,
     "metadata": {},
     "output_type": "execute_result"
    }
   ],
   "source": [
    "re.findall(\"[a-d]\", str)"
   ]
  },
  {
   "cell_type": "markdown",
   "metadata": {
    "id": "Id7lfNcfNjY5"
   },
   "source": [
    "# Special Sequences\n",
    "\n",
    "/d : Equivalent to [0-9]\n",
    "\n",
    "/w : Equivalent to [0-9a-Z_]"
   ]
  },
  {
   "cell_type": "code",
   "execution_count": null,
   "metadata": {
    "colab": {
     "base_uri": "https://localhost:8080/"
    },
    "id": "SUWV3BsnNcLW",
    "outputId": "72fe31d4-e777-4a62-8c69-581a2d3f456c"
   },
   "outputs": [
    {
     "data": {
      "text/plain": [
       "<re.Match object; span=(19, 20), match='1'>"
      ]
     },
     "execution_count": 23,
     "metadata": {},
     "output_type": "execute_result"
    }
   ],
   "source": [
    "re.search(\"\\d\", \"my password is pass1234\")"
   ]
  },
  {
   "cell_type": "code",
   "execution_count": null,
   "metadata": {
    "colab": {
     "base_uri": "https://localhost:8080/"
    },
    "id": "MBVPE7hhOxqT",
    "outputId": "6a6affc2-801b-4fd0-f1d7-a11886af47b3"
   },
   "outputs": [
    {
     "data": {
      "text/plain": [
       "['1', '2', '3', '4']"
      ]
     },
     "execution_count": 24,
     "metadata": {},
     "output_type": "execute_result"
    }
   ],
   "source": [
    "re.findall(\"\\d\", \"my password is pass1234\")"
   ]
  },
  {
   "cell_type": "code",
   "execution_count": null,
   "metadata": {
    "colab": {
     "base_uri": "https://localhost:8080/"
    },
    "id": "k-vj_ZdsO0g3",
    "outputId": "ca93010a-b084-42fd-ad80-27dfc8de3fb2"
   },
   "outputs": [
    {
     "data": {
      "text/plain": [
       "['m',\n",
       " 'y',\n",
       " 'p',\n",
       " 'a',\n",
       " 's',\n",
       " 's',\n",
       " 'w',\n",
       " 'o',\n",
       " 'r',\n",
       " 'd',\n",
       " 'i',\n",
       " 's',\n",
       " 'p',\n",
       " 'a',\n",
       " 's',\n",
       " 's',\n",
       " '1',\n",
       " '2',\n",
       " '3',\n",
       " '4',\n",
       " '_']"
      ]
     },
     "execution_count": 27,
     "metadata": {},
     "output_type": "execute_result"
    }
   ],
   "source": [
    "re.findall(\"\\w\", \"my password is pass1234?*&_\")"
   ]
  },
  {
   "cell_type": "markdown",
   "metadata": {
    "id": "c1fK3yloPFoX"
   },
   "source": [
    "# Password Validation in Python (with REGEX)\n",
    "\n",
    "{} : Represents specific number of times\n",
    "\n",
    "Ex: \n",
    "\n",
    "{8,15} Min 8 and max 15 charachters\n",
    "\n",
    "{8,} : Min 8 charachters"
   ]
  },
  {
   "cell_type": "markdown",
   "metadata": {
    "id": "It2b_CtyPNa1"
   },
   "source": [
    "You need to write regex that will validate a password to make sure it meets the following criteria\n",
    "- At least 8 charachters\n",
    "- Uppercase letters: A-Z\n",
    "- lowercase letters: a-z\n",
    "- numbers: 0-9\n",
    "- any of the special charachters: @#$%^&+=\n",
    "\n",
    "Letters/numbers/special charachters are optional"
   ]
  },
  {
   "cell_type": "code",
   "execution_count": null,
   "metadata": {
    "id": "mzjUYdt9O30K"
   },
   "outputs": [],
   "source": [
    "regex = \"[A-Za-z0-9@#$%^&+=]{8,}\""
   ]
  },
  {
   "cell_type": "code",
   "execution_count": null,
   "metadata": {
    "colab": {
     "base_uri": "https://localhost:8080/"
    },
    "id": "u59hLNlHTe6e",
    "outputId": "3665ba9b-695d-49ec-d9e6-d86234bacae3"
   },
   "outputs": [
    {
     "name": "stdout",
     "output_type": "stream",
     "text": [
      "Enter a Password : hey123456\n"
     ]
    }
   ],
   "source": [
    "pwd = input(\"Enter a Password : \")"
   ]
  },
  {
   "cell_type": "code",
   "execution_count": null,
   "metadata": {
    "colab": {
     "base_uri": "https://localhost:8080/",
     "height": 35
    },
    "id": "cOrxpRSwTqZA",
    "outputId": "1f33f2d5-7b99-48f4-c7b4-cbfd69af98f7"
   },
   "outputs": [
    {
     "data": {
      "application/vnd.google.colaboratory.intrinsic+json": {
       "type": "string"
      },
      "text/plain": [
       "'hey123456'"
      ]
     },
     "execution_count": 30,
     "metadata": {},
     "output_type": "execute_result"
    }
   ],
   "source": [
    "pwd"
   ]
  },
  {
   "cell_type": "code",
   "execution_count": null,
   "metadata": {
    "colab": {
     "base_uri": "https://localhost:8080/"
    },
    "id": "zcyNxd0eTukZ",
    "outputId": "35cb8c0c-bfa7-47e3-cdd9-f99f4af3fff2"
   },
   "outputs": [
    {
     "name": "stdout",
     "output_type": "stream",
     "text": [
      "Congrats, full match\n"
     ]
    }
   ],
   "source": [
    "if re.fullmatch(regex, pwd):\n",
    "    print(\"Congrats, full match\")\n",
    "else:\n",
    "    print(\"No match\")"
   ]
  },
  {
   "cell_type": "markdown",
   "metadata": {
    "id": "wQPBgPo8Uf68"
   },
   "source": [
    "# Assertions\n",
    "\n",
    "(?=)\n",
    "\n",
    "An Assertion in REGEX is when match is possible in some way. Python evaluates string from left to right and matches a pattern.\n",
    "\n",
    "- Positive Look Ahead assertions\n",
    "- "
   ]
  },
  {
   "cell_type": "markdown",
   "metadata": {
    "id": "d-_DlxJPTxHn"
   },
   "source": [
    "You need to write regex that will validate a password to make sure it meets ALL the following criteria:\n",
    "- Atleast six charachters long\n",
    "- contains a lowercase letter\n",
    "- contains an uppercase letter\n",
    "- contains a number\n",
    "\n",
    "Valid passwords will only be alphanumeric charachters."
   ]
  },
  {
   "cell_type": "code",
   "execution_count": null,
   "metadata": {
    "colab": {
     "base_uri": "https://localhost:8080/"
    },
    "id": "UCG7ub2CVlIr",
    "outputId": "d3ba820a-3564-4bc2-9fe5-ac17c02c98b7"
   },
   "outputs": [
    {
     "name": "stdout",
     "output_type": "stream",
     "text": [
      "Enter a Password : Hey123456\n"
     ]
    }
   ],
   "source": [
    "pwd = input(\"Enter a Password : \")"
   ]
  },
  {
   "cell_type": "code",
   "execution_count": null,
   "metadata": {
    "id": "MMl0-esUUUXt"
   },
   "outputs": [],
   "source": [
    "exp = \"(?=.*[A-Z])(?=.*[a-z])(?=.*[0-9]{6,})\""
   ]
  },
  {
   "cell_type": "code",
   "execution_count": null,
   "metadata": {
    "colab": {
     "base_uri": "https://localhost:8080/"
    },
    "id": "7sU8AYr8VYJ9",
    "outputId": "f2b2e10f-c63f-4d1f-a557-67f854cc6db0"
   },
   "outputs": [
    {
     "name": "stdout",
     "output_type": "stream",
     "text": [
      "No match\n"
     ]
    }
   ],
   "source": [
    "if re.fullmatch(exp, pwd):\n",
    "    print(\"match\")\n",
    "else:\n",
    "    print(\"No match\")"
   ]
  },
  {
   "cell_type": "code",
   "execution_count": null,
   "metadata": {
    "id": "n4Zed6SVVg-x"
   },
   "outputs": [],
   "source": [
    "re.fullmatch(exp, pwd)"
   ]
  },
  {
   "cell_type": "markdown",
   "metadata": {
    "id": "5Fp9-7FXXuGH"
   },
   "source": [
    "# user Input"
   ]
  },
  {
   "cell_type": "markdown",
   "metadata": {
    "id": "1GXqJYBhXxID"
   },
   "source": [
    "### Time Format Validation\n"
   ]
  },
  {
   "cell_type": "code",
   "execution_count": null,
   "metadata": {
    "id": "nENK-psaXF85"
   },
   "outputs": [],
   "source": [
    "inputs = [\"18:29\", \"23:55\", \"123\", \"ab:de\", \"18:299\", \"99:99\"]"
   ]
  },
  {
   "cell_type": "code",
   "execution_count": null,
   "metadata": {
    "id": "w95OjIPJdHjG"
   },
   "outputs": [],
   "source": [
    "input1 = \"12:455\"\n",
    "input2 = \"12:45\""
   ]
  },
  {
   "cell_type": "code",
   "execution_count": null,
   "metadata": {
    "id": "pjRYdnV7dKYR"
   },
   "outputs": [],
   "source": [
    "re.fullmatch(\"[0-9]{2}:[0-9]{2}\", input1)"
   ]
  },
  {
   "cell_type": "code",
   "execution_count": null,
   "metadata": {
    "colab": {
     "base_uri": "https://localhost:8080/"
    },
    "id": "bsvMYzQrdVnP",
    "outputId": "642b7c00-0bce-45b6-9e5d-7664a788ef59"
   },
   "outputs": [
    {
     "data": {
      "text/plain": [
       "<re.Match object; span=(0, 5), match='12:45'>"
      ]
     },
     "execution_count": 81,
     "metadata": {},
     "output_type": "execute_result"
    }
   ],
   "source": [
    "re.fullmatch(\"[0-9]{2}:[0-9]{2}\", input2)"
   ]
  },
  {
   "cell_type": "code",
   "execution_count": null,
   "metadata": {
    "colab": {
     "base_uri": "https://localhost:8080/"
    },
    "id": "wRFFjhG5di3h",
    "outputId": "2e7610ed-5b38-4aad-cd2f-e1dfe36ccb80"
   },
   "outputs": [
    {
     "data": {
      "text/plain": [
       "[<re.Match object; span=(0, 5), match='18:29'>,\n",
       " <re.Match object; span=(0, 5), match='23:55'>,\n",
       " None,\n",
       " None,\n",
       " None,\n",
       " <re.Match object; span=(0, 5), match='99:99'>]"
      ]
     },
     "execution_count": 84,
     "metadata": {},
     "output_type": "execute_result"
    }
   ],
   "source": [
    "[re.fullmatch(\"[0-9]{2}:[0-9]{2}\", x) for x in inputs]"
   ]
  },
  {
   "cell_type": "markdown",
   "metadata": {
    "id": "h1CBuE7PeBDZ"
   },
   "source": [
    "Next the given time must be in valid time format in the 24-hour time ranging from 00:00 to 23:59"
   ]
  },
  {
   "cell_type": "code",
   "execution_count": null,
   "metadata": {
    "id": "bYT-76QAdtN3"
   },
   "outputs": [],
   "source": [
    "reg = \"([01][0-9]|2[0-3]):([0-5][0-9])\""
   ]
  },
  {
   "cell_type": "code",
   "execution_count": null,
   "metadata": {
    "colab": {
     "base_uri": "https://localhost:8080/"
    },
    "id": "sOEuctgIelKX",
    "outputId": "54de4407-cde2-4510-917c-a90cd4b531fd"
   },
   "outputs": [
    {
     "data": {
      "text/plain": [
       "[<re.Match object; span=(0, 5), match='18:29'>,\n",
       " <re.Match object; span=(0, 5), match='23:55'>,\n",
       " None,\n",
       " None,\n",
       " None,\n",
       " None]"
      ]
     },
     "execution_count": 86,
     "metadata": {},
     "output_type": "execute_result"
    }
   ],
   "source": [
    "[re.fullmatch(reg, x) for x in inputs]"
   ]
  },
  {
   "cell_type": "markdown",
   "metadata": {
    "id": "Hl0S-PAlEGYS"
   },
   "source": [
    "## EMAIL Validation"
   ]
  },
  {
   "cell_type": "code",
   "execution_count": 8,
   "metadata": {
    "id": "bSJzXLtceuvM"
   },
   "outputs": [],
   "source": [
    "inputs = [\"rog45@gmail.com\", \"r_duke78o@outlook.com\", \"s.rog78o@outlook.com\"]"
   ]
  },
  {
   "cell_type": "code",
   "execution_count": 9,
   "metadata": {
    "id": "8meraFMfER3w"
   },
   "outputs": [],
   "source": [
    "reg = \"^(\\w|\\_|\\-|\\.)+[@]\\w+[.]\\w{2,3}$\""
   ]
  },
  {
   "cell_type": "code",
   "execution_count": 10,
   "metadata": {
    "colab": {
     "base_uri": "https://localhost:8080/"
    },
    "id": "EH2OHAFSErV9",
    "outputId": "d3a37bb7-b54e-4940-c5f4-39cf1bbb1568"
   },
   "outputs": [
    {
     "data": {
      "text/plain": [
       "[<re.Match object; span=(0, 15), match='rog45@gmail.com'>,\n",
       " <re.Match object; span=(0, 21), match='r_duke78o@outlook.com'>,\n",
       " <re.Match object; span=(0, 20), match='s.rog78o@outlook.com'>]"
      ]
     },
     "execution_count": 10,
     "metadata": {},
     "output_type": "execute_result"
    }
   ],
   "source": [
    "[re.fullmatch(reg, input) for input in inputs]"
   ]
  },
  {
   "cell_type": "markdown",
   "metadata": {
    "id": "xQs9C6fcFene"
   },
   "source": [
    "## Username Validation"
   ]
  },
  {
   "cell_type": "code",
   "execution_count": 11,
   "metadata": {
    "id": "XpVk6_uEFUAo"
   },
   "outputs": [],
   "source": [
    "inputs = [\"esgui_de\", \"aroger\", \"a.roger_de\", \"e.segui_2\"]"
   ]
  },
  {
   "cell_type": "code",
   "execution_count": 15,
   "metadata": {
    "id": "HgbIqZYLFn2d"
   },
   "outputs": [],
   "source": [
    "reg = \"^[a-zA-Z_.]+$\""
   ]
  },
  {
   "cell_type": "code",
   "execution_count": 16,
   "metadata": {
    "colab": {
     "base_uri": "https://localhost:8080/"
    },
    "id": "9P9l0YEMFscO",
    "outputId": "895ac461-c52f-4df0-c164-e32065ca3631"
   },
   "outputs": [
    {
     "data": {
      "text/plain": [
       "[<re.Match object; span=(0, 8), match='esgui_de'>,\n",
       " <re.Match object; span=(0, 6), match='aroger'>,\n",
       " <re.Match object; span=(0, 10), match='a.roger_de'>,\n",
       " None]"
      ]
     },
     "execution_count": 16,
     "metadata": {},
     "output_type": "execute_result"
    }
   ],
   "source": [
    "[re.fullmatch(reg, input) for input in inputs]"
   ]
  },
  {
   "cell_type": "markdown",
   "metadata": {
    "id": "0bUin9xVF6AN"
   },
   "source": [
    "## Question mark?\n",
    "\n",
    "Question mark ? is the 'option' regex meaning 0 or 1 occurance.\n",
    "\n",
    "Quarion mark can also be used in combination with other special charachters and means something else\n",
    "\n",
    "asterisk * means 0 or more occurence of the preceding element.\n",
    "\n",
    "By default, the engine returns \"more occurences\" (greedy). If we want to force the 0 occurences, we use? after the * ( non greedy)"
   ]
  },
  {
   "cell_type": "code",
   "execution_count": 17,
   "metadata": {
    "id": "k41pDfwwF0O7"
   },
   "outputs": [],
   "source": [
    "text = \"abcghjsuyr\""
   ]
  },
  {
   "cell_type": "code",
   "execution_count": 18,
   "metadata": {
    "colab": {
     "base_uri": "https://localhost:8080/"
    },
    "id": "sIv7DpigGdQN",
    "outputId": "ff7a4636-5357-4be4-c69c-84d25c3cb00a"
   },
   "outputs": [
    {
     "data": {
      "text/plain": [
       "['abcghjsuyr']"
      ]
     },
     "execution_count": 18,
     "metadata": {},
     "output_type": "execute_result"
    }
   ],
   "source": [
    "re.findall(\"ab.*\", text)"
   ]
  },
  {
   "cell_type": "code",
   "execution_count": 19,
   "metadata": {
    "colab": {
     "base_uri": "https://localhost:8080/"
    },
    "id": "cNWvVzLxGg1q",
    "outputId": "a0f8b6ef-546b-447a-a012-0c71399c4261"
   },
   "outputs": [
    {
     "data": {
      "text/plain": [
       "['ab']"
      ]
     },
     "execution_count": 19,
     "metadata": {},
     "output_type": "execute_result"
    }
   ],
   "source": [
    "re.findall(\"ab.*?\", text)"
   ]
  },
  {
   "cell_type": "code",
   "execution_count": 20,
   "metadata": {
    "id": "uNlV04XaGkY7"
   },
   "outputs": [],
   "source": [
    "text = \"peter piper picked a peck of pickled peppers\""
   ]
  },
  {
   "cell_type": "code",
   "execution_count": 22,
   "metadata": {
    "colab": {
     "base_uri": "https://localhost:8080/"
    },
    "id": "uEi_l4efGpWO",
    "outputId": "2089d49c-6115-4ae9-c971-f52daa8bb579"
   },
   "outputs": [
    {
     "data": {
      "text/plain": [
       "['peter piper picked a peck of pickled pepper']"
      ]
     },
     "execution_count": 22,
     "metadata": {},
     "output_type": "execute_result"
    }
   ],
   "source": [
    "re.findall(\"p.*e.*r\", text)"
   ]
  },
  {
   "cell_type": "code",
   "execution_count": 23,
   "metadata": {
    "colab": {
     "base_uri": "https://localhost:8080/"
    },
    "id": "xmoLh_eLGtXO",
    "outputId": "5d1c1109-d004-459a-d2a1-e2ca09c2cc8c"
   },
   "outputs": [
    {
     "data": {
      "text/plain": [
       "['peter', 'piper', 'picked a peck of pickled pepper']"
      ]
     },
     "execution_count": 23,
     "metadata": {},
     "output_type": "execute_result"
    }
   ],
   "source": [
    "re.findall(\"p.*?e.*?r\", text)"
   ]
  },
  {
   "cell_type": "markdown",
   "metadata": {
    "id": "4uFI80YRG5MJ"
   },
   "source": [
    "## Problem 1\n",
    "Find a match that starts with 'crypto', then mathces at the most 30 arbitrary charachters and match ends when tghe last work is 'coin'"
   ]
  },
  {
   "cell_type": "code",
   "execution_count": 24,
   "metadata": {
    "id": "PIfm0koOG1DD"
   },
   "outputs": [],
   "source": [
    "text = \"crypto-bot that is trading Bitcoin and other currencies\""
   ]
  },
  {
   "cell_type": "code",
   "execution_count": 26,
   "metadata": {
    "colab": {
     "base_uri": "https://localhost:8080/"
    },
    "id": "LjNJUSzZHNAx",
    "outputId": "eb7fb1ee-9db9-4b1d-971b-16cc2cf18a18"
   },
   "outputs": [
    {
     "data": {
      "text/plain": [
       "<re.Match object; span=(0, 34), match='crypto-bot that is trading Bitcoin'>"
      ]
     },
     "execution_count": 26,
     "metadata": {},
     "output_type": "execute_result"
    }
   ],
   "source": [
    "re.match(\"crypto(.{1,30}coin)\", text)"
   ]
  },
  {
   "cell_type": "markdown",
   "metadata": {
    "id": "U3NIPOeyJEHA"
   },
   "source": [
    "## Problem 2\n",
    "\n",
    "Given a string, find a list of all occurances of dollar amounts with optional Regular Expressions decimal values"
   ]
  },
  {
   "cell_type": "code",
   "execution_count": 27,
   "metadata": {
    "id": "p8kgH3zxI-zu"
   },
   "outputs": [],
   "source": [
    "text = \"\"\"\n",
    "If you invested $1 in the year 1801, you would have $18087791.41 today.\n",
    "This is a 7.967% return on investment.\n",
    "But if you invested only $0.25 in 1801, you would end up with $4521947.8525\n",
    "\"\"\""
   ]
  },
  {
   "cell_type": "code",
   "execution_count": 30,
   "metadata": {
    "colab": {
     "base_uri": "https://localhost:8080/"
    },
    "id": "EivqMe6fJhNn",
    "outputId": "200b2521-ae73-432b-965c-da62d0bac231"
   },
   "outputs": [
    {
     "data": {
      "text/plain": [
       "[('$1', ''),\n",
       " ('$18087791.41', '.41'),\n",
       " ('$0.25', '.25'),\n",
       " ('$4521947.8525', '.8525')]"
      ]
     },
     "execution_count": 30,
     "metadata": {},
     "output_type": "execute_result"
    }
   ],
   "source": [
    "re.findall(\"(\\$[0-9]+(\\.[0-9]*)?)\", text)"
   ]
  },
  {
   "cell_type": "markdown",
   "metadata": {
    "id": "EwJ-nH5FKChi"
   },
   "source": [
    "## Problem 3\n",
    "\n",
    "replace Alice Wonderland with 'Alice Doe', but not to replace occurances of 'Alice Wonderland' when you see single quotes. Introducing the '?!' Negative lookahead"
   ]
  },
  {
   "cell_type": "code",
   "execution_count": 32,
   "metadata": {
    "id": "QfW3n2aGJ6Ty"
   },
   "outputs": [],
   "source": [
    "text = \"\"\"\n",
    "Alice Wonderland married John Doe.\n",
    "The new name of former 'Alice Wonderland' is Alice Doe.\n",
    "Alice Wonderland replace her old name 'Wonderland' with her new name 'Doe'.\n",
    "Alice's sister Jane Wonderland still keeps her old name.\n",
    "\"\"\""
   ]
  },
  {
   "cell_type": "code",
   "execution_count": 33,
   "metadata": {
    "colab": {
     "base_uri": "https://localhost:8080/",
     "height": 53
    },
    "id": "CXClAH9AKx5I",
    "outputId": "76126a35-d37d-4434-b221-aaa5472a6c44"
   },
   "outputs": [
    {
     "data": {
      "application/vnd.google.colaboratory.intrinsic+json": {
       "type": "string"
      },
      "text/plain": [
       "\"\\nAlice Doe married John Doe.\\nThe new name of former 'Alice Wonderland' is Alice Doe.\\nAlice Doe replace her old name 'Wonderland' with her new name 'Doe'.\\nAlice's sister Jane Wonderland still keeps her old name.\\n\""
      ]
     },
     "execution_count": 33,
     "metadata": {},
     "output_type": "execute_result"
    }
   ],
   "source": [
    "re.sub(\"Alice Wonderland(?!')\", \"Alice Doe\", text)"
   ]
  },
  {
   "cell_type": "code",
   "execution_count": null,
   "metadata": {
    "id": "Y6xkIW9PK4x3"
   },
   "outputs": [],
   "source": []
  }
 ],
 "metadata": {
  "colab": {
   "authorship_tag": "ABX9TyPxbIaHqlFYhy/Ct6l8j50R",
   "collapsed_sections": [],
   "include_colab_link": true,
   "name": "regex.ipynb",
   "provenance": []
  },
  "kernelspec": {
   "display_name": "Python 3",
   "name": "python3"
  },
  "language_info": {
   "name": "python",
   "version": "3.12.-1"
  }
 },
 "nbformat": 4,
 "nbformat_minor": 0
}
