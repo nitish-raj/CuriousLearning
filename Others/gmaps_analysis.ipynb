{
 "cells": [
  {
   "cell_type": "code",
   "execution_count": null,
   "metadata": {},
   "outputs": [],
   "source": [
    "from dataclasses import dataclass\n",
    "import requests\n",
    "import time\n",
    "import duckdb\n",
    "import pandas as pd\n",
    "from configparser import ConfigParser"
   ]
  },
  {
   "cell_type": "code",
   "execution_count": null,
   "metadata": {},
   "outputs": [],
   "source": [
    "config = ConfigParser()\n",
    "config.read(\"../.config\")"
   ]
  },
  {
   "cell_type": "code",
   "execution_count": null,
   "metadata": {},
   "outputs": [],
   "source": [
    "API_KEY = config['GCP']['API_KEY']\n",
    "radius = 1500  # in meters\n",
    "place_type = 'shopping'  # Example place type\n",
    "address = 'Luxembourg City, Luxembourg'\n"
   ]
  },
  {
   "cell_type": "code",
   "execution_count": null,
   "metadata": {},
   "outputs": [],
   "source": [
    "def format_coordinates(latitude, longitude):\n",
    "    return f\"{latitude},{longitude}\"\n",
    "\n",
    "def get_coordinates(api_key, address):\n",
    "    url = f\"https://maps.googleapis.com/maps/api/geocode/json?address={address}&key={api_key}\"\n",
    "    response = requests.get(url)\n",
    "    if response.status_code == 200:\n",
    "        data = response.json()\n",
    "        if data['status'] == 'OK':\n",
    "            location = data['results'][0]['geometry']['location']\n",
    "            return location['lat'], location['lng']\n",
    "        else:\n",
    "            print(f\"Error in response: {data['status']}\")\n",
    "            return None, None\n",
    "    else:\n",
    "        print(f\"HTTP error: {response.status_code}\")\n",
    "        return None, None\n",
    "\n",
    "\n",
    "latitude, longitude = get_coordinates(API_KEY, address)\n",
    "\n",
    "if latitude and longitude:\n",
    "    formatted_location = format_coordinates(latitude, longitude)\n",
    "    # print(formatted_location)  # Output will be the coordinates of Luxembourg City\n",
    "else:\n",
    "    print(\"Could not retrieve coordinates.\")\n"
   ]
  },
  {
   "cell_type": "code",
   "execution_count": null,
   "metadata": {},
   "outputs": [],
   "source": [
    "# url = f\"https://maps.googleapis.com/maps/api/place/nearbysearch/json?location={formatted_location}&radius={radius}&key={API_KEY}\"\n",
    "url = f\"https://maps.googleapis.com/maps/api/place/nearbysearch/json?location={formatted_location}&radius={radius}&type={place_type}&key={API_KEY}\"\n",
    "\n",
    "response = requests.get(url)\n",
    "places = response.json()\n",
    "\n",
    "for place in places['results']:\n",
    "    print(f\"Name: {place['name']}\")\n",
    "    print(f\"Address: {place.get('vicinity', 'N/A')}\")\n",
    "    print(f\"Place ID: {place['place_id']}\")\n",
    "    print('---')\n"
   ]
  },
  {
   "cell_type": "code",
   "execution_count": null,
   "metadata": {},
   "outputs": [],
   "source": [
    "places['results'][0]"
   ]
  },
  {
   "cell_type": "code",
   "execution_count": null,
   "metadata": {},
   "outputs": [],
   "source": [
    "place_id = 'ChIJ3e9sj9VIlUcRUU6bnYZ2tcE'  # Example place ID\n",
    "\n",
    "details_url = f\"https://maps.googleapis.com/maps/api/place/details/json?place_id={place_id}&key={API_KEY}\"\n",
    "\n",
    "details_response = requests.get(details_url)\n",
    "place_details = details_response.json()\n",
    "\n",
    "\n",
    "print(f\"Name: {place_details['result']['name']}\")\n",
    "print(f\"Address: {place_details['result']['formatted_address']}\")\n",
    "print(f\"Phone Number: {place_details['result'].get('formatted_phone_number', 'N/A')}\")\n",
    "print(f\"Website: {place_details['result'].get('website', 'N/A')}\")\n"
   ]
  },
  {
   "cell_type": "code",
   "execution_count": null,
   "metadata": {},
   "outputs": [],
   "source": [
    "place_details['result']"
   ]
  },
  {
   "cell_type": "code",
   "execution_count": null,
   "metadata": {},
   "outputs": [],
   "source": [
    "# Connect to DuckDB\n",
    "con = duckdb.connect('places.db')\n",
    "df = con.execute('SELECT * FROM places').fetchdf()"
   ]
  },
  {
   "cell_type": "code",
   "execution_count": null,
   "metadata": {},
   "outputs": [],
   "source": [
    "con.close()"
   ]
  },
  {
   "cell_type": "code",
   "execution_count": null,
   "metadata": {},
   "outputs": [],
   "source": [
    "def get_cities_towns(api_key):\n",
    "    url = f'https://maps.googleapis.com/maps/api/geocode/json?address=Luxembourg&key={api_key}'\n",
    "    response = requests.get(url)\n",
    "    data = response.json()\n",
    "    \n",
    "    if data['status'] == 'OK':\n",
    "        results = data['results']\n",
    "        places = []\n",
    "        for result in results:\n",
    "            places.append(result['formatted_address'])\n",
    "        return places\n",
    "    else:\n",
    "        print(f\"Error: {data['status']}\")\n",
    "\n",
    "\n",
    "cities_towns = get_cities_towns(API_KEY)\n",
    "print(cities_towns)\n"
   ]
  }
 ],
 "metadata": {
  "kernelspec": {
   "display_name": "Python 3",
   "language": "python",
   "name": "python3"
  },
  "language_info": {
   "codemirror_mode": {
    "name": "ipython",
    "version": 3
   },
   "file_extension": ".py",
   "mimetype": "text/x-python",
   "name": "python",
   "nbconvert_exporter": "python",
   "pygments_lexer": "ipython3",
   "version": "3.12.3"
  }
 },
 "nbformat": 4,
 "nbformat_minor": 2
}
