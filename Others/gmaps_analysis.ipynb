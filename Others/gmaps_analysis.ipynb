{
 "cells": [
  {
   "cell_type": "code",
   "execution_count": 1,
   "metadata": {},
   "outputs": [],
   "source": [
    "from dataclasses import dataclass\n",
    "import requests\n",
    "import time\n",
    "import duckdb\n",
    "import pandas as pd\n",
    "from configparser import ConfigParser"
   ]
  },
  {
   "cell_type": "code",
   "execution_count": 2,
   "metadata": {},
   "outputs": [
    {
     "data": {
      "text/plain": [
       "['../.config']"
      ]
     },
     "execution_count": 2,
     "metadata": {},
     "output_type": "execute_result"
    }
   ],
   "source": [
    "config = ConfigParser()\n",
    "config.read(\"../.config\")"
   ]
  },
  {
   "cell_type": "code",
   "execution_count": 3,
   "metadata": {},
   "outputs": [],
   "source": [
    "API_KEY = config['GCP']['API_KEY']\n",
    "radius = 1500  # in meters\n",
    "place_type = 'shopping'  # Example place type\n",
    "address = 'Luxembourg City, Luxembourg'\n"
   ]
  },
  {
   "cell_type": "code",
   "execution_count": 4,
   "metadata": {},
   "outputs": [],
   "source": [
    "def format_coordinates(latitude, longitude):\n",
    "    return f\"{latitude},{longitude}\"\n",
    "\n",
    "def get_coordinates(api_key, address):\n",
    "    url = f\"https://maps.googleapis.com/maps/api/geocode/json?address={address}&key={api_key}\"\n",
    "    response = requests.get(url)\n",
    "    if response.status_code == 200:\n",
    "        data = response.json()\n",
    "        if data['status'] == 'OK':\n",
    "            location = data['results'][0]['geometry']['location']\n",
    "            return location['lat'], location['lng']\n",
    "        else:\n",
    "            print(f\"Error in response: {data['status']}\")\n",
    "            return None, None\n",
    "    else:\n",
    "        print(f\"HTTP error: {response.status_code}\")\n",
    "        return None, None\n",
    "\n",
    "\n",
    "latitude, longitude = get_coordinates(API_KEY, address)\n",
    "\n",
    "if latitude and longitude:\n",
    "    formatted_location = format_coordinates(latitude, longitude)\n",
    "    # print(formatted_location)  # Output will be the coordinates of Luxembourg City\n",
    "else:\n",
    "    print(\"Could not retrieve coordinates.\")\n"
   ]
  },
  {
   "cell_type": "code",
   "execution_count": 5,
   "metadata": {},
   "outputs": [
    {
     "name": "stdout",
     "output_type": "stream",
     "text": [
      "Name: Luxembourg\n",
      "Address: Luxembourg\n",
      "Place ID: ChIJVyzznc1IlUcREG0F0dbRAAQ\n",
      "---\n",
      "Name: Hôtel Parc Belle-Vue\n",
      "Address: 5 Avenue Marie-Thérèse, Luxembourg\n",
      "Place ID: ChIJ3e9sj9VIlUcRUU6bnYZ2tcE\n",
      "---\n",
      "Name: Hotel Vauban\n",
      "Address: 10 Place Guillaume II, Luxembourg\n",
      "Place ID: ChIJQVrlNdNIlUcRa3v0FrkGQ-g\n",
      "---\n",
      "Name: French Café Hotel\n",
      "Address: 14 Place d'Armes, Luxembourg\n",
      "Place ID: ChIJz1niVCtPlUcROFfnez0PXz0\n",
      "---\n",
      "Name: Hotel Christophe Colomb\n",
      "Address: 10 Rue d'Anvers, Luxembourg\n",
      "Place ID: ChIJHeKzA9FIlUcR_UzTEdulOFs\n",
      "---\n",
      "Name: Youth Hostel\n",
      "Address: 2 Rue du Fort Olisy, Luxembourg\n",
      "Place ID: ChIJS5A_WTJPlUcRtAr15AXUGNs\n",
      "---\n",
      "Name: Novotel Luxembourg Centre\n",
      "Address: 35 Rue du Laboratoire, Luxembourg\n",
      "Place ID: ChIJl5q7iM5IlUcROv7uDbapuVo\n",
      "---\n",
      "Name: Grand Hotel Cravat\n",
      "Address: 29 Boulevard Franklin Delano Roosevelt, Luxembourg\n",
      "Place ID: ChIJi-jQXNNIlUcR77bXMeT_HSw\n",
      "---\n",
      "Name: Best Western Plus\n",
      "Address: 3 Avenue Victor Hugo, Luxembourg\n",
      "Place ID: ChIJld6G1ClPlUcRbXoEwx9_WUs\n",
      "---\n",
      "Name: Meliá Luxembourg\n",
      "Address: 1 Park Drai Eechelen, Luxembourg\n",
      "Place ID: ChIJk0XLPDFPlUcRIBtWXDBRoVk\n",
      "---\n",
      "Name: ibis Styles Luxembourg Centre Gare\n",
      "Address: 30 Rue Joseph Junck, Luxembourg\n",
      "Place ID: ChIJO53gCtBIlUcR_r3IKRd9fMM\n",
      "---\n",
      "Name: Le Royal Hotel Luxembourg\n",
      "Address: 12 Boulevard Royal, Luxembourg\n",
      "Place ID: ChIJ-ZS9-SpPlUcRK2-T_hwbvx0\n",
      "---\n",
      "Name: Hôtel Perrin (former Hotel Carlton)\n",
      "Address: 7-9 Rue de Strasbourg, Luxembourg\n",
      "Place ID: ChIJdQHrE9BIlUcRy3P40Ys2nDM\n",
      "---\n",
      "Name: Sofitel Luxembourg Le Grand Ducal\n",
      "Address: 35 Rue du Laboratoire, Luxembourg\n",
      "Place ID: ChIJRa7IM8xIlUcRhHTQl-qHjGw\n",
      "---\n",
      "Name: Hôtel Empire\n",
      "Address: 34 Place de la Gare, Luxembourg\n",
      "Place ID: ChIJiVm9mNZFlUcR1lpH199XBOA\n",
      "---\n",
      "Name: Domus Hotel\n",
      "Address: 37 Avenue Monterey, Luxembourg\n",
      "Place ID: ChIJtfDL09dOlUcRXrGfmsSYdq4\n",
      "---\n",
      "Name: Key Inn Appart-Hôtels\n",
      "Address: 42 Rue Albert Ier, Luxembourg\n",
      "Place ID: ChIJydDhxCtJlUcR5peH7n21z_s\n",
      "---\n",
      "Name: Yasha Hotel\n",
      "Address: 27 Rue Joseph Junck, Luxembourg\n",
      "Place ID: ChIJg0SmddBIlUcRlm3tbGvK7CE\n",
      "---\n",
      "Name: Hotel Parc Beaux Arts Luxembourg\n",
      "Address: 1 Rue Sigefroi, Luxembourg\n",
      "Place ID: ChIJaR3ZOy1PlUcR5per48lWr6E\n",
      "---\n",
      "Name: Cents\n",
      "Address: Cents\n",
      "Place ID: ChIJN1J1K05PlUcRGjOAsLGZckY\n",
      "---\n"
     ]
    }
   ],
   "source": [
    "# url = f\"https://maps.googleapis.com/maps/api/place/nearbysearch/json?location={formatted_location}&radius={radius}&key={API_KEY}\"\n",
    "url = f\"https://maps.googleapis.com/maps/api/place/nearbysearch/json?location={formatted_location}&radius={radius}&type={place_type}&key={API_KEY}\"\n",
    "\n",
    "response = requests.get(url)\n",
    "places = response.json()\n",
    "\n",
    "for place in places['results']:\n",
    "    print(f\"Name: {place['name']}\")\n",
    "    print(f\"Address: {place.get('vicinity', 'N/A')}\")\n",
    "    print(f\"Place ID: {place['place_id']}\")\n",
    "    print('---')\n"
   ]
  },
  {
   "cell_type": "code",
   "execution_count": 7,
   "metadata": {},
   "outputs": [
    {
     "name": "stdout",
     "output_type": "stream",
     "text": [
      "Name: Hôtel Parc Belle-Vue\n",
      "Address: 5 Av. Marie-Thérèse, 2132 Hollerich Luxembourg\n",
      "Phone Number: 45 61 41 1\n",
      "Website: https://www.goereshotels.com/belle-vue-en/\n"
     ]
    }
   ],
   "source": [
    "place_id = 'ChIJ3e9sj9VIlUcRUU6bnYZ2tcE'  # Example place ID\n",
    "\n",
    "details_url = f\"https://maps.googleapis.com/maps/api/place/details/json?place_id={place_id}&key={API_KEY}\"\n",
    "\n",
    "details_response = requests.get(details_url)\n",
    "place_details = details_response.json()\n",
    "\n",
    "\n",
    "print(f\"Name: {place_details['result']['name']}\")\n",
    "print(f\"Address: {place_details['result']['formatted_address']}\")\n",
    "print(f\"Phone Number: {place_details['result'].get('formatted_phone_number', 'N/A')}\")\n",
    "print(f\"Website: {place_details['result'].get('website', 'N/A')}\")\n"
   ]
  },
  {
   "cell_type": "code",
   "execution_count": 8,
   "metadata": {},
   "outputs": [
    {
     "data": {
      "text/plain": [
       "'ChIJ3e9sj9VIlUcRUU6bnYZ2tcE'"
      ]
     },
     "execution_count": 8,
     "metadata": {},
     "output_type": "execute_result"
    }
   ],
   "source": [
    "place_details['result']['place_id']"
   ]
  },
  {
   "cell_type": "code",
   "execution_count": 16,
   "metadata": {},
   "outputs": [],
   "source": [
    "# Connect to DuckDB\n",
    "con = duckdb.connect('places.db')"
   ]
  },
  {
   "cell_type": "code",
   "execution_count": 17,
   "metadata": {},
   "outputs": [],
   "source": [
    "df = con.execute('SELECT * FROM places').fetchdf()"
   ]
  },
  {
   "cell_type": "code",
   "execution_count": 19,
   "metadata": {},
   "outputs": [
    {
     "data": {
      "text/html": [
       "<div>\n",
       "<style scoped>\n",
       "    .dataframe tbody tr th:only-of-type {\n",
       "        vertical-align: middle;\n",
       "    }\n",
       "\n",
       "    .dataframe tbody tr th {\n",
       "        vertical-align: top;\n",
       "    }\n",
       "\n",
       "    .dataframe thead th {\n",
       "        text-align: right;\n",
       "    }\n",
       "</style>\n",
       "<table border=\"1\" class=\"dataframe\">\n",
       "  <thead>\n",
       "    <tr style=\"text-align: right;\">\n",
       "      <th></th>\n",
       "      <th>place_id</th>\n",
       "      <th>name</th>\n",
       "      <th>address</th>\n",
       "      <th>latitude</th>\n",
       "      <th>longitude</th>\n",
       "      <th>website</th>\n",
       "    </tr>\n",
       "  </thead>\n",
       "  <tbody>\n",
       "    <tr>\n",
       "      <th>0</th>\n",
       "      <td>ChIJVyzznc1IlUcREG0F0dbRAAQ</td>\n",
       "      <td>Luxembourg</td>\n",
       "      <td>Luxembourg</td>\n",
       "      <td>49.611621</td>\n",
       "      <td>6.131935</td>\n",
       "      <td>N/A</td>\n",
       "    </tr>\n",
       "    <tr>\n",
       "      <th>1</th>\n",
       "      <td>ChIJ3e9sj9VIlUcRUU6bnYZ2tcE</td>\n",
       "      <td>Hôtel Parc Belle-Vue</td>\n",
       "      <td>5 Avenue Marie-Thérèse, Luxembourg</td>\n",
       "      <td>49.607684</td>\n",
       "      <td>6.122800</td>\n",
       "      <td>N/A</td>\n",
       "    </tr>\n",
       "    <tr>\n",
       "      <th>2</th>\n",
       "      <td>ChIJiVm9mNZFlUcR1lpH199XBOA</td>\n",
       "      <td>Hôtel Empire</td>\n",
       "      <td>34 Place de la Gare, Luxembourg</td>\n",
       "      <td>49.599603</td>\n",
       "      <td>6.132795</td>\n",
       "      <td>N/A</td>\n",
       "    </tr>\n",
       "    <tr>\n",
       "      <th>3</th>\n",
       "      <td>ChIJ6VucqxJPlUcROccW2iDb5Bw</td>\n",
       "      <td>Parc Hotel Alvisse</td>\n",
       "      <td>120 Route d'Echternach, Luxembourg</td>\n",
       "      <td>49.639720</td>\n",
       "      <td>6.154082</td>\n",
       "      <td>N/A</td>\n",
       "    </tr>\n",
       "    <tr>\n",
       "      <th>4</th>\n",
       "      <td>ChIJQVrlNdNIlUcRa3v0FrkGQ-g</td>\n",
       "      <td>Hotel Vauban</td>\n",
       "      <td>10 Place Guillaume II, Luxembourg</td>\n",
       "      <td>49.610940</td>\n",
       "      <td>6.130641</td>\n",
       "      <td>N/A</td>\n",
       "    </tr>\n",
       "    <tr>\n",
       "      <th>...</th>\n",
       "      <td>...</td>\n",
       "      <td>...</td>\n",
       "      <td>...</td>\n",
       "      <td>...</td>\n",
       "      <td>...</td>\n",
       "      <td>...</td>\n",
       "    </tr>\n",
       "    <tr>\n",
       "      <th>115</th>\n",
       "      <td>ChIJSx2TDvL9v0cRcmZA9CXdmHE</td>\n",
       "      <td>Usträicherbetrieb Ludes s.à r.l.</td>\n",
       "      <td>1 Am Walebroch, Dikrech</td>\n",
       "      <td>49.862527</td>\n",
       "      <td>6.145311</td>\n",
       "      <td>N/A</td>\n",
       "    </tr>\n",
       "    <tr>\n",
       "      <th>116</th>\n",
       "      <td>ChIJO8nKoZVVlUcRsxqxPkmUGuU</td>\n",
       "      <td>CONVIS s.c.</td>\n",
       "      <td>4 Zone Artisanale Et Commerciale, Ettelbruck</td>\n",
       "      <td>49.839596</td>\n",
       "      <td>6.094361</td>\n",
       "      <td>N/A</td>\n",
       "    </tr>\n",
       "    <tr>\n",
       "      <th>117</th>\n",
       "      <td>ChIJH5DxzJJVlUcR4UcJRdtqeGo</td>\n",
       "      <td>Voyages Flammang</td>\n",
       "      <td>34 Grand-Rue, Ettelbruck</td>\n",
       "      <td>49.846491</td>\n",
       "      <td>6.099198</td>\n",
       "      <td>N/A</td>\n",
       "    </tr>\n",
       "    <tr>\n",
       "      <th>118</th>\n",
       "      <td>ChIJNUfTgxhXlUcRtC9JDOkbWU0</td>\n",
       "      <td>Administration Communale de Nommern</td>\n",
       "      <td>31 Rue Principale, Nommern</td>\n",
       "      <td>49.794824</td>\n",
       "      <td>6.173374</td>\n",
       "      <td>N/A</td>\n",
       "    </tr>\n",
       "    <tr>\n",
       "      <th>119</th>\n",
       "      <td>ChIJCYhMuDpUlUcRPHsGWc4ke0A</td>\n",
       "      <td>Constructions Métalliques Arendt SA</td>\n",
       "      <td>ZONE INDUSTRIELLE PIRET, 7, B.P. 2, Colmar-Berg</td>\n",
       "      <td>49.803862</td>\n",
       "      <td>6.101518</td>\n",
       "      <td>N/A</td>\n",
       "    </tr>\n",
       "  </tbody>\n",
       "</table>\n",
       "<p>120 rows × 6 columns</p>\n",
       "</div>"
      ],
      "text/plain": [
       "                        place_id                                 name  \\\n",
       "0    ChIJVyzznc1IlUcREG0F0dbRAAQ                           Luxembourg   \n",
       "1    ChIJ3e9sj9VIlUcRUU6bnYZ2tcE                 Hôtel Parc Belle-Vue   \n",
       "2    ChIJiVm9mNZFlUcR1lpH199XBOA                         Hôtel Empire   \n",
       "3    ChIJ6VucqxJPlUcROccW2iDb5Bw                   Parc Hotel Alvisse   \n",
       "4    ChIJQVrlNdNIlUcRa3v0FrkGQ-g                         Hotel Vauban   \n",
       "..                           ...                                  ...   \n",
       "115  ChIJSx2TDvL9v0cRcmZA9CXdmHE     Usträicherbetrieb Ludes s.à r.l.   \n",
       "116  ChIJO8nKoZVVlUcRsxqxPkmUGuU                          CONVIS s.c.   \n",
       "117  ChIJH5DxzJJVlUcR4UcJRdtqeGo                     Voyages Flammang   \n",
       "118  ChIJNUfTgxhXlUcRtC9JDOkbWU0  Administration Communale de Nommern   \n",
       "119  ChIJCYhMuDpUlUcRPHsGWc4ke0A  Constructions Métalliques Arendt SA   \n",
       "\n",
       "                                             address   latitude  longitude  \\\n",
       "0                                         Luxembourg  49.611621   6.131935   \n",
       "1                 5 Avenue Marie-Thérèse, Luxembourg  49.607684   6.122800   \n",
       "2                    34 Place de la Gare, Luxembourg  49.599603   6.132795   \n",
       "3                 120 Route d'Echternach, Luxembourg  49.639720   6.154082   \n",
       "4                  10 Place Guillaume II, Luxembourg  49.610940   6.130641   \n",
       "..                                               ...        ...        ...   \n",
       "115                          1 Am Walebroch, Dikrech  49.862527   6.145311   \n",
       "116     4 Zone Artisanale Et Commerciale, Ettelbruck  49.839596   6.094361   \n",
       "117                         34 Grand-Rue, Ettelbruck  49.846491   6.099198   \n",
       "118                       31 Rue Principale, Nommern  49.794824   6.173374   \n",
       "119  ZONE INDUSTRIELLE PIRET, 7, B.P. 2, Colmar-Berg  49.803862   6.101518   \n",
       "\n",
       "    website  \n",
       "0       N/A  \n",
       "1       N/A  \n",
       "2       N/A  \n",
       "3       N/A  \n",
       "4       N/A  \n",
       "..      ...  \n",
       "115     N/A  \n",
       "116     N/A  \n",
       "117     N/A  \n",
       "118     N/A  \n",
       "119     N/A  \n",
       "\n",
       "[120 rows x 6 columns]"
      ]
     },
     "execution_count": 19,
     "metadata": {},
     "output_type": "execute_result"
    }
   ],
   "source": [
    "df"
   ]
  },
  {
   "cell_type": "code",
   "execution_count": 15,
   "metadata": {},
   "outputs": [],
   "source": [
    "con.close()"
   ]
  },
  {
   "cell_type": "code",
   "execution_count": 5,
   "metadata": {},
   "outputs": [
    {
     "name": "stdout",
     "output_type": "stream",
     "text": [
      "['Luxembourg']\n"
     ]
    }
   ],
   "source": [
    "def get_cities_towns(api_key):\n",
    "    url = f'https://maps.googleapis.com/maps/api/geocode/json?address=Luxembourg&key={api_key}'\n",
    "    response = requests.get(url)\n",
    "    data = response.json()\n",
    "    \n",
    "    if data['status'] == 'OK':\n",
    "        results = data['results']\n",
    "        places = []\n",
    "        for result in results:\n",
    "            places.append(result['formatted_address'])\n",
    "        return places\n",
    "    else:\n",
    "        print(f\"Error: {data['status']}\")\n",
    "\n",
    "# Replace 'YOUR_API_KEY' with your actual Google Maps API key\n",
    "cities_towns = get_cities_towns(API_KEY)\n",
    "print(cities_towns)\n"
   ]
  },
  {
   "cell_type": "code",
   "execution_count": null,
   "metadata": {},
   "outputs": [],
   "source": []
  }
 ],
 "metadata": {
  "kernelspec": {
   "display_name": "Python 3",
   "language": "python",
   "name": "python3"
  },
  "language_info": {
   "codemirror_mode": {
    "name": "ipython",
    "version": 3
   },
   "file_extension": ".py",
   "mimetype": "text/x-python",
   "name": "python",
   "nbconvert_exporter": "python",
   "pygments_lexer": "ipython3",
   "version": "3.12.3"
  }
 },
 "nbformat": 4,
 "nbformat_minor": 2
}
