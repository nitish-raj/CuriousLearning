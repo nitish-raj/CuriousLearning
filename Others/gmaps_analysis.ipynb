{
 "cells": [
  {
   "cell_type": "code",
   "execution_count": 1,
   "metadata": {},
   "outputs": [
    {
     "name": "stdout",
     "output_type": "stream",
     "text": [
      "Deploy Streamlit apps for free on Ploomber Cloud! Learn more: https://ploomber.io/s/signup\n"
     ]
    }
   ],
   "source": [
    "from dataclasses import dataclass\n",
    "import requests\n",
    "import time\n",
    "import duckdb\n",
    "import pandas as pd\n",
    "from configparser import ConfigParser\n",
    "\n",
    "%load_ext sql"
   ]
  },
  {
   "cell_type": "code",
   "execution_count": null,
   "metadata": {},
   "outputs": [],
   "source": [
    "config = ConfigParser()\n",
    "config.read(\"../.config\")"
   ]
  },
  {
   "cell_type": "code",
   "execution_count": null,
   "metadata": {},
   "outputs": [],
   "source": [
    "API_KEY = config['GCP']['API_KEY']\n",
    "radius = 1500  # in meters\n",
    "place_type = 'shopping'  # Example place type\n",
    "address = 'Luxembourg City, Luxembourg'\n"
   ]
  },
  {
   "cell_type": "code",
   "execution_count": null,
   "metadata": {},
   "outputs": [],
   "source": [
    "def format_coordinates(latitude, longitude):\n",
    "    return f\"{latitude},{longitude}\"\n",
    "\n",
    "def get_coordinates(api_key, address):\n",
    "    url = f\"https://maps.googleapis.com/maps/api/geocode/json?address={address}&key={api_key}\"\n",
    "    response = requests.get(url)\n",
    "    if response.status_code == 200:\n",
    "        data = response.json()\n",
    "        if data['status'] == 'OK':\n",
    "            location = data['results'][0]['geometry']['location']\n",
    "            return location['lat'], location['lng']\n",
    "        else:\n",
    "            print(f\"Error in response: {data['status']}\")\n",
    "            return None, None\n",
    "    else:\n",
    "        print(f\"HTTP error: {response.status_code}\")\n",
    "        return None, None\n",
    "\n",
    "\n",
    "latitude, longitude = get_coordinates(API_KEY, address)\n",
    "\n",
    "if latitude and longitude:\n",
    "    formatted_location = format_coordinates(latitude, longitude)\n",
    "    # print(formatted_location)  # Output will be the coordinates of Luxembourg City\n",
    "else:\n",
    "    print(\"Could not retrieve coordinates.\")\n"
   ]
  },
  {
   "cell_type": "code",
   "execution_count": null,
   "metadata": {},
   "outputs": [],
   "source": [
    "# url = f\"https://maps.googleapis.com/maps/api/place/nearbysearch/json?location={formatted_location}&radius={radius}&key={API_KEY}\"\n",
    "url = f\"https://maps.googleapis.com/maps/api/place/nearbysearch/json?location={formatted_location}&radius={radius}&type={place_type}&key={API_KEY}\"\n",
    "\n",
    "response = requests.get(url)\n",
    "places = response.json()\n",
    "\n",
    "for place in places['results']:\n",
    "    print(f\"Name: {place['name']}\")\n",
    "    print(f\"Address: {place.get('vicinity', 'N/A')}\")\n",
    "    print(f\"Place ID: {place['place_id']}\")\n",
    "    print('---')\n"
   ]
  },
  {
   "cell_type": "code",
   "execution_count": null,
   "metadata": {},
   "outputs": [],
   "source": [
    "places['results'][0]"
   ]
  },
  {
   "cell_type": "code",
   "execution_count": null,
   "metadata": {},
   "outputs": [],
   "source": [
    "place_id = 'ChIJ3e9sj9VIlUcRUU6bnYZ2tcE'  # Example place ID\n",
    "\n",
    "details_url = f\"https://maps.googleapis.com/maps/api/place/details/json?place_id={place_id}&key={API_KEY}\"\n",
    "\n",
    "details_response = requests.get(details_url)\n",
    "place_details = details_response.json()\n",
    "\n",
    "\n",
    "print(f\"Name: {place_details['result']['name']}\")\n",
    "print(f\"Address: {place_details['result']['formatted_address']}\")\n",
    "print(f\"Phone Number: {place_details['result'].get('formatted_phone_number', 'N/A')}\")\n",
    "print(f\"Website: {place_details['result'].get('website', 'N/A')}\")\n"
   ]
  },
  {
   "cell_type": "code",
   "execution_count": null,
   "metadata": {},
   "outputs": [],
   "source": [
    "place_details['result']"
   ]
  },
  {
   "cell_type": "code",
   "execution_count": 7,
   "metadata": {},
   "outputs": [],
   "source": [
    "# Connect to DuckDB\n",
    "# con = duckdb.connect('places.db')\n",
    "# df = con.execute('SELECT * FROM places').fetchdf()"
   ]
  },
  {
   "cell_type": "code",
   "execution_count": 12,
   "metadata": {},
   "outputs": [],
   "source": [
    "conn = duckdb.connect('places.db')\n",
    "%sql conn --alias duckdb"
   ]
  },
  {
   "cell_type": "code",
   "execution_count": 16,
   "metadata": {},
   "outputs": [
    {
     "data": {
      "text/html": [
       "<span style=\"None\">Running query in &#x27;duckdb&#x27;</span>"
      ],
      "text/plain": [
       "Running query in 'duckdb'"
      ]
     },
     "metadata": {},
     "output_type": "display_data"
    },
    {
     "data": {
      "text/html": [
       "<table>\n",
       "    <thead>\n",
       "        <tr>\n",
       "            <th>place_id</th>\n",
       "            <th>name</th>\n",
       "            <th>vicinity</th>\n",
       "            <th>latitude</th>\n",
       "            <th>longitude</th>\n",
       "        </tr>\n",
       "    </thead>\n",
       "    <tbody>\n",
       "        <tr>\n",
       "            <td>ChIJtZdt6IJVlUcRgHIF0dbRAAQ</td>\n",
       "            <td>Ettelbruck</td>\n",
       "            <td>Ettelbruck</td>\n",
       "            <td>49.8442568</td>\n",
       "            <td>6.0984783</td>\n",
       "        </tr>\n",
       "        <tr>\n",
       "            <td>ChIJtdx-iY39v0cRtMZ0E03pqw0</td>\n",
       "            <td>Hotel du Parc</td>\n",
       "            <td>28 Avenue de la Gare, Diekirch</td>\n",
       "            <td>49.8659659</td>\n",
       "            <td>6.158462</td>\n",
       "        </tr>\n",
       "        <tr>\n",
       "            <td>ChIJ4-vpDmZRlUcRFfOuBiVpwU4</td>\n",
       "            <td>Hostellerie Val Fleuri</td>\n",
       "            <td>28 Rue Lohr, Mersch</td>\n",
       "            <td>49.750239</td>\n",
       "            <td>6.114546000000001</td>\n",
       "        </tr>\n",
       "        <tr>\n",
       "            <td>ChIJm-fLYWJRlUcRGxBrch-VVA8</td>\n",
       "            <td>Institute National Des Langues Luxembourg - Site Mersch</td>\n",
       "            <td>57 Rue Grande-Duchesse Charlotte, Mersch</td>\n",
       "            <td>49.74798329999999</td>\n",
       "            <td>6.104214599999999</td>\n",
       "        </tr>\n",
       "        <tr>\n",
       "            <td>ChIJASJryvpWlUcRkVGQwjsSb3E</td>\n",
       "            <td>Epicerie am Duerf</td>\n",
       "            <td>17 Rue Principale</td>\n",
       "            <td>49.8045701</td>\n",
       "            <td>6.154338300000001</td>\n",
       "        </tr>\n",
       "        <tr>\n",
       "            <td>ChIJI3SHyuBZlUcR_PeU10XZHXE</td>\n",
       "            <td>Youth Hostel Larochette</td>\n",
       "            <td>45 Rue Osterbour, Larochette</td>\n",
       "            <td>49.789296</td>\n",
       "            <td>6.217893000000001</td>\n",
       "        </tr>\n",
       "        <tr>\n",
       "            <td>ChIJ-Wcy7ZP9v0cRGbJr1d4ifpA</td>\n",
       "            <td>Restaurant La Fondue</td>\n",
       "            <td>12 Esplanade, Diekirch</td>\n",
       "            <td>49.86997659999999</td>\n",
       "            <td>6.159214599999999</td>\n",
       "        </tr>\n",
       "        <tr>\n",
       "            <td>ChIJ-5tgrVpVlUcRDlMJIB-3oY8</td>\n",
       "            <td>Oa6 Centre de Santé et de Bien-Etre</td>\n",
       "            <td>B, 13, Route d'Arlon</td>\n",
       "            <td>49.8470581</td>\n",
       "            <td>6.033528599999999</td>\n",
       "        </tr>\n",
       "        <tr>\n",
       "            <td>ChIJBdMVYVxRlUcRIj_mKYeA9jg</td>\n",
       "            <td>Hôtel Martha Mersch Luxembourg</td>\n",
       "            <td>2 Am Kaesch</td>\n",
       "            <td>49.7593891</td>\n",
       "            <td>6.1147671</td>\n",
       "        </tr>\n",
       "        <tr>\n",
       "            <td>ChIJ68K9bx3-v0cR7StEVFXoIgA</td>\n",
       "            <td>Hôtel-Restaurant Dahm</td>\n",
       "            <td>Sûre, sur, 57 Porte des Ardennes, Erpeldange-sur-Sûre</td>\n",
       "            <td>49.8653099</td>\n",
       "            <td>6.113130399999998</td>\n",
       "        </tr>\n",
       "    </tbody>\n",
       "</table>\n",
       "<span style=\"font-style:italic;text-align:center;\">Truncated to <a href=\"https://jupysql.ploomber.io/en/latest/api/configuration.html#displaylimit\">displaylimit</a> of 10.</span>"
      ],
      "text/plain": [
       "+-----------------------------+---------------------------------------------------------+-------------------------------------------------------+-------------------+-------------------+\n",
       "|           place_id          |                           name                          |                        vicinity                       |      latitude     |     longitude     |\n",
       "+-----------------------------+---------------------------------------------------------+-------------------------------------------------------+-------------------+-------------------+\n",
       "| ChIJtZdt6IJVlUcRgHIF0dbRAAQ |                        Ettelbruck                       |                       Ettelbruck                      |     49.8442568    |     6.0984783     |\n",
       "| ChIJtdx-iY39v0cRtMZ0E03pqw0 |                      Hotel du Parc                      |             28 Avenue de la Gare, Diekirch            |     49.8659659    |      6.158462     |\n",
       "| ChIJ4-vpDmZRlUcRFfOuBiVpwU4 |                  Hostellerie Val Fleuri                 |                  28 Rue Lohr, Mersch                  |     49.750239     | 6.114546000000001 |\n",
       "| ChIJm-fLYWJRlUcRGxBrch-VVA8 | Institute National Des Langues Luxembourg - Site Mersch |        57 Rue Grande-Duchesse Charlotte, Mersch       | 49.74798329999999 | 6.104214599999999 |\n",
       "| ChIJASJryvpWlUcRkVGQwjsSb3E |                    Epicerie am Duerf                    |                   17 Rue Principale                   |     49.8045701    | 6.154338300000001 |\n",
       "| ChIJI3SHyuBZlUcR_PeU10XZHXE |                 Youth Hostel Larochette                 |              45 Rue Osterbour, Larochette             |     49.789296     | 6.217893000000001 |\n",
       "| ChIJ-Wcy7ZP9v0cRGbJr1d4ifpA |                   Restaurant La Fondue                  |                 12 Esplanade, Diekirch                | 49.86997659999999 | 6.159214599999999 |\n",
       "| ChIJ-5tgrVpVlUcRDlMJIB-3oY8 |           Oa6 Centre de Santé et de Bien-Etre           |                  B, 13, Route d'Arlon                 |     49.8470581    | 6.033528599999999 |\n",
       "| ChIJBdMVYVxRlUcRIj_mKYeA9jg |              Hôtel Martha Mersch Luxembourg             |                      2 Am Kaesch                      |     49.7593891    |     6.1147671     |\n",
       "| ChIJ68K9bx3-v0cR7StEVFXoIgA |                  Hôtel-Restaurant Dahm                  | Sûre, sur, 57 Porte des Ardennes, Erpeldange-sur-Sûre |     49.8653099    | 6.113130399999998 |\n",
       "+-----------------------------+---------------------------------------------------------+-------------------------------------------------------+-------------------+-------------------+\n",
       "Truncated to displaylimit of 10."
      ]
     },
     "execution_count": 16,
     "metadata": {},
     "output_type": "execute_result"
    }
   ],
   "source": [
    "%%sql\n",
    "select * from  places;\n"
   ]
  },
  {
   "cell_type": "code",
   "execution_count": 11,
   "metadata": {},
   "outputs": [],
   "source": [
    "# con.close()\n",
    "conn.close()"
   ]
  },
  {
   "cell_type": "code",
   "execution_count": null,
   "metadata": {},
   "outputs": [],
   "source": [
    "def get_cities_towns(api_key):\n",
    "    url = f'https://maps.googleapis.com/maps/api/geocode/json?address=Luxembourg&key={api_key}'\n",
    "    response = requests.get(url)\n",
    "    data = response.json()\n",
    "    \n",
    "    if data['status'] == 'OK':\n",
    "        results = data['results']\n",
    "        places = []\n",
    "        for result in results:\n",
    "            places.append(result['formatted_address'])\n",
    "        return places\n",
    "    else:\n",
    "        print(f\"Error: {data['status']}\")\n",
    "\n",
    "\n",
    "cities_towns = get_cities_towns(API_KEY)\n",
    "print(cities_towns)\n"
   ]
  }
 ],
 "metadata": {
  "kernelspec": {
   "display_name": "Python 3",
   "language": "python",
   "name": "python3"
  },
  "language_info": {
   "codemirror_mode": {
    "name": "ipython",
    "version": 3
   },
   "file_extension": ".py",
   "mimetype": "text/x-python",
   "name": "python",
   "nbconvert_exporter": "python",
   "pygments_lexer": "ipython3",
   "version": "3.12.3"
  }
 },
 "nbformat": 4,
 "nbformat_minor": 2
}
